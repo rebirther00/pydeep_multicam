{
 "cells": [
  {
   "cell_type": "markdown",
   "id": "4087bfb0",
   "metadata": {},
   "source": [
    "# Day 5"
   ]
  },
  {
   "cell_type": "code",
   "execution_count": 1,
   "id": "8a56d582",
   "metadata": {},
   "outputs": [],
   "source": [
    "import numpy as np\n",
    "import pandas as pd\n",
    "import matplotlib.pyplot as plt"
   ]
  },
  {
   "cell_type": "markdown",
   "id": "ca82403c",
   "metadata": {},
   "source": [
    "## 역전파 신경망"
   ]
  },
  {
   "cell_type": "code",
   "execution_count": 2,
   "id": "5b8cae45",
   "metadata": {},
   "outputs": [],
   "source": [
    "import numpy as np\n",
    "\n",
    "class Sigmoid:\n",
    "    def __init__(self):\n",
    "        self.y = None\n",
    "\n",
    "    def __call__(self, x):\n",
    "        return self.forward(x)\n",
    "\n",
    "    def forward(self, x):\n",
    "        y = 1 / (1 + np.exp(-x))\n",
    "        self.y = y\n",
    "        return y\n",
    "\n",
    "    def backward(self, dout):\n",
    "        dx = dout * self.y * (1 - self.y)\n",
    "        return dx\n",
    "\n",
    "class 완전연결:\n",
    "    def __init__(self, 입력수, 출력수, 활성화=None):\n",
    "        self.W = np.random.randn(입력수, 출력수)\n",
    "        self.b = np.zeros(출력수)\n",
    "        self.activation = 활성화\n",
    "        self.x = None\n",
    "        self.dW = None\n",
    "        self.db = None\n",
    "\n",
    "    def __call__(self, x):\n",
    "        return self.forward(x)\n",
    "\n",
    "    def forward(self, x):\n",
    "        self.x = x\n",
    "        z = np.dot(x, self.W) + self.b\n",
    "        if self.activation:\n",
    "            return self.activation(z)\n",
    "        return z\n",
    "\n",
    "    def backward(self, dout):\n",
    "        if self.activation:\n",
    "            dout = self.activation.backward(dout)\n",
    "            \n",
    "        self.dW = np.dot(self.x.T, dout)\n",
    "        # 배치 단위 연산 시, 미분값을 모든 표본에 대해 더합니다.\n",
    "        self.db = np.sum(dout, axis=0)\n",
    "        \n",
    "        dx = np.dot(dout, self.W.T)\n",
    "        return dx\n",
    "\n",
    "def softmax(z):\n",
    "    if z.ndim == 1:\n",
    "        z = z.reshape(1, -1)\n",
    "    exp_z = np.exp(z - np.max(z, axis=1).reshape(-1, 1))\n",
    "    return exp_z / np.sum(exp_z, axis=1).reshape(-1, 1)\n",
    "\n",
    "def 교차엔트로피오차(y, y_pred):\n",
    "    delta = 1e-7\n",
    "    배치크기 = y.shape[0]\n",
    "    return -np.sum(y * np.log(y_pred + delta)) / 배치크기\n",
    "\n",
    "class CrossEntropy:\n",
    "    def __init__(self, from_logits=False):\n",
    "        self.y = None\n",
    "        self.from_logits = from_logits\n",
    "        self.proba = None\n",
    "\n",
    "    def __call__(self, z, y):\n",
    "        return self.forward(z, y)\n",
    "\n",
    "    def forward(self, outputs, y):\n",
    "        self.y = y\n",
    "        # z -> softmax -> proba\n",
    "        if not self.from_logits:      \n",
    "            self.proba = outputs\n",
    "        else: # from_logits=True -> 실수값 -> 확률값\n",
    "            self.proba = softmax(outputs)\n",
    "        # CEE(y, proba)\n",
    "        손실 = 교차엔트로피오차(y, self.proba)\n",
    "        return 손실\n",
    "\n",
    "    def backward(self, dout=1):\n",
    "        배치크기 = len(self.y)\n",
    "        dz = self.proba - self.y\n",
    "        return dz / 배치크기\n",
    "\n",
    "class 역전파신경망:\n",
    "    def __init__(self, 손실함수):\n",
    "        self.layers = []\n",
    "        self.loss_func = 손실함수\n",
    "\n",
    "    def add(self, layer):\n",
    "        self.layers.append(layer)\n",
    "\n",
    "    def __call__(self, x):\n",
    "        \"\"\"순전파\"\"\"\n",
    "        outputs = x\n",
    "        for layer in self.layers:\n",
    "            outputs = layer(outputs)\n",
    "        return outputs # z_last\n",
    "\n",
    "    def 손실산출(self, x, y):\n",
    "        outputs = self(x)\n",
    "        손실 = self.loss_func(outputs, y)\n",
    "        return 손실\n",
    "\n",
    "    def fit(self, x, y, 배치크기, 에폭수, 학습률):\n",
    "        에폭당_배치수 = len(x) // 배치크기\n",
    "        학습횟수 = 에폭당_배치수 * 에폭수\n",
    "        print(f'배치크기={배치크기}, 에폭수={에폭수}, 학습횟수={학습횟수}({에폭당_배치수}/에폭)')\n",
    "        손실변화 = []\n",
    "        for 학습 in range(학습횟수):\n",
    "            # 1. 미니 배치\n",
    "            표본수 = S = len(x)\n",
    "            배치색인 = np.random.choice(표본수, 배치크기)\n",
    "            x_batch = x[배치색인]\n",
    "            y_batch = y[배치색인]\n",
    "            # 2. 경사 산출 (역전파)\n",
    "            # 1) 순전파\n",
    "            손실 = self.손실산출(x_batch, y_batch)\n",
    "            손실변화.append(손실)\n",
    "            # 2) 역전파            \n",
    "            dout = self.loss_func.backward(1)\n",
    "            for layer in reversed(self.layers):\n",
    "                dout = layer.backward(dout)\n",
    "            # 3. 매개변수 갱신 (경사 하강)\n",
    "            for layer in self.layers:\n",
    "                if isinstance(layer, 완전연결):\n",
    "                    layer.W -= layer.dW * 학습률\n",
    "                    layer.b -= layer.db * 학습률\n",
    "\n",
    "            if 학습 == 0 or (학습 + 1) % 100 == 0:\n",
    "                print(f'[학습 {학습 + 1}] Loss: {손실:.3f}')\n",
    "        return 손실변화\n"
   ]
  },
  {
   "cell_type": "markdown",
   "id": "b9665fc3",
   "metadata": {},
   "source": [
    "## MNIST"
   ]
  },
  {
   "cell_type": "code",
   "execution_count": 3,
   "id": "788b3280",
   "metadata": {},
   "outputs": [],
   "source": [
    "from torchvision.datasets import MNIST\n",
    "\n",
    "mnist = {}\n",
    "mnist['train'] = MNIST(root='~/data', train=True, download=True)\n",
    "mnist['test'] = MNIST(root='~/data', train=False, download=True)"
   ]
  },
  {
   "cell_type": "code",
   "execution_count": 4,
   "id": "50cadef7",
   "metadata": {},
   "outputs": [
    {
     "name": "stdout",
     "output_type": "stream",
     "text": [
      "(60000, 784) (10000, 784)\n"
     ]
    }
   ],
   "source": [
    "def 전처리(images):\n",
    "    if not isinstance(images, np.ndarray):\n",
    "        images = np.array(images)\n",
    "    X = images.astype(np.float32)\n",
    "    X = X.reshape(-1, 28 * 28)\n",
    "    X = X / 255.0\n",
    "    return X\n",
    "\n",
    "train_data = 전처리(mnist['train'].data)\n",
    "train_target = np.array(mnist['train'].targets)\n",
    "test_data = 전처리(mnist['test'].data)\n",
    "test_target = np.array(mnist['test'].targets)\n",
    "print(train_data.shape, test_data.shape)\n",
    "assert np.isclose(train_data.max(), 1.0) and np.isclose(train_data.min(), 0.0)\n",
    "assert np.isclose(test_data.max(), 1.0) and np.isclose(test_data.min(), 0.0)"
   ]
  },
  {
   "cell_type": "code",
   "execution_count": 5,
   "id": "e505f303",
   "metadata": {},
   "outputs": [
    {
     "name": "stdout",
     "output_type": "stream",
     "text": [
      "배치크기=100, 에폭수=10, 학습횟수=6000(600/에폭)\n",
      "[학습 1] Loss: 8.757\n",
      "[학습 100] Loss: 0.905\n",
      "[학습 200] Loss: 0.602\n",
      "[학습 300] Loss: 0.720\n",
      "[학습 400] Loss: 0.527\n",
      "[학습 500] Loss: 0.333\n",
      "[학습 600] Loss: 0.416\n",
      "[학습 700] Loss: 0.587\n",
      "[학습 800] Loss: 0.539\n",
      "[학습 900] Loss: 0.166\n",
      "[학습 1000] Loss: 0.443\n",
      "[학습 1100] Loss: 0.634\n",
      "[학습 1200] Loss: 0.394\n",
      "[학습 1300] Loss: 0.293\n",
      "[학습 1400] Loss: 0.200\n",
      "[학습 1500] Loss: 0.261\n",
      "[학습 1600] Loss: 0.362\n",
      "[학습 1700] Loss: 0.198\n",
      "[학습 1800] Loss: 0.331\n",
      "[학습 1900] Loss: 0.195\n",
      "[학습 2000] Loss: 0.264\n",
      "[학습 2100] Loss: 0.233\n",
      "[학습 2200] Loss: 0.186\n",
      "[학습 2300] Loss: 0.135\n",
      "[학습 2400] Loss: 0.372\n",
      "[학습 2500] Loss: 0.177\n",
      "[학습 2600] Loss: 0.221\n",
      "[학습 2700] Loss: 0.261\n",
      "[학습 2800] Loss: 0.255\n",
      "[학습 2900] Loss: 0.208\n",
      "[학습 3000] Loss: 0.237\n",
      "[학습 3100] Loss: 0.184\n",
      "[학습 3200] Loss: 0.224\n",
      "[학습 3300] Loss: 0.178\n",
      "[학습 3400] Loss: 0.142\n",
      "[학습 3500] Loss: 0.189\n",
      "[학습 3600] Loss: 0.262\n",
      "[학습 3700] Loss: 0.316\n",
      "[학습 3800] Loss: 0.189\n",
      "[학습 3900] Loss: 0.170\n",
      "[학습 4000] Loss: 0.138\n",
      "[학습 4100] Loss: 0.291\n",
      "[학습 4200] Loss: 0.307\n",
      "[학습 4300] Loss: 0.168\n",
      "[학습 4400] Loss: 0.220\n",
      "[학습 4500] Loss: 0.362\n",
      "[학습 4600] Loss: 0.151\n",
      "[학습 4700] Loss: 0.156\n",
      "[학습 4800] Loss: 0.120\n",
      "[학습 4900] Loss: 0.099\n",
      "[학습 5000] Loss: 0.170\n",
      "[학습 5100] Loss: 0.110\n",
      "[학습 5200] Loss: 0.059\n",
      "[학습 5300] Loss: 0.119\n",
      "[학습 5400] Loss: 0.108\n",
      "[학습 5500] Loss: 0.112\n",
      "[학습 5600] Loss: 0.197\n",
      "[학습 5700] Loss: 0.107\n",
      "[학습 5800] Loss: 0.224\n",
      "[학습 5900] Loss: 0.098\n",
      "[학습 6000] Loss: 0.183\n",
      "정확도: 94.14%\n"
     ]
    },
    {
     "data": {
      "text/plain": [
       "<Axes: >"
      ]
     },
     "metadata": {},
     "output_type": "display_data"
    },
    {
     "data": {
      "image/png": "[encoded data removed]",
      "text/plain": [
       "<Figure size 640x480 with 1 Axes>"
      ]
     },
     "metadata": {},
     "output_type": "display_data"
    }
   ],
   "source": [
    "model = 역전파신경망(손실함수=CrossEntropy(from_logits=True))\n",
    "model.add(완전연결(입력수=28*28, 출력수=50, 활성화=Sigmoid()))\n",
    "model.add(완전연결(입력수=50, 출력수=100, 활성화=Sigmoid()))\n",
    "model.add(완전연결(입력수=100, 출력수=10, 활성화=None))\n",
    "\n",
    "원핫행렬 = np.eye(10)\n",
    "loss_history = model.fit(train_data, 원핫행렬[train_target], 배치크기=100, 에폭수=10, 학습률=1.0)\n",
    "# 평가\n",
    "outputs = model(test_data)\n",
    "y_pred = np.argmax(outputs, axis=1)\n",
    "print(f'정확도: {np.mean(y_pred == test_target):.2%}')\n",
    "# 손실 그래프\n",
    "display(pd.Series(loss_history).rolling(window=100).mean().plot())"
   ]
  },
  {
   "cell_type": "markdown",
   "id": "69968c43",
   "metadata": {},
   "source": [
    "## PyTorch\n",
    "\n",
    "PyTorch = NumPy + GPU + Backprop + ..."
   ]
  },
  {
   "cell_type": "code",
   "execution_count": 6,
   "id": "4585df1e",
   "metadata": {},
   "outputs": [
    {
     "data": {
      "text/html": [
       "<div>\n",
       "<style scoped>\n",
       "    .dataframe tbody tr th:only-of-type {\n",
       "        vertical-align: middle;\n",
       "    }\n",
       "\n",
       "    .dataframe tbody tr th {\n",
       "        vertical-align: top;\n",
       "    }\n",
       "\n",
       "    .dataframe thead th {\n",
       "        text-align: right;\n",
       "    }\n",
       "</style>\n",
       "<table border=\"1\" class=\"dataframe\">\n",
       "  <thead>\n",
       "    <tr style=\"text-align: right;\">\n",
       "      <th></th>\n",
       "      <th>사과단가</th>\n",
       "      <th>사과수량</th>\n",
       "      <th>부가세</th>\n",
       "    </tr>\n",
       "  </thead>\n",
       "  <tbody>\n",
       "    <tr>\n",
       "      <th>순전파</th>\n",
       "      <td>100.0</td>\n",
       "      <td>2.0</td>\n",
       "      <td>0.1</td>\n",
       "    </tr>\n",
       "    <tr>\n",
       "      <th>역전파</th>\n",
       "      <td>2.2</td>\n",
       "      <td>110.0</td>\n",
       "      <td>NaN</td>\n",
       "    </tr>\n",
       "  </tbody>\n",
       "</table>\n",
       "</div>"
      ],
      "text/plain": [
       "      사과단가   사과수량  부가세\n",
       "순전파  100.0    2.0  0.1\n",
       "역전파    2.2  110.0  NaN"
      ]
     },
     "execution_count": 6,
     "metadata": {},
     "output_type": "execute_result"
    }
   ],
   "source": [
    "import torch\n",
    "\n",
    "사과단가 = torch.tensor(100.0, requires_grad=True)\n",
    "사과수량 = torch.tensor(2.0, requires_grad=True)\n",
    "부가세 = torch.tensor(0.1)\n",
    "\n",
    "사과가격 = 사과단가 * 사과수량 * (1 + 부가세)\n",
    "사과가격.backward()\n",
    "\n",
    "pd.DataFrame({\n",
    "    '사과단가': [사과단가.item(), 사과단가.grad.item()],\n",
    "    '사과수량': [사과수량.item(), 사과수량.grad.item()],\n",
    "    '부가세': [부가세.item(), 부가세.grad]\n",
    "}, index=['순전파', '역전파'])"
   ]
  },
  {
   "cell_type": "code",
   "execution_count": 7,
   "id": "7ae497d3",
   "metadata": {},
   "outputs": [
    {
     "name": "stdout",
     "output_type": "stream",
     "text": [
      "tensor(0.3333)\n",
      "0.33\n"
     ]
    }
   ],
   "source": [
    "x = torch.tensor(1/3)\n",
    "print(x) # 텐서 객체\n",
    "print(f'{x.item():.2f}') # 파이썬 숫자형 값 (스칼라)"
   ]
  },
  {
   "cell_type": "markdown",
   "id": "cc2bac62",
   "metadata": {},
   "source": [
    "## 파이토치 신경망"
   ]
  },
  {
   "cell_type": "code",
   "execution_count": 12,
   "id": "0e1354b2",
   "metadata": {},
   "outputs": [
    {
     "name": "stdout",
     "output_type": "stream",
     "text": [
      "torch.Size([2, 3]) torch.Size([3])\n"
     ]
    }
   ],
   "source": [
    "import torch\n",
    "\n",
    "class 다중퍼셉트론:\n",
    "    def __init__(self, 입력수, 출력수, 활성화=None):\n",
    "        self.W = torch.randn(입력수, 출력수, requires_grad=True)\n",
    "        self.b = torch.zeros(출력수, requires_grad=True)\n",
    "        self.활성화 = 활성화\n",
    "\n",
    "    def __call__(self, x):\n",
    "        z = torch.matmul(x, self.W) + self.b\n",
    "        if self.활성화:\n",
    "            z = self.활성화(z)\n",
    "        return z\n",
    "    \n",
    "layer = 다중퍼셉트론(입력수=2, 출력수=3, 활성화=torch.sigmoid)\n",
    "print(layer.W.shape, layer.b.shape)\n",
    "assert layer.W.requires_grad and layer.b.requires_grad\n",
    "\n",
    "X = torch.linspace(0, 1, 10).reshape(5, 2)\n",
    "outputs = layer(X)\n"
   ]
  },
  {
   "cell_type": "code",
   "execution_count": null,
   "id": "993cfb30",
   "metadata": {},
   "outputs": [
    {
     "name": "stdout",
     "output_type": "stream",
     "text": [
      "torch.Size([3, 2]) torch.Size([3])\n"
     ]
    }
   ],
   "source": [
    "import torch.nn as nn # 신경망 모듈\n",
    "\n",
    "layer = nn.Linear(in_features=2, out_features=3)\n",
    "print(layer.weight.shape, layer.bias.shape)\n",
    "assert layer.weight.requires_grad and layer.bias.requires_grad\n",
    "\n",
    "X = torch.linspace(0, 1, 10).reshape(5, 2)\n",
    "assert torch.allclose(layer(X), X @ layer.weight.T + layer.bias)\n",
    "# 활성화 (직접 해야 합니다.)\n",
    "Z = torch.sigmoid(layer(X))"
   ]
  },
  {
   "cell_type": "code",
   "execution_count": 32,
   "id": "d4832e30",
   "metadata": {},
   "outputs": [
    {
     "name": "stdout",
     "output_type": "stream",
     "text": [
      "[에폭 1/100] 손실: 2.351\n",
      "[에폭 2/100] 손실: 2.421\n",
      "[에폭 3/100] 손실: 2.591\n",
      "[에폭 4/100] 손실: 2.496\n",
      "[에폭 5/100] 손실: 2.607\n",
      "[에폭 6/100] 손실: 2.522\n",
      "[에폭 7/100] 손실: 2.591\n",
      "[에폭 8/100] 손실: 2.447\n",
      "[에폭 9/100] 손실: 2.472\n",
      "[에폭 10/100] 손실: 2.411\n",
      "[에폭 11/100] 손실: 2.410\n",
      "[에폭 12/100] 손실: 2.388\n",
      "[에폭 13/100] 손실: 2.378\n",
      "[에폭 14/100] 손실: 2.364\n",
      "[에폭 15/100] 손실: 2.352\n",
      "[에폭 16/100] 손실: 2.345\n",
      "[에폭 17/100] 손실: 2.335\n",
      "[에폭 18/100] 손실: 2.331\n",
      "[에폭 19/100] 손실: 2.324\n",
      "[에폭 20/100] 손실: 2.322\n",
      "[에폭 21/100] 손실: 2.318\n",
      "[에폭 22/100] 손실: 2.314\n",
      "[에폭 23/100] 손실: 2.314\n",
      "[에폭 24/100] 손실: 2.308\n",
      "[에폭 25/100] 손실: 2.310\n",
      "[에폭 26/100] 손실: 2.302\n",
      "[에폭 27/100] 손실: 2.306\n",
      "[에폭 28/100] 손실: 2.298\n",
      "[에폭 29/100] 손실: 2.301\n",
      "[에폭 30/100] 손실: 2.293\n",
      "[에폭 31/100] 손실: 2.297\n",
      "[에폭 32/100] 손실: 2.289\n",
      "[에폭 33/100] 손실: 2.292\n",
      "[에폭 34/100] 손실: 2.285\n",
      "[에폭 35/100] 손실: 2.288\n",
      "[에폭 36/100] 손실: 2.280\n",
      "[에폭 37/100] 손실: 2.283\n",
      "[에폭 38/100] 손실: 2.276\n",
      "[에폭 39/100] 손실: 2.278\n",
      "[에폭 40/100] 손실: 2.270\n",
      "[에폭 41/100] 손실: 2.273\n",
      "[에폭 42/100] 손실: 2.264\n",
      "[에폭 43/100] 손실: 2.266\n",
      "[에폭 44/100] 손실: 2.258\n",
      "[에폭 45/100] 손실: 2.260\n",
      "[에폭 46/100] 손실: 2.250\n",
      "[에폭 47/100] 손실: 2.252\n",
      "[에폭 48/100] 손실: 2.242\n",
      "[에폭 49/100] 손실: 2.243\n",
      "[에폭 50/100] 손실: 2.232\n",
      "[에폭 51/100] 손실: 2.233\n",
      "[에폭 52/100] 손실: 2.220\n",
      "[에폭 53/100] 손실: 2.221\n",
      "[에폭 54/100] 손실: 2.206\n",
      "[에폭 55/100] 손실: 2.208\n",
      "[에폭 56/100] 손실: 2.190\n",
      "[에폭 57/100] 손실: 2.193\n",
      "[에폭 58/100] 손실: 2.172\n",
      "[에폭 59/100] 손실: 2.175\n",
      "[에폭 60/100] 손실: 2.150\n",
      "[에폭 61/100] 손실: 2.155\n",
      "[에폭 62/100] 손실: 2.126\n",
      "[에폭 63/100] 손실: 2.133\n",
      "[에폭 64/100] 손실: 2.098\n",
      "[에폭 65/100] 손실: 2.107\n",
      "[에폭 66/100] 손실: 2.068\n",
      "[에폭 67/100] 손실: 2.078\n",
      "[에폭 68/100] 손실: 2.034\n",
      "[에폭 69/100] 손실: 2.045\n",
      "[에폭 70/100] 손실: 1.996\n",
      "[에폭 71/100] 손실: 2.007\n",
      "[에폭 72/100] 손실: 1.955\n",
      "[에폭 73/100] 손실: 1.965\n",
      "[에폭 74/100] 손실: 1.911\n",
      "[에폭 75/100] 손실: 1.918\n",
      "[에폭 76/100] 손실: 1.862\n",
      "[에폭 77/100] 손실: 1.866\n",
      "[에폭 78/100] 손실: 1.810\n",
      "[에폭 79/100] 손실: 1.810\n",
      "[에폭 80/100] 손실: 1.756\n",
      "[에폭 81/100] 손실: 1.750\n",
      "[에폭 82/100] 손실: 1.699\n",
      "[에폭 83/100] 손실: 1.688\n",
      "[에폭 84/100] 손실: 1.641\n",
      "[에폭 85/100] 손실: 1.624\n",
      "[에폭 86/100] 손실: 1.581\n",
      "[에폭 87/100] 손실: 1.560\n",
      "[에폭 88/100] 손실: 1.522\n",
      "[에폭 89/100] 손실: 1.496\n",
      "[에폭 90/100] 손실: 1.462\n",
      "[에폭 91/100] 손실: 1.434\n",
      "[에폭 92/100] 손실: 1.405\n",
      "[에폭 93/100] 손실: 1.375\n",
      "[에폭 94/100] 손실: 1.351\n",
      "[에폭 95/100] 손실: 1.323\n",
      "[에폭 96/100] 손실: 1.303\n",
      "[에폭 97/100] 손실: 1.280\n",
      "[에폭 98/100] 손실: 1.263\n",
      "[에폭 99/100] 손실: 1.247\n",
      "[에폭 100/100] 손실: 1.232\n",
      "torch.Size([10000, 10])\n",
      "정확도: 58.94%\n"
     ]
    }
   ],
   "source": [
    "def build_model():\n",
    "    model = nn.Sequential(\n",
    "        # 은닉층\n",
    "        nn.Linear(in_features=784, out_features=50),\n",
    "        nn.Sigmoid(), # 비선형 활성화\n",
    "        nn.Linear(in_features=50, out_features=100),\n",
    "        nn.Sigmoid(), # 비선형 활성화\n",
    "        # 출력층\n",
    "        nn.Linear(in_features=100, out_features=10)\n",
    "    )\n",
    "    return model\n",
    "\n",
    "# 학습\n",
    "model = build_model() # 신경망 모델 생성 (초기화)\n",
    "손실함수 = nn.CrossEntropyLoss() # 로짓값을 입력으로 받음, 정답은 정수값 (원핫인코딩 하지 않음)\n",
    "학습률 = 1.0; 학습횟수 = 100\n",
    "\n",
    "train_data = mnist['train'].data.reshape(-1, 28*28).float() / 255.0\n",
    "for 에폭 in range(학습횟수):\n",
    "    손실변화 = []\n",
    "    outputs = model(train_data)\n",
    "    손실 = 손실함수(outputs, mnist['train'].targets)\n",
    "    손실변화.append(손실.item())\n",
    "    print(f'[에폭 {에폭+1}/{학습횟수}] 손실: {손실:.3f}')\n",
    "    # 역전파\n",
    "    손실.backward()\n",
    "    # 매개변수 갱신\n",
    "    with torch.no_grad():\n",
    "        for param in model.parameters():\n",
    "            param -= param.grad * 학습률\n",
    "        model.zero_grad() # 기울기 초기화\n",
    "\n",
    "# 평가\n",
    "test_data = mnist['test'].data.reshape(-1, 28*28).float() / 255.0\n",
    "outputs = model(test_data)\n",
    "print(outputs.shape)\n",
    "y_pred = torch.argmax(outputs, dim=1)\n",
    "print(f'정확도: {torch.mean((y_pred == mnist[\"test\"].targets).float()):.2%}')"
   ]
  },
  {
   "cell_type": "markdown",
   "id": "d515b4d3",
   "metadata": {},
   "source": [
    "## 배치 크기\n",
    "\n",
    "원래보다 작은 크기로도 전체 손실 추정이 가능할 수 있습니다. 선거에서 출구 조사와 비슷합니다."
   ]
  },
  {
   "cell_type": "code",
   "execution_count": 58,
   "id": "e3136dcb",
   "metadata": {},
   "outputs": [
    {
     "data": {
      "text/html": [
       "<div>\n",
       "<style scoped>\n",
       "    .dataframe tbody tr th:only-of-type {\n",
       "        vertical-align: middle;\n",
       "    }\n",
       "\n",
       "    .dataframe tbody tr th {\n",
       "        vertical-align: top;\n",
       "    }\n",
       "\n",
       "    .dataframe thead th {\n",
       "        text-align: right;\n",
       "    }\n",
       "</style>\n",
       "<table border=\"1\" class=\"dataframe\">\n",
       "  <thead>\n",
       "    <tr style=\"text-align: right;\">\n",
       "      <th></th>\n",
       "      <th>1</th>\n",
       "      <th>10</th>\n",
       "      <th>100</th>\n",
       "      <th>600</th>\n",
       "      <th>1000</th>\n",
       "      <th>6000</th>\n",
       "      <th>60000</th>\n",
       "    </tr>\n",
       "  </thead>\n",
       "  <tbody>\n",
       "    <tr>\n",
       "      <th>손실</th>\n",
       "      <td>1.980</td>\n",
       "      <td>2.262</td>\n",
       "      <td>2.328</td>\n",
       "      <td>2.331</td>\n",
       "      <td>2.340</td>\n",
       "      <td>2.330</td>\n",
       "      <td>2.333</td>\n",
       "    </tr>\n",
       "    <tr>\n",
       "      <th>소요시간 (ms)</th>\n",
       "      <td>3.948</td>\n",
       "      <td>0.221</td>\n",
       "      <td>1.411</td>\n",
       "      <td>0.559</td>\n",
       "      <td>0.858</td>\n",
       "      <td>5.644</td>\n",
       "      <td>81.668</td>\n",
       "    </tr>\n",
       "  </tbody>\n",
       "</table>\n",
       "</div>"
      ],
      "text/plain": [
       "               1     10    100    600   1000   6000   60000\n",
       "손실         1.980  2.262  2.328  2.331  2.340  2.330   2.333\n",
       "소요시간 (ms)  3.948  0.221  1.411  0.559  0.858  5.644  81.668"
      ]
     },
     "execution_count": 58,
     "metadata": {},
     "output_type": "execute_result"
    }
   ],
   "source": [
    "import time\n",
    "\n",
    "model = build_model()\n",
    "손실함수 = nn.CrossEntropyLoss()\n",
    "\n",
    "# 처음 시작 시, \"워밍 업\" 단계\n",
    "_ = model(train_data)\n",
    "\n",
    "results = {}\n",
    "# 전체 데이터\n",
    "for 배치크기 in [1, 10, 100, 600, 1000, 6000, len(train_data)]:\n",
    "    # 무작위로 배치 선택\n",
    "    배치색인 = torch.randint(0, len(train_data), (배치크기,))\n",
    "    # print(f'배치크기={배치크기}\\t표본색인: {배치색인[:5].numpy()} ...')\n",
    "    소요시간 = []\n",
    "    for _ in range(5): # 5회 반복 (평균 시간 측정)\n",
    "        start = time.time()\n",
    "        outputs = model(train_data[배치색인])\n",
    "        손실 = 손실함수(outputs, mnist['train'].targets[배치색인])\n",
    "        end = time.time()\n",
    "        소요시간.append(end - start)\n",
    "    results[f'{배치크기}'] = {'손실': 손실.item(), '소요시간 (ms)': np.mean(소요시간) * 1000}\n",
    "\n",
    "pd.DataFrame(results).round(3)"
   ]
  },
  {
   "cell_type": "code",
   "execution_count": null,
   "id": "6a91a158",
   "metadata": {},
   "outputs": [
    {
     "name": "stdout",
     "output_type": "stream",
     "text": [
      "cuda:0\n"
     ]
    }
   ],
   "source": [
    "model = build_model()\n",
    "device = 'cuda' if torch.cuda.is_available() else 'cpu'\n",
    "model.to(device) # 모델을 GPU 또는 CPU로 이동\n",
    "W1 = next(model.parameters()) # 첫 번째 매개변수 (가중치)\n",
    "print(W1.device)"
   ]
  },
  {
   "cell_type": "code",
   "execution_count": 91,
   "id": "04c7ebc0",
   "metadata": {},
   "outputs": [
    {
     "name": "stdout",
     "output_type": "stream",
     "text": [
      "배치크기=600, 에폭수=60, 학습횟수=6000(100/에폭)\n",
      "[에폭 1/60] 0.30s: 손실 1.349\n",
      "[에폭 2/60] 0.27s: 손실 0.553\n",
      "[에폭 3/60] 0.27s: 손실 0.376\n",
      "[에폭 4/60] 0.26s: 손실 0.371\n",
      "[에폭 5/60] 0.25s: 손실 0.328\n",
      "[에폭 6/60] 0.24s: 손실 0.304\n",
      "[에폭 7/60] 0.25s: 손실 0.231\n",
      "[에폭 8/60] 0.26s: 손실 0.235\n",
      "[에폭 9/60] 0.28s: 손실 0.182\n",
      "[에폭 10/60] 0.26s: 손실 0.145\n",
      "[에폭 11/60] 0.27s: 손실 0.136\n",
      "[에폭 12/60] 0.34s: 손실 0.142\n",
      "[에폭 13/60] 0.25s: 손실 0.113\n",
      "[에폭 14/60] 0.23s: 손실 0.151\n",
      "[에폭 15/60] 0.29s: 손실 0.164\n",
      "[에폭 16/60] 0.24s: 손실 0.113\n",
      "[에폭 17/60] 0.26s: 손실 0.092\n",
      "[에폭 18/60] 0.25s: 손실 0.095\n",
      "[에폭 19/60] 0.24s: 손실 0.088\n",
      "[에폭 20/60] 0.24s: 손실 0.106\n",
      "[에폭 21/60] 0.28s: 손실 0.083\n",
      "[에폭 22/60] 0.23s: 손실 0.105\n",
      "[에폭 23/60] 0.24s: 손실 0.070\n",
      "[에폭 24/60] 0.24s: 손실 0.072\n",
      "[에폭 25/60] 0.28s: 손실 0.147\n",
      "[에폭 26/60] 0.24s: 손실 0.068\n",
      "[에폭 27/60] 0.26s: 손실 0.097\n",
      "[에폭 28/60] 0.26s: 손실 0.058\n",
      "[에폭 29/60] 0.26s: 손실 0.077\n",
      "[에폭 30/60] 0.23s: 손실 0.070\n",
      "[에폭 31/60] 0.25s: 손실 0.078\n",
      "[에폭 32/60] 0.24s: 손실 0.066\n",
      "[에폭 33/60] 0.27s: 손실 0.090\n",
      "[에폭 34/60] 0.24s: 손실 0.075\n",
      "[에폭 35/60] 0.26s: 손실 0.057\n",
      "[에폭 36/60] 0.25s: 손실 0.067\n",
      "[에폭 37/60] 0.25s: 손실 0.052\n",
      "[에폭 38/60] 0.24s: 손실 0.084\n",
      "[에폭 39/60] 0.27s: 손실 0.053\n",
      "[에폭 40/60] 0.26s: 손실 0.057\n",
      "[에폭 41/60] 0.26s: 손실 0.074\n",
      "[에폭 42/60] 0.25s: 손실 0.041\n",
      "[에폭 43/60] 0.27s: 손실 0.065\n",
      "[에폭 44/60] 0.25s: 손실 0.065\n",
      "[에폭 45/60] 0.27s: 손실 0.057\n",
      "[에폭 46/60] 0.23s: 손실 0.030\n",
      "[에폭 47/60] 0.26s: 손실 0.036\n",
      "[에폭 48/60] 0.23s: 손실 0.055\n",
      "[에폭 49/60] 0.27s: 손실 0.047\n",
      "[에폭 50/60] 0.28s: 손실 0.041\n",
      "[에폭 51/60] 0.26s: 손실 0.026\n",
      "[에폭 52/60] 0.24s: 손실 0.042\n",
      "[에폭 53/60] 0.25s: 손실 0.039\n",
      "[에폭 54/60] 0.25s: 손실 0.034\n",
      "[에폭 55/60] 0.27s: 손실 0.037\n",
      "[에폭 56/60] 0.26s: 손실 0.044\n",
      "[에폭 57/60] 0.26s: 손실 0.034\n",
      "[에폭 58/60] 0.26s: 손실 0.037\n",
      "[에폭 59/60] 0.28s: 손실 0.024\n",
      "[에폭 60/60] 0.28s: 손실 0.025\n"
     ]
    }
   ],
   "source": [
    "import time\n",
    "\n",
    "model = build_model() # 신경망 모델 생성 (초기화)\n",
    "손실함수 = nn.CrossEntropyLoss() # 로짓값을 입력으로 받음\n",
    "최적화 = torch.optim.SGD(model.parameters(), lr=1.0)\n",
    "\n",
    "에폭수 = 60; 배치크기 = 600\n",
    "에폭당_배치수 = len(train_data) // 배치크기\n",
    "학습횟수 = 에폭당_배치수 * 에폭수\n",
    "print(f'배치크기={배치크기}, 에폭수={에폭수}, 학습횟수={학습횟수}({에폭당_배치수}/에폭)')\n",
    "\n",
    "device = 'cuda' if torch.cuda.is_available() else 'cpu'\n",
    "model.to(device) # 모델을 GPU 또는 CPU로 이동\n",
    "# train_data = train_data.to(device) # 전체 데이터를 GPU로 복사. 권장하지 않음...\n",
    "\n",
    "손실변화 = []; 에폭당_소요시간 = []\n",
    "for 에폭 in range(에폭수):\n",
    "    start = time.time()\n",
    "    for _ in range(에폭당_배치수):\n",
    "        # 미니 배치\n",
    "        배치색인 = torch.randperm(len(train_data))[:배치크기]\n",
    "        # 배치 데이터와 타겟을 GPU로 이동\n",
    "        batch_data = train_data[배치색인].to(device)\n",
    "        batch_target = mnist['train'].targets[배치색인].to(device)\n",
    "        # 순전파\n",
    "        loss = 손실함수(model(batch_data), batch_target)\n",
    "        손실변화.append(loss.item())\n",
    "        # print(f'손실: {손실변화[-1]:.3f}')\n",
    "        # 역전파\n",
    "        loss.backward()\n",
    "        # 매개변수 갱신\n",
    "        최적화.step()\n",
    "        최적화.zero_grad() # 기울기 초기화\n",
    "    end = time.time()\n",
    "    에폭당_소요시간.append(end - start)\n",
    "    print(f'[에폭 {에폭+1}/{에폭수}] {(end - start):.2f}s: 손실 {손실변화[-1]:.3f}')"
   ]
  },
  {
   "cell_type": "markdown",
   "id": "f51d5b91",
   "metadata": {},
   "source": [
    "## Keras\n",
    "\n",
    "신경망 구성/실험을 위한 고수준 API"
   ]
  },
  {
   "cell_type": "code",
   "execution_count": 93,
   "id": "a6c01649",
   "metadata": {},
   "outputs": [
    {
     "name": "stdout",
     "output_type": "stream",
     "text": [
      "PyTorch 2.9.0+cu128\n",
      "Keras 3.12.0\n"
     ]
    }
   ],
   "source": [
    "import os\n",
    "os.environ['KERAS_BACKEND'] = 'torch'\n",
    "\n",
    "import torch\n",
    "import keras\n",
    "\n",
    "print('PyTorch', torch.__version__)\n",
    "print('Keras', keras.__version__)"
   ]
  },
  {
   "cell_type": "code",
   "execution_count": 111,
   "id": "02258cba",
   "metadata": {},
   "outputs": [
    {
     "data": {
      "text/html": [
       "<pre style=\"white-space:pre;overflow-x:auto;line-height:normal;font-family:Menlo,'DejaVu Sans Mono',consolas,'Courier New',monospace\"><span style=\"font-weight: bold\">Model: \"sequential_12\"</span>\n",
       "</pre>\n"
      ],
      "text/plain": [
       "\u001b[1mModel: \"sequential_12\"\u001b[0m\n"
      ]
     },
     "metadata": {},
     "output_type": "display_data"
    },
    {
     "data": {
      "text/html": [
       "<pre style=\"white-space:pre;overflow-x:auto;line-height:normal;font-family:Menlo,'DejaVu Sans Mono',consolas,'Courier New',monospace\">┏━━━━━━━━━━━━━━━━━━━━━━━━━━━━━━━━━┳━━━━━━━━━━━━━━━━━━━━━━━━┳━━━━━━━━━━━━━━━┓\n",
       "┃<span style=\"font-weight: bold\"> Layer (type)                    </span>┃<span style=\"font-weight: bold\"> Output Shape           </span>┃<span style=\"font-weight: bold\">       Param # </span>┃\n",
       "┡━━━━━━━━━━━━━━━━━━━━━━━━━━━━━━━━━╇━━━━━━━━━━━━━━━━━━━━━━━━╇━━━━━━━━━━━━━━━┩\n",
       "│ dense_36 (<span style=\"color: #0087ff; text-decoration-color: #0087ff\">Dense</span>)                │ (<span style=\"color: #00d7ff; text-decoration-color: #00d7ff\">None</span>, <span style=\"color: #00af00; text-decoration-color: #00af00\">50</span>)             │        <span style=\"color: #00af00; text-decoration-color: #00af00\">39,250</span> │\n",
       "├─────────────────────────────────┼────────────────────────┼───────────────┤\n",
       "│ dense_37 (<span style=\"color: #0087ff; text-decoration-color: #0087ff\">Dense</span>)                │ (<span style=\"color: #00d7ff; text-decoration-color: #00d7ff\">None</span>, <span style=\"color: #00af00; text-decoration-color: #00af00\">100</span>)            │         <span style=\"color: #00af00; text-decoration-color: #00af00\">5,100</span> │\n",
       "├─────────────────────────────────┼────────────────────────┼───────────────┤\n",
       "│ dense_38 (<span style=\"color: #0087ff; text-decoration-color: #0087ff\">Dense</span>)                │ (<span style=\"color: #00d7ff; text-decoration-color: #00d7ff\">None</span>, <span style=\"color: #00af00; text-decoration-color: #00af00\">10</span>)             │         <span style=\"color: #00af00; text-decoration-color: #00af00\">1,010</span> │\n",
       "└─────────────────────────────────┴────────────────────────┴───────────────┘\n",
       "</pre>\n"
      ],
      "text/plain": [
       "┏━━━━━━━━━━━━━━━━━━━━━━━━━━━━━━━━━┳━━━━━━━━━━━━━━━━━━━━━━━━┳━━━━━━━━━━━━━━━┓\n",
       "┃\u001b[1m \u001b[0m\u001b[1mLayer (type)                   \u001b[0m\u001b[1m \u001b[0m┃\u001b[1m \u001b[0m\u001b[1mOutput Shape          \u001b[0m\u001b[1m \u001b[0m┃\u001b[1m \u001b[0m\u001b[1m      Param #\u001b[0m\u001b[1m \u001b[0m┃\n",
       "┡━━━━━━━━━━━━━━━━━━━━━━━━━━━━━━━━━╇━━━━━━━━━━━━━━━━━━━━━━━━╇━━━━━━━━━━━━━━━┩\n",
       "│ dense_36 (\u001b[38;5;33mDense\u001b[0m)                │ (\u001b[38;5;45mNone\u001b[0m, \u001b[38;5;34m50\u001b[0m)             │        \u001b[38;5;34m39,250\u001b[0m │\n",
       "├─────────────────────────────────┼────────────────────────┼───────────────┤\n",
       "│ dense_37 (\u001b[38;5;33mDense\u001b[0m)                │ (\u001b[38;5;45mNone\u001b[0m, \u001b[38;5;34m100\u001b[0m)            │         \u001b[38;5;34m5,100\u001b[0m │\n",
       "├─────────────────────────────────┼────────────────────────┼───────────────┤\n",
       "│ dense_38 (\u001b[38;5;33mDense\u001b[0m)                │ (\u001b[38;5;45mNone\u001b[0m, \u001b[38;5;34m10\u001b[0m)             │         \u001b[38;5;34m1,010\u001b[0m │\n",
       "└─────────────────────────────────┴────────────────────────┴───────────────┘\n"
      ]
     },
     "metadata": {},
     "output_type": "display_data"
    },
    {
     "data": {
      "text/html": [
       "<pre style=\"white-space:pre;overflow-x:auto;line-height:normal;font-family:Menlo,'DejaVu Sans Mono',consolas,'Courier New',monospace\"><span style=\"font-weight: bold\"> Total params: </span><span style=\"color: #00af00; text-decoration-color: #00af00\">45,360</span> (177.19 KB)\n",
       "</pre>\n"
      ],
      "text/plain": [
       "\u001b[1m Total params: \u001b[0m\u001b[38;5;34m45,360\u001b[0m (177.19 KB)\n"
      ]
     },
     "metadata": {},
     "output_type": "display_data"
    },
    {
     "data": {
      "text/html": [
       "<pre style=\"white-space:pre;overflow-x:auto;line-height:normal;font-family:Menlo,'DejaVu Sans Mono',consolas,'Courier New',monospace\"><span style=\"font-weight: bold\"> Trainable params: </span><span style=\"color: #00af00; text-decoration-color: #00af00\">45,360</span> (177.19 KB)\n",
       "</pre>\n"
      ],
      "text/plain": [
       "\u001b[1m Trainable params: \u001b[0m\u001b[38;5;34m45,360\u001b[0m (177.19 KB)\n"
      ]
     },
     "metadata": {},
     "output_type": "display_data"
    },
    {
     "data": {
      "text/html": [
       "<pre style=\"white-space:pre;overflow-x:auto;line-height:normal;font-family:Menlo,'DejaVu Sans Mono',consolas,'Courier New',monospace\"><span style=\"font-weight: bold\"> Non-trainable params: </span><span style=\"color: #00af00; text-decoration-color: #00af00\">0</span> (0.00 B)\n",
       "</pre>\n"
      ],
      "text/plain": [
       "\u001b[1m Non-trainable params: \u001b[0m\u001b[38;5;34m0\u001b[0m (0.00 B)\n"
      ]
     },
     "metadata": {},
     "output_type": "display_data"
    },
    {
     "name": "stdout",
     "output_type": "stream",
     "text": [
      "Epoch 1/10\n",
      "\u001b[1m600/600\u001b[0m \u001b[32m━━━━━━━━━━━━━━━━━━━━\u001b[0m\u001b[37m\u001b[0m \u001b[1m6s\u001b[0m 10ms/step - accuracy: 0.8031 - loss: 0.6124\n",
      "Epoch 2/10\n",
      "\u001b[1m600/600\u001b[0m \u001b[32m━━━━━━━━━━━━━━━━━━━━\u001b[0m\u001b[37m\u001b[0m \u001b[1m6s\u001b[0m 10ms/step - accuracy: 0.9338 - loss: 0.2213\n",
      "Epoch 3/10\n",
      "\u001b[1m600/600\u001b[0m \u001b[32m━━━━━━━━━━━━━━━━━━━━\u001b[0m\u001b[37m\u001b[0m \u001b[1m6s\u001b[0m 9ms/step - accuracy: 0.9522 - loss: 0.1598\n",
      "Epoch 4/10\n",
      "\u001b[1m600/600\u001b[0m \u001b[32m━━━━━━━━━━━━━━━━━━━━\u001b[0m\u001b[37m\u001b[0m \u001b[1m6s\u001b[0m 10ms/step - accuracy: 0.9622 - loss: 0.1278\n",
      "Epoch 5/10\n",
      "\u001b[1m600/600\u001b[0m \u001b[32m━━━━━━━━━━━━━━━━━━━━\u001b[0m\u001b[37m\u001b[0m \u001b[1m6s\u001b[0m 10ms/step - accuracy: 0.9674 - loss: 0.1079\n",
      "Epoch 6/10\n",
      "\u001b[1m600/600\u001b[0m \u001b[32m━━━━━━━━━━━━━━━━━━━━\u001b[0m\u001b[37m\u001b[0m \u001b[1m6s\u001b[0m 10ms/step - accuracy: 0.9716 - loss: 0.0922\n",
      "Epoch 7/10\n",
      "\u001b[1m600/600\u001b[0m \u001b[32m━━━━━━━━━━━━━━━━━━━━\u001b[0m\u001b[37m\u001b[0m \u001b[1m6s\u001b[0m 9ms/step - accuracy: 0.9753 - loss: 0.0820\n",
      "Epoch 8/10\n",
      "\u001b[1m600/600\u001b[0m \u001b[32m━━━━━━━━━━━━━━━━━━━━\u001b[0m\u001b[37m\u001b[0m \u001b[1m6s\u001b[0m 10ms/step - accuracy: 0.9778 - loss: 0.0738\n",
      "Epoch 9/10\n",
      "\u001b[1m600/600\u001b[0m \u001b[32m━━━━━━━━━━━━━━━━━━━━\u001b[0m\u001b[37m\u001b[0m \u001b[1m6s\u001b[0m 10ms/step - accuracy: 0.9800 - loss: 0.0655\n",
      "Epoch 10/10\n",
      "\u001b[1m600/600\u001b[0m \u001b[32m━━━━━━━━━━━━━━━━━━━━\u001b[0m\u001b[37m\u001b[0m \u001b[1m6s\u001b[0m 10ms/step - accuracy: 0.9813 - loss: 0.0598\n"
     ]
    }
   ],
   "source": [
    "import keras\n",
    "from keras import layers\n",
    "\n",
    "def build_model():\n",
    "    model = keras.Sequential([\n",
    "        keras.Input(shape=(784,)), # 입력 형식\n",
    "        layers.Dense(50, activation='sigmoid'), # nn.Linear + nn.Sigmoid\n",
    "        layers.Dense(100, activation='sigmoid'),\n",
    "        layers.Dense(10)\n",
    "    ])\n",
    "    return model\n",
    "\n",
    "model = build_model()\n",
    "model.summary()\n",
    "model.compile(\n",
    "    loss=keras.losses.SparseCategoricalCrossentropy(from_logits=True),\n",
    "    optimizer=keras.optimizers.SGD(learning_rate=1.0),\n",
    "    metrics=['accuracy']\n",
    ")\n",
    "\n",
    "history = model.fit(train_data, mnist['train'].targets, batch_size=100, epochs=10)"
   ]
  },
  {
   "cell_type": "code",
   "execution_count": 109,
   "id": "6c59c6ed",
   "metadata": {},
   "outputs": [
    {
     "name": "stdout",
     "output_type": "stream",
     "text": [
      "CUDA: True\n",
      "<class 'torch.Tensor'> torch.Size([10000, 10]) cuda:0\n"
     ]
    }
   ],
   "source": [
    "# Keras 연산은 설정된 벡엔드(여기서는 PyTorch)를 사용합니다.\n",
    "# GPU가 가능한 경우, 자동으로 GPU를 사용합니다.\n",
    "print('CUDA:', torch.cuda.is_available())\n",
    "outputs = model(test_data)\n",
    "print(type(outputs), outputs.shape, outputs.device)"
   ]
  },
  {
   "cell_type": "code",
   "execution_count": 121,
   "id": "e3e8d929",
   "metadata": {},
   "outputs": [
    {
     "name": "stdout",
     "output_type": "stream",
     "text": [
      "\u001b[1m  1/313\u001b[0m \u001b[37m━━━━━━━━━━━━━━━━━━━━\u001b[0m \u001b[1m5s\u001b[0m 17ms/step - accuracy: 1.0000 - loss: 0.0195"
     ]
    },
    {
     "name": "stdout",
     "output_type": "stream",
     "text": [
      "\u001b[1m313/313\u001b[0m \u001b[32m━━━━━━━━━━━━━━━━━━━━\u001b[0m\u001b[37m\u001b[0m \u001b[1m3s\u001b[0m 9ms/step - accuracy: 0.9713 - loss: 0.0942\n"
     ]
    },
    {
     "data": {
      "text/plain": [
       "Loss    0.0942\n",
       "Acc     0.9713\n",
       "dtype: float64"
      ]
     },
     "execution_count": 121,
     "metadata": {},
     "output_type": "execute_result"
    }
   ],
   "source": [
    "test_loss, *metrics = model.evaluate(test_data, mnist['test'].targets)\n",
    "results = {'Loss': test_loss}\n",
    "for metric, value in zip(['Acc'], metrics):\n",
    "    results[metric] = value\n",
    "    \n",
    "pd.Series(results).round(4)"
   ]
  },
  {
   "cell_type": "markdown",
   "id": "e2f4d678",
   "metadata": {},
   "source": [
    "## Fashion MNIST\n",
    "\n",
    "1990년대 MNIST는 너무 쉽습니다."
   ]
  },
  {
   "cell_type": "code",
   "execution_count": 124,
   "id": "1634f9e5",
   "metadata": {},
   "outputs": [
    {
     "name": "stdout",
     "output_type": "stream",
     "text": [
      "torch.Size([60000, 28, 28]) torch.Size([10000, 28, 28])\n"
     ]
    },
    {
     "data": {
      "text/html": [
       "<div>\n",
       "<style scoped>\n",
       "    .dataframe tbody tr th:only-of-type {\n",
       "        vertical-align: middle;\n",
       "    }\n",
       "\n",
       "    .dataframe tbody tr th {\n",
       "        vertical-align: top;\n",
       "    }\n",
       "\n",
       "    .dataframe thead th {\n",
       "        text-align: right;\n",
       "    }\n",
       "</style>\n",
       "<table border=\"1\" class=\"dataframe\">\n",
       "  <thead>\n",
       "    <tr style=\"text-align: right;\">\n",
       "      <th></th>\n",
       "      <th>0</th>\n",
       "      <th>1</th>\n",
       "      <th>2</th>\n",
       "      <th>3</th>\n",
       "      <th>4</th>\n",
       "      <th>5</th>\n",
       "      <th>6</th>\n",
       "      <th>7</th>\n",
       "      <th>8</th>\n",
       "      <th>9</th>\n",
       "    </tr>\n",
       "  </thead>\n",
       "  <tbody>\n",
       "    <tr>\n",
       "      <th>train</th>\n",
       "      <td>6000</td>\n",
       "      <td>6000</td>\n",
       "      <td>6000</td>\n",
       "      <td>6000</td>\n",
       "      <td>6000</td>\n",
       "      <td>6000</td>\n",
       "      <td>6000</td>\n",
       "      <td>6000</td>\n",
       "      <td>6000</td>\n",
       "      <td>6000</td>\n",
       "    </tr>\n",
       "    <tr>\n",
       "      <th>test</th>\n",
       "      <td>1000</td>\n",
       "      <td>1000</td>\n",
       "      <td>1000</td>\n",
       "      <td>1000</td>\n",
       "      <td>1000</td>\n",
       "      <td>1000</td>\n",
       "      <td>1000</td>\n",
       "      <td>1000</td>\n",
       "      <td>1000</td>\n",
       "      <td>1000</td>\n",
       "    </tr>\n",
       "  </tbody>\n",
       "</table>\n",
       "</div>"
      ],
      "text/plain": [
       "          0     1     2     3     4     5     6     7     8     9\n",
       "train  6000  6000  6000  6000  6000  6000  6000  6000  6000  6000\n",
       "test   1000  1000  1000  1000  1000  1000  1000  1000  1000  1000"
      ]
     },
     "metadata": {},
     "output_type": "display_data"
    }
   ],
   "source": [
    "from torchvision.datasets import FashionMNIST\n",
    "\n",
    "fashion_mnist = {}\n",
    "fashion_mnist['train'] = FashionMNIST(root='~/data', train=True, download=True)\n",
    "fashion_mnist['test'] = FashionMNIST(root='~/data', train=False, download=True)\n",
    "print(fashion_mnist['train'].data.shape, fashion_mnist['test'].data.shape)\n",
    "display(pd.DataFrame({\n",
    "    'train': pd.Series(fashion_mnist['train'].targets).value_counts(),\n",
    "    'test': pd.Series(fashion_mnist['test'].targets).value_counts()\n",
    "}).T)"
   ]
  },
  {
   "cell_type": "markdown",
   "id": "fe18b9df",
   "metadata": {},
   "source": [
    "Q: 형식과 유형이 동일한 서로 다른 내용의 데이터셋에 같은 모형을 적용하면?\n",
    "\n",
    "A: 아마도 아닐 겁니다."
   ]
  },
  {
   "cell_type": "code",
   "execution_count": 143,
   "id": "539986f0",
   "metadata": {},
   "outputs": [
    {
     "data": {
      "text/html": [
       "<pre style=\"white-space:pre;overflow-x:auto;line-height:normal;font-family:Menlo,'DejaVu Sans Mono',consolas,'Courier New',monospace\"><span style=\"font-weight: bold\">Model: \"sequential_21\"</span>\n",
       "</pre>\n"
      ],
      "text/plain": [
       "\u001b[1mModel: \"sequential_21\"\u001b[0m\n"
      ]
     },
     "metadata": {},
     "output_type": "display_data"
    },
    {
     "data": {
      "text/html": [
       "<pre style=\"white-space:pre;overflow-x:auto;line-height:normal;font-family:Menlo,'DejaVu Sans Mono',consolas,'Courier New',monospace\">┏━━━━━━━━━━━━━━━━━━━━━━━━━━━━━━━━━┳━━━━━━━━━━━━━━━━━━━━━━━━┳━━━━━━━━━━━━━━━┓\n",
       "┃<span style=\"font-weight: bold\"> Layer (type)                    </span>┃<span style=\"font-weight: bold\"> Output Shape           </span>┃<span style=\"font-weight: bold\">       Param # </span>┃\n",
       "┡━━━━━━━━━━━━━━━━━━━━━━━━━━━━━━━━━╇━━━━━━━━━━━━━━━━━━━━━━━━╇━━━━━━━━━━━━━━━┩\n",
       "│ rescaling_6 (<span style=\"color: #0087ff; text-decoration-color: #0087ff\">Rescaling</span>)         │ (<span style=\"color: #00d7ff; text-decoration-color: #00d7ff\">None</span>, <span style=\"color: #00af00; text-decoration-color: #00af00\">28</span>, <span style=\"color: #00af00; text-decoration-color: #00af00\">28</span>)         │             <span style=\"color: #00af00; text-decoration-color: #00af00\">0</span> │\n",
       "├─────────────────────────────────┼────────────────────────┼───────────────┤\n",
       "│ flatten_8 (<span style=\"color: #0087ff; text-decoration-color: #0087ff\">Flatten</span>)             │ (<span style=\"color: #00d7ff; text-decoration-color: #00d7ff\">None</span>, <span style=\"color: #00af00; text-decoration-color: #00af00\">784</span>)            │             <span style=\"color: #00af00; text-decoration-color: #00af00\">0</span> │\n",
       "├─────────────────────────────────┼────────────────────────┼───────────────┤\n",
       "│ dense_63 (<span style=\"color: #0087ff; text-decoration-color: #0087ff\">Dense</span>)                │ (<span style=\"color: #00d7ff; text-decoration-color: #00d7ff\">None</span>, <span style=\"color: #00af00; text-decoration-color: #00af00\">50</span>)             │        <span style=\"color: #00af00; text-decoration-color: #00af00\">39,250</span> │\n",
       "├─────────────────────────────────┼────────────────────────┼───────────────┤\n",
       "│ dense_64 (<span style=\"color: #0087ff; text-decoration-color: #0087ff\">Dense</span>)                │ (<span style=\"color: #00d7ff; text-decoration-color: #00d7ff\">None</span>, <span style=\"color: #00af00; text-decoration-color: #00af00\">100</span>)            │         <span style=\"color: #00af00; text-decoration-color: #00af00\">5,100</span> │\n",
       "├─────────────────────────────────┼────────────────────────┼───────────────┤\n",
       "│ dense_65 (<span style=\"color: #0087ff; text-decoration-color: #0087ff\">Dense</span>)                │ (<span style=\"color: #00d7ff; text-decoration-color: #00d7ff\">None</span>, <span style=\"color: #00af00; text-decoration-color: #00af00\">10</span>)             │         <span style=\"color: #00af00; text-decoration-color: #00af00\">1,010</span> │\n",
       "└─────────────────────────────────┴────────────────────────┴───────────────┘\n",
       "</pre>\n"
      ],
      "text/plain": [
       "┏━━━━━━━━━━━━━━━━━━━━━━━━━━━━━━━━━┳━━━━━━━━━━━━━━━━━━━━━━━━┳━━━━━━━━━━━━━━━┓\n",
       "┃\u001b[1m \u001b[0m\u001b[1mLayer (type)                   \u001b[0m\u001b[1m \u001b[0m┃\u001b[1m \u001b[0m\u001b[1mOutput Shape          \u001b[0m\u001b[1m \u001b[0m┃\u001b[1m \u001b[0m\u001b[1m      Param #\u001b[0m\u001b[1m \u001b[0m┃\n",
       "┡━━━━━━━━━━━━━━━━━━━━━━━━━━━━━━━━━╇━━━━━━━━━━━━━━━━━━━━━━━━╇━━━━━━━━━━━━━━━┩\n",
       "│ rescaling_6 (\u001b[38;5;33mRescaling\u001b[0m)         │ (\u001b[38;5;45mNone\u001b[0m, \u001b[38;5;34m28\u001b[0m, \u001b[38;5;34m28\u001b[0m)         │             \u001b[38;5;34m0\u001b[0m │\n",
       "├─────────────────────────────────┼────────────────────────┼───────────────┤\n",
       "│ flatten_8 (\u001b[38;5;33mFlatten\u001b[0m)             │ (\u001b[38;5;45mNone\u001b[0m, \u001b[38;5;34m784\u001b[0m)            │             \u001b[38;5;34m0\u001b[0m │\n",
       "├─────────────────────────────────┼────────────────────────┼───────────────┤\n",
       "│ dense_63 (\u001b[38;5;33mDense\u001b[0m)                │ (\u001b[38;5;45mNone\u001b[0m, \u001b[38;5;34m50\u001b[0m)             │        \u001b[38;5;34m39,250\u001b[0m │\n",
       "├─────────────────────────────────┼────────────────────────┼───────────────┤\n",
       "│ dense_64 (\u001b[38;5;33mDense\u001b[0m)                │ (\u001b[38;5;45mNone\u001b[0m, \u001b[38;5;34m100\u001b[0m)            │         \u001b[38;5;34m5,100\u001b[0m │\n",
       "├─────────────────────────────────┼────────────────────────┼───────────────┤\n",
       "│ dense_65 (\u001b[38;5;33mDense\u001b[0m)                │ (\u001b[38;5;45mNone\u001b[0m, \u001b[38;5;34m10\u001b[0m)             │         \u001b[38;5;34m1,010\u001b[0m │\n",
       "└─────────────────────────────────┴────────────────────────┴───────────────┘\n"
      ]
     },
     "metadata": {},
     "output_type": "display_data"
    },
    {
     "data": {
      "text/html": [
       "<pre style=\"white-space:pre;overflow-x:auto;line-height:normal;font-family:Menlo,'DejaVu Sans Mono',consolas,'Courier New',monospace\"><span style=\"font-weight: bold\"> Total params: </span><span style=\"color: #00af00; text-decoration-color: #00af00\">45,360</span> (177.19 KB)\n",
       "</pre>\n"
      ],
      "text/plain": [
       "\u001b[1m Total params: \u001b[0m\u001b[38;5;34m45,360\u001b[0m (177.19 KB)\n"
      ]
     },
     "metadata": {},
     "output_type": "display_data"
    },
    {
     "data": {
      "text/html": [
       "<pre style=\"white-space:pre;overflow-x:auto;line-height:normal;font-family:Menlo,'DejaVu Sans Mono',consolas,'Courier New',monospace\"><span style=\"font-weight: bold\"> Trainable params: </span><span style=\"color: #00af00; text-decoration-color: #00af00\">45,360</span> (177.19 KB)\n",
       "</pre>\n"
      ],
      "text/plain": [
       "\u001b[1m Trainable params: \u001b[0m\u001b[38;5;34m45,360\u001b[0m (177.19 KB)\n"
      ]
     },
     "metadata": {},
     "output_type": "display_data"
    },
    {
     "data": {
      "text/html": [
       "<pre style=\"white-space:pre;overflow-x:auto;line-height:normal;font-family:Menlo,'DejaVu Sans Mono',consolas,'Courier New',monospace\"><span style=\"font-weight: bold\"> Non-trainable params: </span><span style=\"color: #00af00; text-decoration-color: #00af00\">0</span> (0.00 B)\n",
       "</pre>\n"
      ],
      "text/plain": [
       "\u001b[1m Non-trainable params: \u001b[0m\u001b[38;5;34m0\u001b[0m (0.00 B)\n"
      ]
     },
     "metadata": {},
     "output_type": "display_data"
    },
    {
     "name": "stdout",
     "output_type": "stream",
     "text": [
      "Epoch 1/10\n",
      "\u001b[1m600/600\u001b[0m \u001b[32m━━━━━━━━━━━━━━━━━━━━\u001b[0m\u001b[37m\u001b[0m \u001b[1m8s\u001b[0m 14ms/step - accuracy: 0.7077 - loss: 0.7832\n",
      "Epoch 2/10\n",
      "\u001b[1m600/600\u001b[0m \u001b[32m━━━━━━━━━━━━━━━━━━━━\u001b[0m\u001b[37m\u001b[0m \u001b[1m8s\u001b[0m 14ms/step - accuracy: 0.7912 - loss: 0.5842\n",
      "Epoch 3/10\n",
      "\u001b[1m600/600\u001b[0m \u001b[32m━━━━━━━━━━━━━━━━━━━━\u001b[0m\u001b[37m\u001b[0m \u001b[1m8s\u001b[0m 14ms/step - accuracy: 0.8153 - loss: 0.5153\n",
      "Epoch 4/10\n",
      "\u001b[1m600/600\u001b[0m \u001b[32m━━━━━━━━━━━━━━━━━━━━\u001b[0m\u001b[37m\u001b[0m \u001b[1m9s\u001b[0m 14ms/step - accuracy: 0.8240 - loss: 0.4925\n",
      "Epoch 5/10\n",
      "\u001b[1m600/600\u001b[0m \u001b[32m━━━━━━━━━━━━━━━━━━━━\u001b[0m\u001b[37m\u001b[0m \u001b[1m9s\u001b[0m 15ms/step - accuracy: 0.8276 - loss: 0.4807\n",
      "Epoch 6/10\n",
      "\u001b[1m600/600\u001b[0m \u001b[32m━━━━━━━━━━━━━━━━━━━━\u001b[0m\u001b[37m\u001b[0m \u001b[1m9s\u001b[0m 15ms/step - accuracy: 0.8325 - loss: 0.4639\n",
      "Epoch 7/10\n",
      "\u001b[1m600/600\u001b[0m \u001b[32m━━━━━━━━━━━━━━━━━━━━\u001b[0m\u001b[37m\u001b[0m \u001b[1m9s\u001b[0m 15ms/step - accuracy: 0.8372 - loss: 0.4457\n",
      "Epoch 8/10\n",
      "\u001b[1m600/600\u001b[0m \u001b[32m━━━━━━━━━━━━━━━━━━━━\u001b[0m\u001b[37m\u001b[0m \u001b[1m9s\u001b[0m 15ms/step - accuracy: 0.8419 - loss: 0.4336\n",
      "Epoch 9/10\n",
      "\u001b[1m600/600\u001b[0m \u001b[32m━━━━━━━━━━━━━━━━━━━━\u001b[0m\u001b[37m\u001b[0m \u001b[1m9s\u001b[0m 15ms/step - accuracy: 0.8448 - loss: 0.4243\n",
      "Epoch 10/10\n",
      "\u001b[1m600/600\u001b[0m \u001b[32m━━━━━━━━━━━━━━━━━━━━\u001b[0m\u001b[37m\u001b[0m \u001b[1m9s\u001b[0m 15ms/step - accuracy: 0.8460 - loss: 0.4200\n"
     ]
    }
   ],
   "source": [
    "import keras\n",
    "from keras import layers\n",
    "\n",
    "def build_model():\n",
    "    model = keras.Sequential([\n",
    "        keras.Input(shape=(28, 28)), # 입력 형식\n",
    "        # 전처리\n",
    "        layers.Rescaling(1/255), # 정규화 (0~1)\n",
    "        layers.Flatten(), # (28, 28) -> (784,)\n",
    "        # 은닉층\n",
    "        layers.Dense(50, activation='sigmoid'), # nn.Linear + nn.Sigmoid\n",
    "        layers.Dense(100, activation='sigmoid'),\n",
    "        layers.Dense(10, activation='softmax') # 확률값 출력\n",
    "    ])\n",
    "    return model\n",
    "\n",
    "model = build_model()\n",
    "model.summary()\n",
    "model.compile(\n",
    "    loss=keras.losses.SparseCategoricalCrossentropy(),\n",
    "    optimizer=keras.optimizers.SGD(learning_rate=1.0, momentum=0.9),\n",
    "    metrics=['accuracy']\n",
    ")\n",
    "# 학습: 데이터는 전처리 없이 그대로 전달\n",
    "# history = model.fit(mnist['train'].data, mnist['train'].targets, batch_size=100, epochs=10)\n",
    "history = model.fit(fashion_mnist['train'].data, fashion_mnist['train'].targets, batch_size=100, epochs=10)"
   ]
  },
  {
   "cell_type": "code",
   "execution_count": null,
   "id": "73ce7bc5",
   "metadata": {},
   "outputs": [
    {
     "data": {
      "text/html": [
       "<div>\n",
       "<style scoped>\n",
       "    .dataframe tbody tr th:only-of-type {\n",
       "        vertical-align: middle;\n",
       "    }\n",
       "\n",
       "    .dataframe tbody tr th {\n",
       "        vertical-align: top;\n",
       "    }\n",
       "\n",
       "    .dataframe thead th {\n",
       "        text-align: right;\n",
       "    }\n",
       "</style>\n",
       "<table border=\"1\" class=\"dataframe\">\n",
       "  <thead>\n",
       "    <tr style=\"text-align: right;\">\n",
       "      <th></th>\n",
       "      <th>0</th>\n",
       "      <th>1</th>\n",
       "      <th>2</th>\n",
       "      <th>3</th>\n",
       "      <th>4</th>\n",
       "      <th>5</th>\n",
       "      <th>6</th>\n",
       "      <th>7</th>\n",
       "      <th>8</th>\n",
       "      <th>9</th>\n",
       "    </tr>\n",
       "  </thead>\n",
       "  <tbody>\n",
       "    <tr>\n",
       "      <th>label</th>\n",
       "      <td>T-shirt/top</td>\n",
       "      <td>Trouser</td>\n",
       "      <td>Pullover</td>\n",
       "      <td>Dress</td>\n",
       "      <td>Coat</td>\n",
       "      <td>Sandal</td>\n",
       "      <td>Shirt</td>\n",
       "      <td>Sneaker</td>\n",
       "      <td>Bag</td>\n",
       "      <td>Ankle boot</td>\n",
       "    </tr>\n",
       "  </tbody>\n",
       "</table>\n",
       "</div>"
      ],
      "text/plain": [
       "                 0        1         2      3     4       5      6        7  \\\n",
       "label  T-shirt/top  Trouser  Pullover  Dress  Coat  Sandal  Shirt  Sneaker   \n",
       "\n",
       "         8           9  \n",
       "label  Bag  Ankle boot  "
      ]
     },
     "metadata": {},
     "output_type": "display_data"
    },
    {
     "data": {
      "image/png": "[encoded data removed]",
      "text/plain": [
       "<Figure size 1000x400 with 10 Axes>"
      ]
     },
     "metadata": {},
     "output_type": "display_data"
    }
   ],
   "source": [
    "display(pd.DataFrame({'label': FashionMNIST.classes}).T)\n",
    "\n",
    "plt.figure(figsize=(10, 4))\n",
    "for i, (sample, label) in zip(range(10), fashion_mnist['train']):\n",
    "    plt.subplot(2, 5, i + 1)\n",
    "    plt.imshow(sample, cmap='gray')\n",
    "    plt.title(f'Label: {label}')\n",
    "    plt.axis('off')\n",
    "plt.show()"
   ]
  },
  {
   "cell_type": "markdown",
   "id": "b72cb3d2",
   "metadata": {},
   "source": [
    "## 합성곱 계층\n",
    "\n",
    "튜닝만으로 목표를 달성하기는 어렵습니다. 데이터에서 정보를 보다 효과적으로 추출하는 가설 공간의 구성이 보다 중요합니다."
   ]
  },
  {
   "cell_type": "code",
   "execution_count": 145,
   "id": "b359e413",
   "metadata": {},
   "outputs": [
    {
     "data": {
      "text/html": [
       "<pre style=\"white-space:pre;overflow-x:auto;line-height:normal;font-family:Menlo,'DejaVu Sans Mono',consolas,'Courier New',monospace\"><span style=\"font-weight: bold\">Model: \"sequential_23\"</span>\n",
       "</pre>\n"
      ],
      "text/plain": [
       "\u001b[1mModel: \"sequential_23\"\u001b[0m\n"
      ]
     },
     "metadata": {},
     "output_type": "display_data"
    },
    {
     "data": {
      "text/html": [
       "<pre style=\"white-space:pre;overflow-x:auto;line-height:normal;font-family:Menlo,'DejaVu Sans Mono',consolas,'Courier New',monospace\">┏━━━━━━━━━━━━━━━━━━━━━━━━━━━━━━━━━┳━━━━━━━━━━━━━━━━━━━━━━━━┳━━━━━━━━━━━━━━━┓\n",
       "┃<span style=\"font-weight: bold\"> Layer (type)                    </span>┃<span style=\"font-weight: bold\"> Output Shape           </span>┃<span style=\"font-weight: bold\">       Param # </span>┃\n",
       "┡━━━━━━━━━━━━━━━━━━━━━━━━━━━━━━━━━╇━━━━━━━━━━━━━━━━━━━━━━━━╇━━━━━━━━━━━━━━━┩\n",
       "│ rescaling_8 (<span style=\"color: #0087ff; text-decoration-color: #0087ff\">Rescaling</span>)         │ (<span style=\"color: #00d7ff; text-decoration-color: #00d7ff\">None</span>, <span style=\"color: #00af00; text-decoration-color: #00af00\">28</span>, <span style=\"color: #00af00; text-decoration-color: #00af00\">28</span>)         │             <span style=\"color: #00af00; text-decoration-color: #00af00\">0</span> │\n",
       "├─────────────────────────────────┼────────────────────────┼───────────────┤\n",
       "│ reshape_1 (<span style=\"color: #0087ff; text-decoration-color: #0087ff\">Reshape</span>)             │ (<span style=\"color: #00d7ff; text-decoration-color: #00d7ff\">None</span>, <span style=\"color: #00af00; text-decoration-color: #00af00\">28</span>, <span style=\"color: #00af00; text-decoration-color: #00af00\">28</span>, <span style=\"color: #00af00; text-decoration-color: #00af00\">1</span>)      │             <span style=\"color: #00af00; text-decoration-color: #00af00\">0</span> │\n",
       "├─────────────────────────────────┼────────────────────────┼───────────────┤\n",
       "│ conv2d_1 (<span style=\"color: #0087ff; text-decoration-color: #0087ff\">Conv2D</span>)               │ (<span style=\"color: #00d7ff; text-decoration-color: #00d7ff\">None</span>, <span style=\"color: #00af00; text-decoration-color: #00af00\">26</span>, <span style=\"color: #00af00; text-decoration-color: #00af00\">26</span>, <span style=\"color: #00af00; text-decoration-color: #00af00\">32</span>)     │           <span style=\"color: #00af00; text-decoration-color: #00af00\">320</span> │\n",
       "├─────────────────────────────────┼────────────────────────┼───────────────┤\n",
       "│ flatten_10 (<span style=\"color: #0087ff; text-decoration-color: #0087ff\">Flatten</span>)            │ (<span style=\"color: #00d7ff; text-decoration-color: #00d7ff\">None</span>, <span style=\"color: #00af00; text-decoration-color: #00af00\">21632</span>)          │             <span style=\"color: #00af00; text-decoration-color: #00af00\">0</span> │\n",
       "├─────────────────────────────────┼────────────────────────┼───────────────┤\n",
       "│ dense_67 (<span style=\"color: #0087ff; text-decoration-color: #0087ff\">Dense</span>)                │ (<span style=\"color: #00d7ff; text-decoration-color: #00d7ff\">None</span>, <span style=\"color: #00af00; text-decoration-color: #00af00\">10</span>)             │       <span style=\"color: #00af00; text-decoration-color: #00af00\">216,330</span> │\n",
       "└─────────────────────────────────┴────────────────────────┴───────────────┘\n",
       "</pre>\n"
      ],
      "text/plain": [
       "┏━━━━━━━━━━━━━━━━━━━━━━━━━━━━━━━━━┳━━━━━━━━━━━━━━━━━━━━━━━━┳━━━━━━━━━━━━━━━┓\n",
       "┃\u001b[1m \u001b[0m\u001b[1mLayer (type)                   \u001b[0m\u001b[1m \u001b[0m┃\u001b[1m \u001b[0m\u001b[1mOutput Shape          \u001b[0m\u001b[1m \u001b[0m┃\u001b[1m \u001b[0m\u001b[1m      Param #\u001b[0m\u001b[1m \u001b[0m┃\n",
       "┡━━━━━━━━━━━━━━━━━━━━━━━━━━━━━━━━━╇━━━━━━━━━━━━━━━━━━━━━━━━╇━━━━━━━━━━━━━━━┩\n",
       "│ rescaling_8 (\u001b[38;5;33mRescaling\u001b[0m)         │ (\u001b[38;5;45mNone\u001b[0m, \u001b[38;5;34m28\u001b[0m, \u001b[38;5;34m28\u001b[0m)         │             \u001b[38;5;34m0\u001b[0m │\n",
       "├─────────────────────────────────┼────────────────────────┼───────────────┤\n",
       "│ reshape_1 (\u001b[38;5;33mReshape\u001b[0m)             │ (\u001b[38;5;45mNone\u001b[0m, \u001b[38;5;34m28\u001b[0m, \u001b[38;5;34m28\u001b[0m, \u001b[38;5;34m1\u001b[0m)      │             \u001b[38;5;34m0\u001b[0m │\n",
       "├─────────────────────────────────┼────────────────────────┼───────────────┤\n",
       "│ conv2d_1 (\u001b[38;5;33mConv2D\u001b[0m)               │ (\u001b[38;5;45mNone\u001b[0m, \u001b[38;5;34m26\u001b[0m, \u001b[38;5;34m26\u001b[0m, \u001b[38;5;34m32\u001b[0m)     │           \u001b[38;5;34m320\u001b[0m │\n",
       "├─────────────────────────────────┼────────────────────────┼───────────────┤\n",
       "│ flatten_10 (\u001b[38;5;33mFlatten\u001b[0m)            │ (\u001b[38;5;45mNone\u001b[0m, \u001b[38;5;34m21632\u001b[0m)          │             \u001b[38;5;34m0\u001b[0m │\n",
       "├─────────────────────────────────┼────────────────────────┼───────────────┤\n",
       "│ dense_67 (\u001b[38;5;33mDense\u001b[0m)                │ (\u001b[38;5;45mNone\u001b[0m, \u001b[38;5;34m10\u001b[0m)             │       \u001b[38;5;34m216,330\u001b[0m │\n",
       "└─────────────────────────────────┴────────────────────────┴───────────────┘\n"
      ]
     },
     "metadata": {},
     "output_type": "display_data"
    },
    {
     "data": {
      "text/html": [
       "<pre style=\"white-space:pre;overflow-x:auto;line-height:normal;font-family:Menlo,'DejaVu Sans Mono',consolas,'Courier New',monospace\"><span style=\"font-weight: bold\"> Total params: </span><span style=\"color: #00af00; text-decoration-color: #00af00\">216,650</span> (846.29 KB)\n",
       "</pre>\n"
      ],
      "text/plain": [
       "\u001b[1m Total params: \u001b[0m\u001b[38;5;34m216,650\u001b[0m (846.29 KB)\n"
      ]
     },
     "metadata": {},
     "output_type": "display_data"
    },
    {
     "data": {
      "text/html": [
       "<pre style=\"white-space:pre;overflow-x:auto;line-height:normal;font-family:Menlo,'DejaVu Sans Mono',consolas,'Courier New',monospace\"><span style=\"font-weight: bold\"> Trainable params: </span><span style=\"color: #00af00; text-decoration-color: #00af00\">216,650</span> (846.29 KB)\n",
       "</pre>\n"
      ],
      "text/plain": [
       "\u001b[1m Trainable params: \u001b[0m\u001b[38;5;34m216,650\u001b[0m (846.29 KB)\n"
      ]
     },
     "metadata": {},
     "output_type": "display_data"
    },
    {
     "data": {
      "text/html": [
       "<pre style=\"white-space:pre;overflow-x:auto;line-height:normal;font-family:Menlo,'DejaVu Sans Mono',consolas,'Courier New',monospace\"><span style=\"font-weight: bold\"> Non-trainable params: </span><span style=\"color: #00af00; text-decoration-color: #00af00\">0</span> (0.00 B)\n",
       "</pre>\n"
      ],
      "text/plain": [
       "\u001b[1m Non-trainable params: \u001b[0m\u001b[38;5;34m0\u001b[0m (0.00 B)\n"
      ]
     },
     "metadata": {},
     "output_type": "display_data"
    },
    {
     "name": "stdout",
     "output_type": "stream",
     "text": [
      "Epoch 1/10\n",
      "\u001b[1m600/600\u001b[0m \u001b[32m━━━━━━━━━━━━━━━━━━━━\u001b[0m\u001b[37m\u001b[0m \u001b[1m10s\u001b[0m 14ms/step - accuracy: 0.8454 - loss: 0.4457\n",
      "Epoch 2/10\n",
      "\u001b[1m600/600\u001b[0m \u001b[32m━━━━━━━━━━━━━━━━━━━━\u001b[0m\u001b[37m\u001b[0m \u001b[1m9s\u001b[0m 15ms/step - accuracy: 0.8906 - loss: 0.3072\n",
      "Epoch 3/10\n",
      "\u001b[1m600/600\u001b[0m \u001b[32m━━━━━━━━━━━━━━━━━━━━\u001b[0m\u001b[37m\u001b[0m \u001b[1m9s\u001b[0m 15ms/step - accuracy: 0.9046 - loss: 0.2683\n",
      "Epoch 4/10\n",
      "\u001b[1m600/600\u001b[0m \u001b[32m━━━━━━━━━━━━━━━━━━━━\u001b[0m\u001b[37m\u001b[0m \u001b[1m10s\u001b[0m 16ms/step - accuracy: 0.9130 - loss: 0.2440\n",
      "Epoch 5/10\n",
      "\u001b[1m600/600\u001b[0m \u001b[32m━━━━━━━━━━━━━━━━━━━━\u001b[0m\u001b[37m\u001b[0m \u001b[1m10s\u001b[0m 17ms/step - accuracy: 0.9196 - loss: 0.2255\n",
      "Epoch 6/10\n",
      "\u001b[1m600/600\u001b[0m \u001b[32m━━━━━━━━━━━━━━━━━━━━\u001b[0m\u001b[37m\u001b[0m \u001b[1m10s\u001b[0m 16ms/step - accuracy: 0.9256 - loss: 0.2107\n",
      "Epoch 7/10\n",
      "\u001b[1m600/600\u001b[0m \u001b[32m━━━━━━━━━━━━━━━━━━━━\u001b[0m\u001b[37m\u001b[0m \u001b[1m10s\u001b[0m 16ms/step - accuracy: 0.9293 - loss: 0.1994\n",
      "Epoch 8/10\n",
      "\u001b[1m600/600\u001b[0m \u001b[32m━━━━━━━━━━━━━━━━━━━━\u001b[0m\u001b[37m\u001b[0m \u001b[1m10s\u001b[0m 16ms/step - accuracy: 0.9326 - loss: 0.1878\n",
      "Epoch 9/10\n",
      "\u001b[1m600/600\u001b[0m \u001b[32m━━━━━━━━━━━━━━━━━━━━\u001b[0m\u001b[37m\u001b[0m \u001b[1m10s\u001b[0m 16ms/step - accuracy: 0.9365 - loss: 0.1779\n",
      "Epoch 10/10\n",
      "\u001b[1m600/600\u001b[0m \u001b[32m━━━━━━━━━━━━━━━━━━━━\u001b[0m\u001b[37m\u001b[0m \u001b[1m10s\u001b[0m 16ms/step - accuracy: 0.9388 - loss: 0.1690\n"
     ]
    }
   ],
   "source": [
    "model = keras.Sequential([\n",
    "    keras.Input(shape=(28, 28)), # 입력 형식\n",
    "    layers.Rescaling(1/255), # 정규화 (0~1)\n",
    "    layers.Reshape((28, 28, 1)), # 채널 차원 추가 (배치, 높이, 너비, 채널)\n",
    "    # 합성곱층\n",
    "    layers.Conv2D(filters=32, kernel_size=(3, 3), activation='relu'),\n",
    "    # 출력층\n",
    "    layers.Flatten(),\n",
    "    layers.Dense(10, activation='softmax') # 확률값 출력\n",
    "])\n",
    "model.summary()\n",
    "model.compile(\n",
    "    loss=keras.losses.SparseCategoricalCrossentropy(),\n",
    "    optimizer=keras.optimizers.Adam(), # 2015년 제안된 최적화 기법 (자동 학습률)\n",
    "    metrics=['accuracy']\n",
    ")\n",
    "# 학습\n",
    "history = model.fit(fashion_mnist['train'].data, fashion_mnist['train'].targets, batch_size=100, epochs=10)"
   ]
  }
 ],
 "metadata": {
  "kernelspec": {
   "display_name": "pytorch",
   "language": "python",
   "name": "python3"
  },
  "language_info": {
   "codemirror_mode": {
    "name": "ipython",
    "version": 3
   },
   "file_extension": ".py",
   "mimetype": "text/x-python",
   "name": "python",
   "nbconvert_exporter": "python",
   "pygments_lexer": "ipython3",
   "version": "3.10.13"
  }
 },
 "nbformat": 4,
 "nbformat_minor": 5
}
