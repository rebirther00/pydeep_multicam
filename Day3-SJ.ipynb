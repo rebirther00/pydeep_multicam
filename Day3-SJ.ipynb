{
 "cells": [
  {
   "cell_type": "markdown",
   "id": "4f66f8ba",
   "metadata": {},
   "source": [
    "# Day 3"
   ]
  },
  {
   "cell_type": "code",
   "execution_count": 1,
   "id": "d5529718",
   "metadata": {},
   "outputs": [],
   "source": [
    "import numpy as np\n",
    "import pandas as pd\n",
    "import matplotlib.pyplot as plt"
   ]
  },
  {
   "cell_type": "markdown",
   "id": "00b39a84",
   "metadata": {},
   "source": [
    "## 붓꽃 데이터\n",
    "\n",
    "다중 유형 분류"
   ]
  },
  {
   "cell_type": "code",
   "execution_count": 4,
   "id": "0e0dae43",
   "metadata": {},
   "outputs": [
    {
     "name": "stdout",
     "output_type": "stream",
     "text": [
      "(150, 4)\n"
     ]
    },
    {
     "data": {
      "text/plain": [
       "0    50\n",
       "1    50\n",
       "2    50\n",
       "Name: count, dtype: int64"
      ]
     },
     "execution_count": 4,
     "metadata": {},
     "output_type": "execute_result"
    }
   ],
   "source": [
    "from sklearn.datasets import load_iris\n",
    "\n",
    "iris = load_iris()\n",
    "print(iris.data.shape)\n",
    "# 유형 도수\n",
    "pd.Series(iris.target).value_counts()"
   ]
  },
  {
   "cell_type": "code",
   "execution_count": 50,
   "id": "ea231e2b",
   "metadata": {},
   "outputs": [
    {
     "name": "stdout",
     "output_type": "stream",
     "text": [
      "unshuffled    0.667\n",
      "shuffled      0.967\n",
      "dtype: float64\n",
      "정확도: 96.7%\n"
     ]
    },
    {
     "data": {
      "text/html": [
       "<div>\n",
       "<style scoped>\n",
       "    .dataframe tbody tr th:only-of-type {\n",
       "        vertical-align: middle;\n",
       "    }\n",
       "\n",
       "    .dataframe tbody tr th {\n",
       "        vertical-align: top;\n",
       "    }\n",
       "\n",
       "    .dataframe thead th {\n",
       "        text-align: right;\n",
       "    }\n",
       "</style>\n",
       "<table border=\"1\" class=\"dataframe\">\n",
       "  <thead>\n",
       "    <tr style=\"text-align: right;\">\n",
       "      <th></th>\n",
       "      <th>setosa</th>\n",
       "      <th>versicolor</th>\n",
       "      <th>virginica</th>\n",
       "      <th>예측</th>\n",
       "      <th>정답</th>\n",
       "    </tr>\n",
       "  </thead>\n",
       "  <tbody>\n",
       "    <tr>\n",
       "      <th>114</th>\n",
       "      <td>-2.834</td>\n",
       "      <td>-1.110</td>\n",
       "      <td>7.958</td>\n",
       "      <td>2</td>\n",
       "      <td>2</td>\n",
       "    </tr>\n",
       "    <tr>\n",
       "      <th>62</th>\n",
       "      <td>-1.544</td>\n",
       "      <td>3.598</td>\n",
       "      <td>-2.578</td>\n",
       "      <td>1</td>\n",
       "      <td>1</td>\n",
       "    </tr>\n",
       "    <tr>\n",
       "      <th>33</th>\n",
       "      <td>2.053</td>\n",
       "      <td>-2.402</td>\n",
       "      <td>-23.596</td>\n",
       "      <td>0</td>\n",
       "      <td>0</td>\n",
       "    </tr>\n",
       "    <tr>\n",
       "      <th>107</th>\n",
       "      <td>-3.294</td>\n",
       "      <td>2.977</td>\n",
       "      <td>6.381</td>\n",
       "      <td>2</td>\n",
       "      <td>2</td>\n",
       "    </tr>\n",
       "    <tr>\n",
       "      <th>7</th>\n",
       "      <td>1.446</td>\n",
       "      <td>-0.812</td>\n",
       "      <td>-19.152</td>\n",
       "      <td>0</td>\n",
       "      <td>0</td>\n",
       "    </tr>\n",
       "  </tbody>\n",
       "</table>\n",
       "</div>"
      ],
      "text/plain": [
       "     setosa  versicolor  virginica  예측  정답\n",
       "114  -2.834      -1.110      7.958   2   2\n",
       "62   -1.544       3.598     -2.578   1   1\n",
       "33    2.053      -2.402    -23.596   0   0\n",
       "107  -3.294       2.977      6.381   2   2\n",
       "7     1.446      -0.812    -19.152   0   0"
      ]
     },
     "execution_count": 50,
     "metadata": {},
     "output_type": "execute_result"
    }
   ],
   "source": [
    "from sklearn.linear_model import Perceptron\n",
    "\n",
    "scores = {}\n",
    "\n",
    "model = Perceptron(max_iter=20, eta0=0.1, shuffle=False)\n",
    "model.fit(iris.data, iris.target)\n",
    "scores['unshuffled'] = model.score(iris.data, iris.target)\n",
    "\n",
    "model = Perceptron(max_iter=20, eta0=0.1, shuffle=True, random_state=3)\n",
    "model.fit(iris.data, iris.target)\n",
    "scores['shuffled'] = model.score(iris.data, iris.target)\n",
    "\n",
    "print(pd.Series(scores).round(3))\n",
    "pd.DataFrame(model.coef_, columns=iris.feature_names, index=iris.target_names).assign(\n",
    "    bias=model.intercept_)\n",
    "\n",
    "W = model.coef_; b = model.intercept_\n",
    "outputs = iris.data @ W.T + b # X @ W.T + b\n",
    "예측 = np.argmax(outputs, axis=1)\n",
    "assert np.all(예측 == model.predict(iris.data))\n",
    "print(f'정확도: {(예측 == iris.target).mean():.1%}')\n",
    "pd.DataFrame(outputs, columns=iris.target_names).assign(예측=예측, 정답=iris.target).sample(5, random_state=0)"
   ]
  },
  {
   "cell_type": "code",
   "execution_count": 45,
   "id": "1ec9568b",
   "metadata": {},
   "outputs": [
    {
     "data": {
      "text/html": [
       "<div>\n",
       "<style scoped>\n",
       "    .dataframe tbody tr th:only-of-type {\n",
       "        vertical-align: middle;\n",
       "    }\n",
       "\n",
       "    .dataframe tbody tr th {\n",
       "        vertical-align: top;\n",
       "    }\n",
       "\n",
       "    .dataframe thead tr th {\n",
       "        text-align: left;\n",
       "    }\n",
       "</style>\n",
       "<table border=\"1\" class=\"dataframe\">\n",
       "  <thead>\n",
       "    <tr>\n",
       "      <th></th>\n",
       "      <th colspan=\"2\" halign=\"left\">A</th>\n",
       "      <th colspan=\"2\" halign=\"left\">B</th>\n",
       "      <th colspan=\"2\" halign=\"left\">C</th>\n",
       "      <th colspan=\"2\" halign=\"left\">D</th>\n",
       "    </tr>\n",
       "    <tr>\n",
       "      <th></th>\n",
       "      <th>0</th>\n",
       "      <th>1</th>\n",
       "      <th>0</th>\n",
       "      <th>1</th>\n",
       "      <th>0</th>\n",
       "      <th>1</th>\n",
       "      <th>0</th>\n",
       "      <th>1</th>\n",
       "    </tr>\n",
       "  </thead>\n",
       "  <tbody>\n",
       "    <tr>\n",
       "      <th>0</th>\n",
       "      <td>1</td>\n",
       "      <td>2</td>\n",
       "      <td>5</td>\n",
       "      <td>6</td>\n",
       "      <td>5</td>\n",
       "      <td>12</td>\n",
       "      <td>19</td>\n",
       "      <td>22</td>\n",
       "    </tr>\n",
       "    <tr>\n",
       "      <th>1</th>\n",
       "      <td>3</td>\n",
       "      <td>4</td>\n",
       "      <td>7</td>\n",
       "      <td>8</td>\n",
       "      <td>21</td>\n",
       "      <td>32</td>\n",
       "      <td>43</td>\n",
       "      <td>50</td>\n",
       "    </tr>\n",
       "  </tbody>\n",
       "</table>\n",
       "</div>"
      ],
      "text/plain": [
       "   A     B      C       D    \n",
       "   0  1  0  1   0   1   0   1\n",
       "0  1  2  5  6   5  12  19  22\n",
       "1  3  4  7  8  21  32  43  50"
      ]
     },
     "execution_count": 45,
     "metadata": {},
     "output_type": "execute_result"
    }
   ],
   "source": [
    "A = np.arange(1, 5).reshape(2, 2)\n",
    "B = np.arange(5, 9).reshape(2, 2)\n",
    "C = A * B # 원소별 곱셈\n",
    "D = A @ B # 행렬 곱셈\n",
    "\n",
    "# 행렬곱\n",
    "results = []\n",
    "for 행 in A:\n",
    "    for 열 in B.T:\n",
    "        results.append(np.sum(행 * 열))\n",
    "results = np.array(results).reshape(2, 2)\n",
    "assert np.all(results == D) and np.all(np.dot(A, B) == D)\n",
    "\n",
    "frame = pd.concat([pd.DataFrame(A), pd.DataFrame(B), pd.DataFrame(C), pd.DataFrame(D)], axis=1)\n",
    "frame.columns = pd.MultiIndex.from_product([['A', 'B', 'C', 'D'], [0, 1]])\n",
    "frame"
   ]
  },
  {
   "cell_type": "markdown",
   "id": "6022148b",
   "metadata": {},
   "source": [
    "## 신경망 순전파"
   ]
  },
  {
   "cell_type": "code",
   "execution_count": 57,
   "id": "c7642f65",
   "metadata": {},
   "outputs": [
    {
     "name": "stdout",
     "output_type": "stream",
     "text": [
      "z1=[-1.929 -0.578 -0.867]\n",
      "z2=[-6.02   1.123]\n",
      "z3=[2.312]\n"
     ]
    }
   ],
   "source": [
    "random = np.random.default_rng(3)\n",
    "\n",
    "xi = np.array([0.1, 0.2])\n",
    "\n",
    "# layer 1\n",
    "W1 = random.normal(size=(2, 3)) # 입력 2, 출력 3\n",
    "b1 = random.normal(size=3) # 출력 3\n",
    "# layer 2\n",
    "W2 = random.normal(size=(3, 2)) # 입력 3, 출력 2\n",
    "b2 = random.normal(size=2) # 출력 2\n",
    "# layer 3\n",
    "W3 = random.normal(size=(2, 1)) # 입력 2, 출력 1\n",
    "b3 = random.normal(size=1) # 출력 1\n",
    "\n",
    "# 순전파 (feed-forward)\n",
    "z1 = xi @ W1 + b1\n",
    "z2 = z1 @ W2 + b2\n",
    "z3 = z2 @ W3 + b3\n",
    "\n",
    "print(f'z1={z1.round(3)}')\n",
    "print(f'z2={z2.round(3)}')\n",
    "print(f'z3={z3.round(3)}')"
   ]
  },
  {
   "cell_type": "code",
   "execution_count": 73,
   "id": "d0d559ec",
   "metadata": {},
   "outputs": [
    {
     "name": "stdout",
     "output_type": "stream",
     "text": [
      "outputs=[0.305]\n"
     ]
    }
   ],
   "source": [
    "class 다중퍼셉트론:\n",
    "    def __init__(self, 입력수, 출력수, 활성화=None, seed=None):\n",
    "        random = np.random.default_rng(seed)\n",
    "        self.W = random.normal(size=(입력수, 출력수))\n",
    "        self.b = np.zeros(출력수, dtype=np.float32)\n",
    "        self.활성화 = 활성화\n",
    "\n",
    "    def __call__(self, x):\n",
    "        z = x @ self.W + self.b\n",
    "        if self.활성화 is not None:\n",
    "            z = self.활성화(z)\n",
    "        return z\n",
    "    \n",
    "class 신경망:\n",
    "    def __init__(self):\n",
    "        self.layers = []\n",
    "\n",
    "    def add(self, layer):\n",
    "        self.layers.append(layer)\n",
    "\n",
    "    def __call__(self, x):\n",
    "        \"\"\"순전파\"\"\"\n",
    "        for layer in self.layers:\n",
    "            x = layer(x)\n",
    "        return x\n",
    "    \n",
    "layer1 = 다중퍼셉트론(2, 3)\n",
    "layer2 = 다중퍼셉트론(3, 2)\n",
    "layer3 = 다중퍼셉트론(2, 1)\n",
    "\n",
    "# 순전파\n",
    "outputs = layer3(layer2(layer1(xi)))\n",
    "print(f'outputs={outputs.round(3)}')\n",
    "\n",
    "model = 신경망()\n",
    "model.add(layer1)\n",
    "model.add(layer2)\n",
    "model.add(layer3)\n",
    "\n",
    "assert np.all(outputs == model(xi))"
   ]
  },
  {
   "cell_type": "code",
   "execution_count": 72,
   "id": "8d783b5d",
   "metadata": {},
   "outputs": [
    {
     "name": "stdout",
     "output_type": "stream",
     "text": [
      "torch.Size([1, 2])\n"
     ]
    }
   ],
   "source": [
    "import torch\n",
    "import torch.nn as nn # neural network\n",
    "\n",
    "X = torch.tensor([[0.1, 0.2]])\n",
    "print(X.shape)\n",
    "\n",
    "layer1 = nn.Linear(2, 3) # 입력 2, 출력 3\n",
    "assert torch.allclose(layer1(X), X @ layer1.weight.T + layer1.bias)\n",
    "layer2 = nn.Linear(3, 2) # 입력 3, 출력 2\n",
    "layer3 = nn.Linear(2, 1) # 입력 2, 출력 1\n",
    "\n",
    "outputs = layer3(layer2(layer1(X)))\n",
    "\n",
    "model = nn.Sequential(layer1, layer2, layer3)\n",
    "assert torch.allclose(outputs, model(X))"
   ]
  },
  {
   "cell_type": "markdown",
   "id": "e6bce795",
   "metadata": {},
   "source": [
    "## 활성화\n",
    "\n",
    "* 은닉층: 비선형 변환\n",
    "* 출력층\n",
    "    1. 회귀: 항등함수 (활성화 없음)\n",
    "    1. 분류\n",
    "        1. 이진 분류: sigmoid\n",
    "        1. 다중 분류: softmax"
   ]
  },
  {
   "cell_type": "code",
   "execution_count": 84,
   "id": "fe8cb429",
   "metadata": {},
   "outputs": [
    {
     "data": {
      "image/png": "[encoded data removed]",
      "text/plain": [
       "<Figure size 600x200 with 2 Axes>"
      ]
     },
     "metadata": {},
     "output_type": "display_data"
    }
   ],
   "source": [
    "step = lambda x: np.where(x > 0, 1, -1)\n",
    "sigmoid = lambda x: 1 / (1 + np.exp(-x))\n",
    "\n",
    "xs = np.linspace(-5, 5, 100)\n",
    "\n",
    "plt.figure(figsize=(6, 2))\n",
    "plt.subplot(1, 2, 1)\n",
    "plt.plot(xs, step(xs))\n",
    "plt.plot(xs, sigmoid(xs))\n",
    "plt.grid()\n",
    "\n",
    "plt.subplot(1, 2, 2)\n",
    "plt.plot(xs, np.exp(xs))\n",
    "plt.title('Exponential')\n",
    "plt.grid()\n",
    "plt.show()"
   ]
  },
  {
   "cell_type": "markdown",
   "id": "8c5c378d",
   "metadata": {},
   "source": [
    "## 로지스틱 시그모이드\n",
    "\n",
    "분류를 위한 확률 모델링 과정에서 개발 (1958)"
   ]
  },
  {
   "cell_type": "code",
   "execution_count": null,
   "id": "930773b7",
   "metadata": {},
   "outputs": [
    {
     "name": "stdout",
     "output_type": "stream",
     "text": [
      "(569, 30)\n"
     ]
    },
    {
     "data": {
      "text/plain": [
       "양성    357\n",
       "악성    212\n",
       "Name: count, dtype: int64"
      ]
     },
     "execution_count": 88,
     "metadata": {},
     "output_type": "execute_result"
    }
   ],
   "source": [
    "from sklearn.datasets import load_breast_cancer\n",
    "\n",
    "cancer = load_breast_cancer()\n",
    "print(cancer.data.shape)\n",
    "pd.Series(cancer.target).value_counts().rename({0: '악성', 1: '양성'})"
   ]
  },
  {
   "cell_type": "code",
   "execution_count": null,
   "id": "fe5af36d",
   "metadata": {},
   "outputs": [
    {
     "name": "stdout",
     "output_type": "stream",
     "text": [
      "Perceptron            0.912\n",
      "LogisticRegression    0.988\n",
      "dtype: float64\n"
     ]
    },
    {
     "data": {
      "text/html": [
       "<div>\n",
       "<style scoped>\n",
       "    .dataframe tbody tr th:only-of-type {\n",
       "        vertical-align: middle;\n",
       "    }\n",
       "\n",
       "    .dataframe tbody tr th {\n",
       "        vertical-align: top;\n",
       "    }\n",
       "\n",
       "    .dataframe thead th {\n",
       "        text-align: right;\n",
       "    }\n",
       "</style>\n",
       "<table border=\"1\" class=\"dataframe\">\n",
       "  <thead>\n",
       "    <tr style=\"text-align: right;\">\n",
       "      <th></th>\n",
       "      <th>0</th>\n",
       "      <th>1</th>\n",
       "      <th>2</th>\n",
       "      <th>3</th>\n",
       "      <th>4</th>\n",
       "      <th>5</th>\n",
       "      <th>6</th>\n",
       "      <th>7</th>\n",
       "      <th>8</th>\n",
       "      <th>9</th>\n",
       "      <th>...</th>\n",
       "      <th>20</th>\n",
       "      <th>21</th>\n",
       "      <th>22</th>\n",
       "      <th>23</th>\n",
       "      <th>24</th>\n",
       "      <th>25</th>\n",
       "      <th>26</th>\n",
       "      <th>27</th>\n",
       "      <th>28</th>\n",
       "      <th>29</th>\n",
       "    </tr>\n",
       "  </thead>\n",
       "  <tbody>\n",
       "    <tr>\n",
       "      <th>350</th>\n",
       "      <td>11.66</td>\n",
       "      <td>17.07</td>\n",
       "      <td>73.7</td>\n",
       "      <td>421.0</td>\n",
       "      <td>0.076</td>\n",
       "      <td>0.036</td>\n",
       "      <td>0.008</td>\n",
       "      <td>0.012</td>\n",
       "      <td>0.167</td>\n",
       "      <td>0.057</td>\n",
       "      <td>...</td>\n",
       "      <td>13.28</td>\n",
       "      <td>19.74</td>\n",
       "      <td>83.61</td>\n",
       "      <td>542.5</td>\n",
       "      <td>0.1</td>\n",
       "      <td>0.065</td>\n",
       "      <td>0.03</td>\n",
       "      <td>0.043</td>\n",
       "      <td>0.273</td>\n",
       "      <td>0.068</td>\n",
       "    </tr>\n",
       "  </tbody>\n",
       "</table>\n",
       "<p>1 rows × 30 columns</p>\n",
       "</div>"
      ],
      "text/plain": [
       "        0      1     2      3      4      5      6      7      8      9   ...  \\\n",
       "350  11.66  17.07  73.7  421.0  0.076  0.036  0.008  0.012  0.167  0.057  ...   \n",
       "\n",
       "        20     21     22     23   24     25    26     27     28     29  \n",
       "350  13.28  19.74  83.61  542.5  0.1  0.065  0.03  0.043  0.273  0.068  \n",
       "\n",
       "[1 rows x 30 columns]"
      ]
     },
     "metadata": {},
     "output_type": "display_data"
    },
    {
     "name": "stdout",
     "output_type": "stream",
     "text": [
      "[1] [0]\n"
     ]
    }
   ],
   "source": [
    "from sklearn.linear_model import Perceptron, LogisticRegression\n",
    "from sklearn.preprocessing import StandardScaler\n",
    "\n",
    "scores = {}\n",
    "model_1 = Perceptron(max_iter=100, eta0=0.1, shuffle=True, random_state=3)\n",
    "model_1.fit(cancer.data, cancer.target)\n",
    "scores['Perceptron'] = model_1.score(cancer.data, cancer.target)\n",
    "\n",
    "scaler = StandardScaler()\n",
    "scaled_data = scaler.fit_transform(cancer.data)\n",
    "# 데이터를 특성별로 표준화: 평균 0, 표준편차 1\n",
    "assert np.allclose(scaled_data.mean(axis=0), 0) and np.allclose(scaled_data.std(axis=0), 1)\n",
    "model_2 = LogisticRegression(max_iter=1000)\n",
    "model_2.fit(scaled_data, cancer.target)\n",
    "scores['LogisticRegression'] = model_2.score(scaled_data, cancer.target)\n",
    "\n",
    "print(pd.Series(scores).round(3))\n",
    "\n",
    "sample = pd.DataFrame(cancer.data).sample(random_state=7)\n",
    "display(sample.round(3))\n",
    "\n",
    "pred_1 = model_1.predict(sample)\n",
    "pred_2 = model_2.predict(sample)\n",
    "print(pred_1, pred_2)"
   ]
  }
 ],
 "metadata": {
  "kernelspec": {
   "display_name": "pytorch",
   "language": "python",
   "name": "python3"
  },
  "language_info": {
   "codemirror_mode": {
    "name": "ipython",
    "version": 3
   },
   "file_extension": ".py",
   "mimetype": "text/x-python",
   "name": "python",
   "nbconvert_exporter": "python",
   "pygments_lexer": "ipython3",
   "version": "3.10.13"
  }
 },
 "nbformat": 4,
 "nbformat_minor": 5
}
