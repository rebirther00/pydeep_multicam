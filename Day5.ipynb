{
 "cells": [
  {
   "cell_type": "markdown",
   "id": "0e188e2c",
   "metadata": {},
   "source": [
    "# Day 5"
   ]
  },
  {
   "cell_type": "code",
   "execution_count": 1,
   "id": "3f455e3c",
   "metadata": {},
   "outputs": [],
   "source": [
    "import numpy as np\n",
    "import pandas as pd\n",
    "import matplotlib.pyplot as plt"
   ]
  },
  {
   "cell_type": "markdown",
   "id": "e40b0b5c",
   "metadata": {},
   "source": [
    "## 역전파 신경망\n",
    "\n",
    "/module/neuralnet_backprop.py"
   ]
  },
  {
   "cell_type": "code",
   "execution_count": 2,
   "id": "5d3f195f",
   "metadata": {},
   "outputs": [],
   "source": [
    "import numpy as np\n",
    "\n",
    "class Sigmoid:\n",
    "    def __init__(self):\n",
    "        self.y = None\n",
    "\n",
    "    def __call__(self, x):\n",
    "        return self.forward(x)\n",
    "\n",
    "    def forward(self, x):\n",
    "        y = 1 / (1 + np.exp(-x))\n",
    "        self.y = y\n",
    "        return y\n",
    "\n",
    "    def backward(self, dout):\n",
    "        dx = dout * self.y * (1 - self.y)\n",
    "        return dx\n",
    "\n",
    "class 완전연결:\n",
    "    def __init__(self, 입력수, 출력수, 활성화=None):\n",
    "        self.W = np.random.randn(입력수, 출력수)\n",
    "        self.b = np.zeros(출력수)\n",
    "        self.activation = 활성화\n",
    "        self.x = None\n",
    "        self.dW = None\n",
    "        self.db = None\n",
    "\n",
    "    def __call__(self, x):\n",
    "        return self.forward(x)\n",
    "\n",
    "    def forward(self, x):\n",
    "        self.x = x\n",
    "        z = np.dot(x, self.W) + self.b\n",
    "        if self.activation:\n",
    "            return self.activation(z)\n",
    "        return z\n",
    "\n",
    "    def backward(self, dout):\n",
    "        if self.activation:\n",
    "            dout = self.activation.backward(dout)\n",
    "            \n",
    "        self.dW = np.dot(self.x.T, dout)\n",
    "        # 배치 단위 연산 시, 미분값을 모든 표본에 대해 더합니다.\n",
    "        self.db = np.sum(dout, axis=0)\n",
    "        \n",
    "        dx = np.dot(dout, self.W.T)\n",
    "        return dx\n",
    "\n",
    "def softmax(z):\n",
    "    if z.ndim == 1:\n",
    "        z = z.reshape(1, -1)\n",
    "    exp_z = np.exp(z - np.max(z, axis=1).reshape(-1, 1))\n",
    "    return exp_z / np.sum(exp_z, axis=1).reshape(-1, 1)\n",
    "\n",
    "def 교차엔트로피오차(y, y_pred):\n",
    "    delta = 1e-7\n",
    "    배치크기 = y.shape[0]\n",
    "    return -np.sum(y * np.log(y_pred + delta)) / 배치크기\n",
    "\n",
    "class CrossEntropy:\n",
    "    def __init__(self, from_logits=False):\n",
    "        self.y = None\n",
    "        self.from_logits = from_logits\n",
    "        self.proba = None\n",
    "\n",
    "    def __call__(self, z, y):\n",
    "        return self.forward(z, y)\n",
    "\n",
    "    def forward(self, outputs, y):\n",
    "        self.y = y\n",
    "        # z -> softmax -> proba\n",
    "        if not self.from_logits:      \n",
    "            self.proba = outputs\n",
    "        else: # from_logits=True -> 실수값 -> 확률값\n",
    "            self.proba = softmax(outputs)\n",
    "        # CEE(y, proba)\n",
    "        손실 = 교차엔트로피오차(y, self.proba)\n",
    "        return 손실\n",
    "\n",
    "    def backward(self, dout=1):\n",
    "        배치크기 = len(self.y)\n",
    "        dz = self.proba - self.y\n",
    "        return dz / 배치크기\n",
    "\n",
    "class 역전파신경망:\n",
    "    def __init__(self, 손실함수):\n",
    "        self.layers = []\n",
    "        self.loss_func = 손실함수\n",
    "\n",
    "    def add(self, layer):\n",
    "        self.layers.append(layer)\n",
    "\n",
    "    def __call__(self, x):\n",
    "        \"\"\"순전파\"\"\"\n",
    "        outputs = x\n",
    "        for layer in self.layers:\n",
    "            outputs = layer(outputs)\n",
    "        return outputs # z_last\n",
    "\n",
    "    def 손실산출(self, x, y):\n",
    "        outputs = self(x)\n",
    "        손실 = self.loss_func(outputs, y)\n",
    "        return 손실\n",
    "\n",
    "    def fit(self, x, y, 배치크기, 에폭수, 학습률):\n",
    "        에폭당_배치수 = len(x) // 배치크기\n",
    "        학습횟수 = 에폭당_배치수 * 에폭수\n",
    "        print(f'배치크기={배치크기}, 에폭수={에폭수}, 학습횟수={학습횟수}({에폭당_배치수}/에폭)')\n",
    "        손실변화 = []\n",
    "        for 학습 in range(학습횟수):\n",
    "            # 1. 미니 배치\n",
    "            표본수 = S = len(x)\n",
    "            배치색인 = np.random.choice(표본수, 배치크기)\n",
    "            x_batch = x[배치색인]\n",
    "            y_batch = y[배치색인]\n",
    "            # 2. 경사 산출 (역전파)\n",
    "            # 1) 순전파\n",
    "            손실 = self.손실산출(x_batch, y_batch)\n",
    "            손실변화.append(손실)\n",
    "            # 2) 역전파            \n",
    "            dout = self.loss_func.backward(1)\n",
    "            for layer in reversed(self.layers):\n",
    "                dout = layer.backward(dout)\n",
    "            # 3. 매개변수 갱신 (경사 하강)\n",
    "            for layer in self.layers:\n",
    "                if isinstance(layer, 완전연결):\n",
    "                    layer.W -= layer.dW * 학습률\n",
    "                    layer.b -= layer.db * 학습률\n",
    "\n",
    "            if 학습 == 0 or (학습 + 1) % 100 == 0:\n",
    "                print(f'[학습 {학습 + 1}] Loss: {손실:.3f}')\n",
    "        return 손실변화\n"
   ]
  },
  {
   "cell_type": "code",
   "execution_count": 3,
   "id": "c84081dd",
   "metadata": {},
   "outputs": [],
   "source": [
    "#MNIST\n",
    "\n",
    "from torchvision.datasets import MNIST\n",
    "\n",
    "mnist = {}\n",
    "mnist['train'] = MNIST(root='~/data', train=True, download=True) # ~/의 의미 : 홈 디렉토리 (바인드 되어 있는 이 컴퓨터 디렉토리가 아님.)\n",
    "mnist['test'] = MNIST(root='~/data', train=False, download=True)\n",
    "\n",
    "\n",
    "def 전처리(images):\n",
    "    if not isinstance(images, np.ndarray):\n",
    "        images = images.numpy()\n",
    "    X = images.reshape(-1, 28*28).astype(np.float32) / 255.0    \n",
    "    return X\n",
    "\n",
    "train_data = 전처리(mnist['train'].data)\n",
    "train_target = np.array(mnist['train'].targets)\n",
    "test_data = 전처리(mnist['test'].data)\n",
    "test_target = np.array(mnist['test'].targets)"
   ]
  },
  {
   "cell_type": "code",
   "execution_count": 24,
   "id": "bf50a03f",
   "metadata": {},
   "outputs": [
    {
     "name": "stdout",
     "output_type": "stream",
     "text": [
      "배치크기=100, 에폭수=10, 학습횟수=6000(600/에폭)\n",
      "[학습 1] Loss: 6.813\n",
      "[학습 100] Loss: 0.878\n",
      "[학습 200] Loss: 0.767\n",
      "[학습 300] Loss: 0.397\n",
      "[학습 400] Loss: 0.885\n",
      "[학습 500] Loss: 0.387\n",
      "[학습 600] Loss: 0.528\n",
      "[학습 700] Loss: 0.292\n",
      "[학습 800] Loss: 0.412\n",
      "[학습 900] Loss: 0.385\n",
      "[학습 1000] Loss: 0.150\n",
      "[학습 1100] Loss: 0.309\n",
      "[학습 1200] Loss: 0.285\n",
      "[학습 1300] Loss: 0.156\n",
      "[학습 1400] Loss: 0.223\n",
      "[학습 1500] Loss: 0.176\n",
      "[학습 1600] Loss: 0.319\n",
      "[학습 1700] Loss: 0.286\n",
      "[학습 1800] Loss: 0.146\n",
      "[학습 1900] Loss: 0.207\n",
      "[학습 2000] Loss: 0.182\n",
      "[학습 2100] Loss: 0.229\n",
      "[학습 2200] Loss: 0.159\n",
      "[학습 2300] Loss: 0.291\n",
      "[학습 2400] Loss: 0.090\n",
      "[학습 2500] Loss: 0.105\n",
      "[학습 2600] Loss: 0.481\n",
      "[학습 2700] Loss: 0.139\n",
      "[학습 2800] Loss: 0.187\n",
      "[학습 2900] Loss: 0.187\n",
      "[학습 3000] Loss: 0.242\n",
      "[학습 3100] Loss: 0.155\n",
      "[학습 3200] Loss: 0.126\n",
      "[학습 3300] Loss: 0.136\n",
      "[학습 3400] Loss: 0.186\n",
      "[학습 3500] Loss: 0.114\n",
      "[학습 3600] Loss: 0.153\n",
      "[학습 3700] Loss: 0.197\n",
      "[학습 3800] Loss: 0.244\n",
      "[학습 3900] Loss: 0.116\n",
      "[학습 4000] Loss: 0.305\n",
      "[학습 4100] Loss: 0.066\n",
      "[학습 4200] Loss: 0.060\n",
      "[학습 4300] Loss: 0.120\n",
      "[학습 4400] Loss: 0.177\n",
      "[학습 4500] Loss: 0.303\n",
      "[학습 4600] Loss: 0.202\n",
      "[학습 4700] Loss: 0.141\n",
      "[학습 4800] Loss: 0.156\n",
      "[학습 4900] Loss: 0.147\n",
      "[학습 5000] Loss: 0.093\n",
      "[학습 5100] Loss: 0.152\n",
      "[학습 5200] Loss: 0.177\n",
      "[학습 5300] Loss: 0.160\n",
      "[학습 5400] Loss: 0.108\n",
      "[학습 5500] Loss: 0.044\n",
      "[학습 5600] Loss: 0.134\n",
      "[학습 5700] Loss: 0.086\n",
      "[학습 5800] Loss: 0.072\n",
      "[학습 5900] Loss: 0.170\n",
      "[학습 6000] Loss: 0.063\n",
      "테스트 손실: 0.195\n",
      "테스트 정확도: 0.939\n"
     ]
    },
    {
     "data": {
      "text/plain": [
       "<Axes: >"
      ]
     },
     "execution_count": 24,
     "metadata": {},
     "output_type": "execute_result"
    },
    {
     "data": {
      "image/png": "[encoded data removed]",
      "text/plain": [
       "<Figure size 640x480 with 1 Axes>"
      ]
     },
     "metadata": {},
     "output_type": "display_data"
    }
   ],
   "source": [
    "원핫행렬 = np.eye(10)\n",
    "\n",
    "model = 역전파신경망(CrossEntropy(from_logits=True))\n",
    "model.add(완전연결(784, 50, 활성화=Sigmoid()))\n",
    "model.add(완전연결(50, 100, 활성화=Sigmoid()))\n",
    "model.add(완전연결(100, 10, 활성화=None))\n",
    "\n",
    "loss_history = model.fit(train_data, 원핫행렬[train_target], 배치크기=100, 에폭수=10, 학습률=1)\n",
    "\n",
    "# 평가: 테스트 데이터에 대한 성능 측정\n",
    "test_pred_score = model(test_data)\n",
    "test_pred = np.argmax(test_pred_score, axis=1)\n",
    "\n",
    "# 정확도 계산\n",
    "accuracy = np.mean(test_pred == test_target)\n",
    "\n",
    "# 손실값 계산\n",
    "y_onehot = 원핫행렬[test_target]\n",
    "test_loss = model.loss_func(test_pred_score, y_onehot)\n",
    "\n",
    "print(f'테스트 손실: {test_loss:.3f}')\n",
    "print(f'테스트 정확도: {accuracy:.3f}')\n",
    "\n",
    "pd.Series(loss_history).rolling(window=100).mean().plot()\n",
    "\n"
   ]
  },
  {
   "cell_type": "markdown",
   "id": "ff7a9dd4",
   "metadata": {},
   "source": [
    "## PyTorch\n",
    "\n",
    "PyTorch = Numpy + GPU + Back_prop + ..."
   ]
  },
  {
   "cell_type": "code",
   "execution_count": 43,
   "id": "d6616c5c",
   "metadata": {},
   "outputs": [
    {
     "data": {
      "text/html": [
       "<div>\n",
       "<style scoped>\n",
       "    .dataframe tbody tr th:only-of-type {\n",
       "        vertical-align: middle;\n",
       "    }\n",
       "\n",
       "    .dataframe tbody tr th {\n",
       "        vertical-align: top;\n",
       "    }\n",
       "\n",
       "    .dataframe thead th {\n",
       "        text-align: right;\n",
       "    }\n",
       "</style>\n",
       "<table border=\"1\" class=\"dataframe\">\n",
       "  <thead>\n",
       "    <tr style=\"text-align: right;\">\n",
       "      <th></th>\n",
       "      <th>사과단가</th>\n",
       "      <th>사과수량</th>\n",
       "      <th>부가세</th>\n",
       "    </tr>\n",
       "  </thead>\n",
       "  <tbody>\n",
       "    <tr>\n",
       "      <th>순전파</th>\n",
       "      <td>100.0</td>\n",
       "      <td>2.0</td>\n",
       "      <td>0.1</td>\n",
       "    </tr>\n",
       "    <tr>\n",
       "      <th>역전파</th>\n",
       "      <td>2.2</td>\n",
       "      <td>110.0</td>\n",
       "      <td>NaN</td>\n",
       "    </tr>\n",
       "  </tbody>\n",
       "</table>\n",
       "</div>"
      ],
      "text/plain": [
       "      사과단가   사과수량  부가세\n",
       "순전파  100.0    2.0  0.1\n",
       "역전파    2.2  110.0  NaN"
      ]
     },
     "execution_count": 43,
     "metadata": {},
     "output_type": "execute_result"
    }
   ],
   "source": [
    "import torch\n",
    "\n",
    "사과단가 = torch.tensor(100.0, requires_grad=True)\n",
    "사과수량 = torch.tensor(2.0, requires_grad=True)\n",
    "부가세 = torch.tensor(0.1)\n",
    "\n",
    "사과가격 = 사과단가 * 사과수량 * (1 + 부가세)\n",
    "사과가격.backward()\n",
    "\n",
    "pd.DataFrame({\n",
    "    '사과단가': [사과단가.item(), 사과단가.grad.item()],\n",
    "    '사과수량': [사과수량.item(), 사과수량.grad.item()],\n",
    "    '부가세': [부가세.item(), 부가세.grad]\n",
    "    }, index = ['순전파', '역전파'])"
   ]
  },
  {
   "cell_type": "code",
   "execution_count": 45,
   "id": "a899a7bc",
   "metadata": {},
   "outputs": [
    {
     "name": "stdout",
     "output_type": "stream",
     "text": [
      "tensor(100., requires_grad=True)\n",
      "100.0\n",
      "tensor(2.2000)\n"
     ]
    }
   ],
   "source": [
    "print(사과단가) # 텐서 객체\n",
    "print(사과단가.item()) # 텐서 객체의 값\n",
    "print(사과단가.grad) # 텐서 객체의 미분값\n"
   ]
  },
  {
   "cell_type": "markdown",
   "id": "986c9c6e",
   "metadata": {},
   "source": [
    "## 파이토치 신경망"
   ]
  },
  {
   "cell_type": "code",
   "execution_count": 59,
   "id": "f23b4fee",
   "metadata": {},
   "outputs": [
    {
     "name": "stdout",
     "output_type": "stream",
     "text": [
      "torch.Size([2, 3]) torch.Size([3])\n"
     ]
    }
   ],
   "source": [
    "import torch\n",
    "\n",
    "class 다중퍼셉트론:\n",
    "    def __init__(self, 입력수, 출력수, 활성화=None):\n",
    "        self.W = torch.randn(입력수, 출력수, requires_grad=True)\n",
    "        self.b = torch.zeros(출력수, requires_grad=True)\n",
    "        self.활성화 = 활성화\n",
    "\n",
    "    def __call__(self, x):\n",
    "        z = torch.matmul(x, self.W) + self.b\n",
    "        if self.활성화:\n",
    "            return self.활성화(z)\n",
    "        return z\n",
    "\n",
    "layer = 다중퍼셉트론(2, 3, 활성화=torch.sigmoid)\n",
    "print(layer.W.shape, layer.b.shape)\n",
    "assert layer.W.requires_grad and layer.b.requires_grad\n",
    "\n",
    "X = torch.linspace(0, 1, 10).reshape(5, 2)\n",
    "outputs = layer(X)\n"
   ]
  },
  {
   "cell_type": "code",
   "execution_count": null,
   "id": "0818db8a",
   "metadata": {},
   "outputs": [
    {
     "name": "stdout",
     "output_type": "stream",
     "text": [
      "torch.Size([3, 2]) torch.Size([3])\n"
     ]
    }
   ],
   "source": [
    "import torch.nn as nn # 신경망 모듈\n",
    "\n",
    "layer = nn.Linear(in_features=2, out_features=3) # Linear:활성화 함수 없음\n",
    "print(layer.weight.shape, layer.bias.shape)\n",
    "assert layer.weight.requires_grad and layer.bias.requires_grad\n",
    "\n",
    "X = torch.linspace(0, 1, 10).reshape(5, 2)\n",
    "assert torch.allclose(layer(X), torch.matmul(X, layer.weight.T) + layer.bias)\n",
    "\n",
    "# 활성화\n",
    "Z = torch.sigmoid(layer(X)) # 선형 결합 -> 활성화 함수 -> 비선형 결합"
   ]
  },
  {
   "cell_type": "code",
   "execution_count": null,
   "id": "1164b722",
   "metadata": {},
   "outputs": [
    {
     "name": "stdout",
     "output_type": "stream",
     "text": [
      "[에폭 1] 손실: 2.371\n",
      "[에폭 2] 손실: 2.444\n",
      "[에폭 3] 손실: 2.495\n",
      "[에폭 4] 손실: 2.483\n",
      "[에폭 5] 손실: 2.573\n",
      "[에폭 6] 손실: 2.459\n",
      "[에폭 7] 손실: 2.502\n",
      "[에폭 8] 손실: 2.447\n",
      "[에폭 9] 손실: 2.472\n",
      "[에폭 10] 손실: 2.401\n",
      "[에폭 11] 손실: 2.406\n",
      "[에폭 12] 손실: 2.372\n",
      "[에폭 13] 손실: 2.375\n",
      "[에폭 14] 손실: 2.347\n",
      "[에폭 15] 손실: 2.348\n",
      "[에폭 16] 손실: 2.330\n",
      "[에폭 17] 손실: 2.330\n",
      "[에폭 18] 손실: 2.317\n",
      "[에폭 19] 손실: 2.318\n",
      "[에폭 20] 손실: 2.309\n",
      "[에폭 21] 손실: 2.310\n",
      "[에폭 22] 손실: 2.303\n",
      "[에폭 23] 손실: 2.304\n",
      "[에폭 24] 손실: 2.298\n",
      "[에폭 25] 손실: 2.300\n",
      "[에폭 26] 손실: 2.295\n",
      "[에폭 27] 손실: 2.296\n",
      "[에폭 28] 손실: 2.292\n",
      "[에폭 29] 손실: 2.293\n",
      "[에폭 30] 손실: 2.289\n",
      "[에폭 31] 손실: 2.290\n",
      "[에폭 32] 손실: 2.286\n",
      "[에폭 33] 손실: 2.286\n",
      "[에폭 34] 손실: 2.282\n",
      "[에폭 35] 손실: 2.283\n",
      "[에폭 36] 손실: 2.279\n",
      "[에폭 37] 손실: 2.279\n",
      "[에폭 38] 손실: 2.275\n",
      "[에폭 39] 손실: 2.275\n",
      "[에폭 40] 손실: 2.271\n",
      "[에폭 41] 손실: 2.271\n",
      "[에폭 42] 손실: 2.266\n",
      "[에폭 43] 손실: 2.265\n",
      "[에폭 44] 손실: 2.260\n",
      "[에폭 45] 손실: 2.260\n",
      "[에폭 46] 손실: 2.254\n",
      "[에폭 47] 손실: 2.253\n",
      "[에폭 48] 손실: 2.246\n",
      "[에폭 49] 손실: 2.245\n",
      "[에폭 50] 손실: 2.237\n",
      "[에폭 51] 손실: 2.236\n",
      "[에폭 52] 손실: 2.227\n",
      "[에폭 53] 손실: 2.225\n",
      "[에폭 54] 손실: 2.215\n",
      "[에폭 55] 손실: 2.213\n",
      "[에폭 56] 손실: 2.201\n",
      "[에폭 57] 손실: 2.199\n",
      "[에폭 58] 손실: 2.185\n",
      "[에폭 59] 손실: 2.182\n",
      "[에폭 60] 손실: 2.165\n",
      "[에폭 61] 손실: 2.163\n",
      "[에폭 62] 손실: 2.142\n",
      "[에폭 63] 손실: 2.140\n",
      "[에폭 64] 손실: 2.115\n",
      "[에폭 65] 손실: 2.114\n",
      "[에폭 66] 손실: 2.084\n",
      "[에폭 67] 손실: 2.083\n",
      "[에폭 68] 손실: 2.048\n",
      "[에폭 69] 손실: 2.048\n",
      "[에폭 70] 손실: 2.007\n",
      "[에폭 71] 손실: 2.007\n",
      "[에폭 72] 손실: 1.961\n",
      "[에폭 73] 손실: 1.961\n",
      "[에폭 74] 손실: 1.910\n",
      "[에폭 75] 손실: 1.909\n",
      "[에폭 76] 손실: 1.854\n",
      "[에폭 77] 손실: 1.853\n",
      "[에폭 78] 손실: 1.795\n",
      "[에폭 79] 손실: 1.794\n",
      "[에폭 80] 손실: 1.735\n",
      "[에폭 81] 손실: 1.736\n",
      "[에폭 82] 손실: 1.677\n",
      "[에폭 83] 손실: 1.678\n",
      "[에폭 84] 손실: 1.619\n",
      "[에폭 85] 손실: 1.620\n",
      "[에폭 86] 손실: 1.561\n",
      "[에폭 87] 손실: 1.557\n",
      "[에폭 88] 손실: 1.500\n",
      "[에폭 89] 손실: 1.488\n",
      "[에폭 90] 손실: 1.438\n",
      "[에폭 91] 손실: 1.420\n",
      "[에폭 92] 손실: 1.382\n",
      "[에폭 93] 손실: 1.360\n",
      "[에폭 94] 손실: 1.335\n",
      "[에폭 95] 손실: 1.315\n",
      "[에폭 96] 손실: 1.300\n",
      "[에폭 97] 손실: 1.285\n",
      "[에폭 98] 손실: 1.270\n",
      "[에폭 99] 손실: 1.257\n",
      "[에폭 100] 손실: 1.238\n",
      "torch.Size([10000, 10])\n",
      "정확도: 0.5447999835014343\n"
     ]
    }
   ],
   "source": [
    "# 배치가 없는 경우 : 안 좋다. \n",
    "\n",
    "model = nn.Sequential(\n",
    "    #은닉층\n",
    "    nn.Linear(784, 50),\n",
    "    nn.Sigmoid(), # 비선형 활성화\n",
    "    nn.Linear(50, 100),\n",
    "    nn.Sigmoid(),\n",
    "    #출력층\n",
    "    nn.Linear(100, 10),\n",
    "    #nn.Softmax(dim=1) # 출력층 활성화 함수\n",
    ")\n",
    "\n",
    "#학습\n",
    "손실함수 = nn.CrossEntropyLoss() # 로짓값을 입력으로 받음, 정답은 정수값 (원핫인코딩을 하지 않음)\n",
    "학습률 = 1.0\n",
    "학습횟수 = 100\n",
    "\n",
    "train_data = mnist['train'].data.reshape(-1, 784).float()/255.0\n",
    "train_target = mnist['train'].targets\n",
    "for 학습 in range(학습횟수):\n",
    "    outputs = model(train_data)\n",
    "    손실 = 손실함수(outputs, train_target)\n",
    "    print(f'[에폭 {학습 + 1}] 손실: {손실.item():.3f}')\n",
    "    손실변화 = []\n",
    "    손실변화.append(손실.item())\n",
    "    #print(f'손실: {손실.item():.3f}')\n",
    "\n",
    "    # 손실의 type\n",
    "    #print(f'손실의 type: {type(손실)}')\n",
    "\n",
    "    #역전파\n",
    "    손실.backward()\n",
    "    #매개변수 갱신\n",
    "    with torch.no_grad(): # 이 코드의 의미 : 이 코드 안에서는 기울기를 계산하지 않음\n",
    "        for param in model.parameters():\n",
    "            param -= 학습률 * param.grad # 더하는 것이 아니라 빼는 이유 : 기울기가 양수일 때, 값이 줄어들기 때문\n",
    "        model.zero_grad() # 기울기 초기화 이유 : 여러 번 반복 학습할 때, 기울기가 누적되기 때문\n",
    "\n",
    "# 평가\n",
    "test_data = mnist['test'].data.reshape(-1, 784).float()/255.0\n",
    "outputs = model(test_data)\n",
    "print(outputs.shape)\n",
    "y_pred = torch.argmax(outputs, dim=1)\n",
    "print(f'정확도: {torch.sum(y_pred == test_target) / len(test_target)}')\n"
   ]
  },
  {
   "cell_type": "code",
   "execution_count": null,
   "id": "81fd842f",
   "metadata": {},
   "outputs": [],
   "source": [
    "def build_model():\n",
    "    model = nn.Sequential(\n",
    "        nn.Linear(784, 50),\n",
    "        nn.Sigmoid(),\n",
    "        nn.Linear(50, 100),\n",
    "        nn.Sigmoid(),\n",
    "        nn.Linear(100, 10),\n",
    "    )\n",
    "    return model\n",
    "\n"
   ]
  },
  {
   "cell_type": "markdown",
   "id": "ec3e9b01",
   "metadata": {},
   "source": [
    "## 배치 크기"
   ]
  },
  {
   "cell_type": "code",
   "execution_count": 238,
   "id": "d043fc75",
   "metadata": {},
   "outputs": [
    {
     "ename": "RuntimeError",
     "evalue": "Expected all tensors to be on the same device, but got mat1 is on cpu, different from other tensors on cuda:0 (when checking argument in method wrapper_CUDA_addmm)",
     "output_type": "error",
     "traceback": [
      "\u001b[0;31m---------------------------------------------------------------------------\u001b[0m",
      "\u001b[0;31mRuntimeError\u001b[0m                              Traceback (most recent call last)",
      "Cell \u001b[0;32mIn[238], line 12\u001b[0m\n\u001b[1;32m      9\u001b[0m train_target \u001b[38;5;241m=\u001b[39m mnist[\u001b[38;5;124m'\u001b[39m\u001b[38;5;124mtrain\u001b[39m\u001b[38;5;124m'\u001b[39m]\u001b[38;5;241m.\u001b[39mtargets\n\u001b[1;32m     11\u001b[0m \u001b[38;5;66;03m# 처음 시작 시, \"워밍 업\" 단계\u001b[39;00m\n\u001b[0;32m---> 12\u001b[0m _ \u001b[38;5;241m=\u001b[39m \u001b[43mmodel\u001b[49m\u001b[43m(\u001b[49m\u001b[43mtrain_data\u001b[49m\u001b[43m)\u001b[49m\n\u001b[1;32m     14\u001b[0m \u001b[38;5;28;01mfor\u001b[39;00m 배치크기 \u001b[38;5;129;01min\u001b[39;00m [\u001b[38;5;241m1\u001b[39m, \u001b[38;5;241m10\u001b[39m, \u001b[38;5;241m100\u001b[39m, \u001b[38;5;241m1000\u001b[39m, \u001b[38;5;241m6000\u001b[39m, \u001b[38;5;28mlen\u001b[39m(train_data)]:\n\u001b[1;32m     15\u001b[0m     배치색인 \u001b[38;5;241m=\u001b[39m torch\u001b[38;5;241m.\u001b[39mrandperm(\u001b[38;5;28mlen\u001b[39m(train_data))[:배치크기]\n",
      "File \u001b[0;32m~/.conda/envs/pytorch/lib/python3.10/site-packages/torch/nn/modules/module.py:1775\u001b[0m, in \u001b[0;36mModule._wrapped_call_impl\u001b[0;34m(self, *args, **kwargs)\u001b[0m\n\u001b[1;32m   1773\u001b[0m     \u001b[38;5;28;01mreturn\u001b[39;00m \u001b[38;5;28mself\u001b[39m\u001b[38;5;241m.\u001b[39m_compiled_call_impl(\u001b[38;5;241m*\u001b[39margs, \u001b[38;5;241m*\u001b[39m\u001b[38;5;241m*\u001b[39mkwargs)  \u001b[38;5;66;03m# type: ignore[misc]\u001b[39;00m\n\u001b[1;32m   1774\u001b[0m \u001b[38;5;28;01melse\u001b[39;00m:\n\u001b[0;32m-> 1775\u001b[0m     \u001b[38;5;28;01mreturn\u001b[39;00m \u001b[38;5;28;43mself\u001b[39;49m\u001b[38;5;241;43m.\u001b[39;49m\u001b[43m_call_impl\u001b[49m\u001b[43m(\u001b[49m\u001b[38;5;241;43m*\u001b[39;49m\u001b[43margs\u001b[49m\u001b[43m,\u001b[49m\u001b[43m \u001b[49m\u001b[38;5;241;43m*\u001b[39;49m\u001b[38;5;241;43m*\u001b[39;49m\u001b[43mkwargs\u001b[49m\u001b[43m)\u001b[49m\n",
      "File \u001b[0;32m~/.conda/envs/pytorch/lib/python3.10/site-packages/torch/nn/modules/module.py:1786\u001b[0m, in \u001b[0;36mModule._call_impl\u001b[0;34m(self, *args, **kwargs)\u001b[0m\n\u001b[1;32m   1781\u001b[0m \u001b[38;5;66;03m# If we don't have any hooks, we want to skip the rest of the logic in\u001b[39;00m\n\u001b[1;32m   1782\u001b[0m \u001b[38;5;66;03m# this function, and just call forward.\u001b[39;00m\n\u001b[1;32m   1783\u001b[0m \u001b[38;5;28;01mif\u001b[39;00m \u001b[38;5;129;01mnot\u001b[39;00m (\u001b[38;5;28mself\u001b[39m\u001b[38;5;241m.\u001b[39m_backward_hooks \u001b[38;5;129;01mor\u001b[39;00m \u001b[38;5;28mself\u001b[39m\u001b[38;5;241m.\u001b[39m_backward_pre_hooks \u001b[38;5;129;01mor\u001b[39;00m \u001b[38;5;28mself\u001b[39m\u001b[38;5;241m.\u001b[39m_forward_hooks \u001b[38;5;129;01mor\u001b[39;00m \u001b[38;5;28mself\u001b[39m\u001b[38;5;241m.\u001b[39m_forward_pre_hooks\n\u001b[1;32m   1784\u001b[0m         \u001b[38;5;129;01mor\u001b[39;00m _global_backward_pre_hooks \u001b[38;5;129;01mor\u001b[39;00m _global_backward_hooks\n\u001b[1;32m   1785\u001b[0m         \u001b[38;5;129;01mor\u001b[39;00m _global_forward_hooks \u001b[38;5;129;01mor\u001b[39;00m _global_forward_pre_hooks):\n\u001b[0;32m-> 1786\u001b[0m     \u001b[38;5;28;01mreturn\u001b[39;00m \u001b[43mforward_call\u001b[49m\u001b[43m(\u001b[49m\u001b[38;5;241;43m*\u001b[39;49m\u001b[43margs\u001b[49m\u001b[43m,\u001b[49m\u001b[43m \u001b[49m\u001b[38;5;241;43m*\u001b[39;49m\u001b[38;5;241;43m*\u001b[39;49m\u001b[43mkwargs\u001b[49m\u001b[43m)\u001b[49m\n\u001b[1;32m   1788\u001b[0m result \u001b[38;5;241m=\u001b[39m \u001b[38;5;28;01mNone\u001b[39;00m\n\u001b[1;32m   1789\u001b[0m called_always_called_hooks \u001b[38;5;241m=\u001b[39m \u001b[38;5;28mset\u001b[39m()\n",
      "File \u001b[0;32m~/.conda/envs/pytorch/lib/python3.10/site-packages/torch/nn/modules/container.py:250\u001b[0m, in \u001b[0;36mSequential.forward\u001b[0;34m(self, input)\u001b[0m\n\u001b[1;32m    246\u001b[0m \u001b[38;5;250m\u001b[39m\u001b[38;5;124;03m\"\"\"\u001b[39;00m\n\u001b[1;32m    247\u001b[0m \u001b[38;5;124;03mRuns the forward pass.\u001b[39;00m\n\u001b[1;32m    248\u001b[0m \u001b[38;5;124;03m\"\"\"\u001b[39;00m\n\u001b[1;32m    249\u001b[0m \u001b[38;5;28;01mfor\u001b[39;00m module \u001b[38;5;129;01min\u001b[39;00m \u001b[38;5;28mself\u001b[39m:\n\u001b[0;32m--> 250\u001b[0m     \u001b[38;5;28minput\u001b[39m \u001b[38;5;241m=\u001b[39m \u001b[43mmodule\u001b[49m\u001b[43m(\u001b[49m\u001b[38;5;28;43minput\u001b[39;49m\u001b[43m)\u001b[49m\n\u001b[1;32m    251\u001b[0m \u001b[38;5;28;01mreturn\u001b[39;00m \u001b[38;5;28minput\u001b[39m\n",
      "File \u001b[0;32m~/.conda/envs/pytorch/lib/python3.10/site-packages/torch/nn/modules/module.py:1775\u001b[0m, in \u001b[0;36mModule._wrapped_call_impl\u001b[0;34m(self, *args, **kwargs)\u001b[0m\n\u001b[1;32m   1773\u001b[0m     \u001b[38;5;28;01mreturn\u001b[39;00m \u001b[38;5;28mself\u001b[39m\u001b[38;5;241m.\u001b[39m_compiled_call_impl(\u001b[38;5;241m*\u001b[39margs, \u001b[38;5;241m*\u001b[39m\u001b[38;5;241m*\u001b[39mkwargs)  \u001b[38;5;66;03m# type: ignore[misc]\u001b[39;00m\n\u001b[1;32m   1774\u001b[0m \u001b[38;5;28;01melse\u001b[39;00m:\n\u001b[0;32m-> 1775\u001b[0m     \u001b[38;5;28;01mreturn\u001b[39;00m \u001b[38;5;28;43mself\u001b[39;49m\u001b[38;5;241;43m.\u001b[39;49m\u001b[43m_call_impl\u001b[49m\u001b[43m(\u001b[49m\u001b[38;5;241;43m*\u001b[39;49m\u001b[43margs\u001b[49m\u001b[43m,\u001b[49m\u001b[43m \u001b[49m\u001b[38;5;241;43m*\u001b[39;49m\u001b[38;5;241;43m*\u001b[39;49m\u001b[43mkwargs\u001b[49m\u001b[43m)\u001b[49m\n",
      "File \u001b[0;32m~/.conda/envs/pytorch/lib/python3.10/site-packages/torch/nn/modules/module.py:1786\u001b[0m, in \u001b[0;36mModule._call_impl\u001b[0;34m(self, *args, **kwargs)\u001b[0m\n\u001b[1;32m   1781\u001b[0m \u001b[38;5;66;03m# If we don't have any hooks, we want to skip the rest of the logic in\u001b[39;00m\n\u001b[1;32m   1782\u001b[0m \u001b[38;5;66;03m# this function, and just call forward.\u001b[39;00m\n\u001b[1;32m   1783\u001b[0m \u001b[38;5;28;01mif\u001b[39;00m \u001b[38;5;129;01mnot\u001b[39;00m (\u001b[38;5;28mself\u001b[39m\u001b[38;5;241m.\u001b[39m_backward_hooks \u001b[38;5;129;01mor\u001b[39;00m \u001b[38;5;28mself\u001b[39m\u001b[38;5;241m.\u001b[39m_backward_pre_hooks \u001b[38;5;129;01mor\u001b[39;00m \u001b[38;5;28mself\u001b[39m\u001b[38;5;241m.\u001b[39m_forward_hooks \u001b[38;5;129;01mor\u001b[39;00m \u001b[38;5;28mself\u001b[39m\u001b[38;5;241m.\u001b[39m_forward_pre_hooks\n\u001b[1;32m   1784\u001b[0m         \u001b[38;5;129;01mor\u001b[39;00m _global_backward_pre_hooks \u001b[38;5;129;01mor\u001b[39;00m _global_backward_hooks\n\u001b[1;32m   1785\u001b[0m         \u001b[38;5;129;01mor\u001b[39;00m _global_forward_hooks \u001b[38;5;129;01mor\u001b[39;00m _global_forward_pre_hooks):\n\u001b[0;32m-> 1786\u001b[0m     \u001b[38;5;28;01mreturn\u001b[39;00m \u001b[43mforward_call\u001b[49m\u001b[43m(\u001b[49m\u001b[38;5;241;43m*\u001b[39;49m\u001b[43margs\u001b[49m\u001b[43m,\u001b[49m\u001b[43m \u001b[49m\u001b[38;5;241;43m*\u001b[39;49m\u001b[38;5;241;43m*\u001b[39;49m\u001b[43mkwargs\u001b[49m\u001b[43m)\u001b[49m\n\u001b[1;32m   1788\u001b[0m result \u001b[38;5;241m=\u001b[39m \u001b[38;5;28;01mNone\u001b[39;00m\n\u001b[1;32m   1789\u001b[0m called_always_called_hooks \u001b[38;5;241m=\u001b[39m \u001b[38;5;28mset\u001b[39m()\n",
      "File \u001b[0;32m~/.conda/envs/pytorch/lib/python3.10/site-packages/torch/nn/modules/linear.py:134\u001b[0m, in \u001b[0;36mLinear.forward\u001b[0;34m(self, input)\u001b[0m\n\u001b[1;32m    130\u001b[0m \u001b[38;5;28;01mdef\u001b[39;00m \u001b[38;5;21mforward\u001b[39m(\u001b[38;5;28mself\u001b[39m, \u001b[38;5;28minput\u001b[39m: Tensor) \u001b[38;5;241m-\u001b[39m\u001b[38;5;241m>\u001b[39m Tensor:\n\u001b[1;32m    131\u001b[0m \u001b[38;5;250m    \u001b[39m\u001b[38;5;124;03m\"\"\"\u001b[39;00m\n\u001b[1;32m    132\u001b[0m \u001b[38;5;124;03m    Runs the forward pass.\u001b[39;00m\n\u001b[1;32m    133\u001b[0m \u001b[38;5;124;03m    \"\"\"\u001b[39;00m\n\u001b[0;32m--> 134\u001b[0m     \u001b[38;5;28;01mreturn\u001b[39;00m \u001b[43mF\u001b[49m\u001b[38;5;241;43m.\u001b[39;49m\u001b[43mlinear\u001b[49m\u001b[43m(\u001b[49m\u001b[38;5;28;43minput\u001b[39;49m\u001b[43m,\u001b[49m\u001b[43m \u001b[49m\u001b[38;5;28;43mself\u001b[39;49m\u001b[38;5;241;43m.\u001b[39;49m\u001b[43mweight\u001b[49m\u001b[43m,\u001b[49m\u001b[43m \u001b[49m\u001b[38;5;28;43mself\u001b[39;49m\u001b[38;5;241;43m.\u001b[39;49m\u001b[43mbias\u001b[49m\u001b[43m)\u001b[49m\n",
      "\u001b[0;31mRuntimeError\u001b[0m: Expected all tensors to be on the same device, but got mat1 is on cpu, different from other tensors on cuda:0 (when checking argument in method wrapper_CUDA_addmm)"
     ]
    }
   ],
   "source": [
    "import time\n",
    "\n",
    "model = build_model() # 신경망 모델 생성 (초기화)\n",
    "손실함수 = nn.CrossEntropyLoss() # 손실 함수 생성\n",
    "result = {}\n",
    "학습률 = 1.0\n",
    "학습횟수 = 100\n",
    "train_data = mnist['train'].data.reshape(-1, 784).float()/255.0\n",
    "train_target = mnist['train'].targets\n",
    "\n",
    "# 처음 시작 시, \"워밍 업\" 단계\n",
    "_ = model(train_data)\n",
    "\n",
    "for 배치크기 in [1, 10, 100, 1000, 6000, len(train_data)]:\n",
    "    배치색인 = torch.randperm(len(train_data))[:배치크기]\n",
    "    소요시간 = []\n",
    "    for __ in range(5): # 5회 반복 후 평균 시간 측정\n",
    "        start = time.time()\n",
    "        outputs = model(train_data[배치색인])\n",
    "        손실 = 손실함수(outputs, train_target[배치색인])\n",
    "        end = time.time()\n",
    "        소요시간.append(end - start)\n",
    "    result[배치크기] = {'손실': 손실.item(), '소요시간ms': np.mean(소요시간)*1000}\n",
    "\n",
    "\n",
    "pd.DataFrame(result).round(3).T"
   ]
  },
  {
   "cell_type": "markdown",
   "id": "d7946c5f",
   "metadata": {},
   "source": [
    "## 배치 크기\n",
    "\n",
    "원래보다 작은 크기로도 전체 손실 추정이 가능할 수 있음"
   ]
  },
  {
   "cell_type": "code",
   "execution_count": 191,
   "id": "15e04a8a",
   "metadata": {},
   "outputs": [
    {
     "name": "stdout",
     "output_type": "stream",
     "text": [
      "cpu\n",
      "cuda:0\n"
     ]
    }
   ],
   "source": [
    "model = build_model()\n",
    "W1 = next(model.parameters()) # 코드의 의미 : 첫 번째 매개변수를 가져옴\n",
    "print(W1.device) # 텐서가 저장된 장치 확인\n",
    "\n",
    "if torch.cuda.is_available():\n",
    "    device = torch.device('cuda')\n",
    "else:\n",
    "    device = torch.device('cpu')\n",
    "\n",
    "model.to(device)\n",
    "W1 = W1.to(device)\n",
    "print(W1.device)\n"
   ]
  },
  {
   "cell_type": "code",
   "execution_count": 205,
   "id": "c61eb189",
   "metadata": {},
   "outputs": [
    {
     "name": "stdout",
     "output_type": "stream",
     "text": [
      "배치크기=600, 에폭수=60, 학습횟수=6000(100/에폭)\n",
      "1 에폭 // 소요시간: 0.455초, 손실: 1.291\n",
      "2 에폭 // 소요시간: 0.403초, 손실: 0.597\n",
      "3 에폭 // 소요시간: 0.409초, 손실: 0.439\n",
      "4 에폭 // 소요시간: 0.424초, 손실: 0.318\n",
      "5 에폭 // 소요시간: 0.394초, 손실: 0.260\n",
      "6 에폭 // 소요시간: 0.384초, 손실: 0.271\n",
      "7 에폭 // 소요시간: 0.513초, 손실: 0.257\n",
      "8 에폭 // 소요시간: 0.363초, 손실: 0.217\n",
      "9 에폭 // 소요시간: 0.387초, 손실: 0.149\n",
      "10 에폭 // 소요시간: 0.369초, 손실: 0.173\n",
      "11 에폭 // 소요시간: 0.355초, 손실: 0.184\n",
      "12 에폭 // 소요시간: 0.406초, 손실: 0.114\n",
      "13 에폭 // 소요시간: 0.366초, 손실: 0.163\n",
      "14 에폭 // 소요시간: 0.369초, 손실: 0.141\n",
      "15 에폭 // 소요시간: 0.353초, 손실: 0.185\n",
      "16 에폭 // 소요시간: 0.342초, 손실: 0.162\n",
      "17 에폭 // 소요시간: 0.374초, 손실: 0.121\n",
      "18 에폭 // 소요시간: 0.381초, 손실: 0.091\n",
      "19 에폭 // 소요시간: 0.359초, 손실: 0.111\n",
      "20 에폭 // 소요시간: 0.399초, 손실: 0.089\n",
      "21 에폭 // 소요시간: 0.351초, 손실: 0.151\n",
      "22 에폭 // 소요시간: 0.364초, 손실: 0.078\n",
      "23 에폭 // 소요시간: 0.342초, 손실: 0.092\n",
      "24 에폭 // 소요시간: 0.374초, 손실: 0.102\n",
      "25 에폭 // 소요시간: 0.417초, 손실: 0.104\n",
      "26 에폭 // 소요시간: 0.392초, 손실: 0.103\n",
      "27 에폭 // 소요시간: 0.368초, 손실: 0.137\n",
      "28 에폭 // 소요시간: 0.356초, 손실: 0.094\n",
      "29 에폭 // 소요시간: 0.415초, 손실: 0.093\n",
      "30 에폭 // 소요시간: 0.360초, 손실: 0.062\n",
      "31 에폭 // 소요시간: 0.363초, 손실: 0.077\n",
      "32 에폭 // 소요시간: 0.397초, 손실: 0.081\n",
      "33 에폭 // 소요시간: 0.436초, 손실: 0.080\n",
      "34 에폭 // 소요시간: 0.377초, 손실: 0.077\n",
      "35 에폭 // 소요시간: 0.348초, 손실: 0.080\n",
      "36 에폭 // 소요시간: 0.369초, 손실: 0.070\n",
      "37 에폭 // 소요시간: 0.346초, 손실: 0.072\n",
      "38 에폭 // 소요시간: 0.338초, 손실: 0.043\n",
      "39 에폭 // 소요시간: 0.361초, 손실: 0.056\n",
      "40 에폭 // 소요시간: 0.479초, 손실: 0.052\n",
      "41 에폭 // 소요시간: 0.386초, 손실: 0.038\n",
      "42 에폭 // 소요시간: 0.340초, 손실: 0.039\n",
      "43 에폭 // 소요시간: 0.344초, 손실: 0.058\n",
      "44 에폭 // 소요시간: 0.354초, 손실: 0.036\n",
      "45 에폭 // 소요시간: 0.364초, 손실: 0.078\n",
      "46 에폭 // 소요시간: 0.369초, 손실: 0.045\n",
      "47 에폭 // 소요시간: 0.424초, 손실: 0.058\n",
      "48 에폭 // 소요시간: 0.362초, 손실: 0.038\n",
      "49 에폭 // 소요시간: 0.391초, 손실: 0.054\n",
      "50 에폭 // 소요시간: 0.367초, 손실: 0.041\n",
      "51 에폭 // 소요시간: 0.359초, 손실: 0.035\n",
      "52 에폭 // 소요시간: 0.378초, 손실: 0.035\n",
      "53 에폭 // 소요시간: 0.352초, 손실: 0.047\n",
      "54 에폭 // 소요시간: 0.370초, 손실: 0.034\n",
      "55 에폭 // 소요시간: 0.437초, 손실: 0.031\n",
      "56 에폭 // 소요시간: 0.401초, 손실: 0.033\n",
      "57 에폭 // 소요시간: 0.402초, 손실: 0.031\n",
      "58 에폭 // 소요시간: 0.401초, 손실: 0.048\n",
      "59 에폭 // 소요시간: 0.399초, 손실: 0.022\n",
      "60 에폭 // 소요시간: 0.357초, 손실: 0.032\n"
     ]
    }
   ],
   "source": [
    "import time\n",
    "\n",
    "model = build_model() # 신경망 모델 생성 (초기화)\n",
    "손실함수 = nn.CrossEntropyLoss() # 손실 함수 생성\n",
    "최적화 = torch.optim.SGD(model.parameters(), lr=1.0)\n",
    "\n",
    "device = torch.device('cuda' if torch.cuda.is_available() else 'cpu')\n",
    "model.to(device)\n",
    "\n",
    "에폭수 = 60\n",
    "배치크기 = 600\n",
    "에폭당_배치수 = len(train_data) // 배치크기\n",
    "학습횟수 = 에폭당_배치수 * 에폭수\n",
    "print(f'배치크기={배치크기}, 에폭수={에폭수}, 학습횟수={학습횟수}({에폭당_배치수}/에폭)')\n",
    "\n",
    "손실변화 = []\n",
    "에폭당_소요시간 = []\n",
    "for 에폭 in range(에폭수):\n",
    "    start = time.time()\n",
    "    for __ in range(에폭당_배치수):        \n",
    "        배치색인 = torch.randperm(len(train_data))[:배치크기]\n",
    "        # 전체 데이터가 아닌 배치 데이터와 타겟을 GPU로 보냄\n",
    "        batch_data = train_data[배치색인].to(device)\n",
    "        batch_target = train_target[배치색인].to(device)\n",
    "        #print(batch_data.shape, batch_target.shape)\n",
    "\n",
    "        #순전파\n",
    "        loss = 손실함수(model(batch_data), batch_target)\n",
    "        손실변화.append(loss.item())       \n",
    "\n",
    "        #역전파\n",
    "        loss.backward()\n",
    "\n",
    "        #매개변수 갱신\n",
    "        최적화.step()\n",
    "        최적화.zero_grad()\n",
    "\n",
    "    end = time.time()\n",
    "    에폭당_소요시간.append(end - start)\n",
    "    print(f'{에폭 + 1} 에폭 // 소요시간: {에폭당_소요시간[-1]:.3f}초, 손실: {손실변화[-1]:.3f}')\n",
    "\n",
    "# 평가\n",
    "# test_data_device = test_data.to(device)\n",
    "# test_target_device = test_target.to(device)\n",
    "# outputs = model(test_data_device)\n",
    "# y_pred = torch.argmax(outputs, dim=1)\n",
    "# print(f'정확도: {torch.sum(y_pred == test_target_device) / len(test_target_device)}')"
   ]
  },
  {
   "cell_type": "markdown",
   "id": "dab1a69f",
   "metadata": {},
   "source": [
    "## 5일차 오전 종료"
   ]
  },
  {
   "cell_type": "markdown",
   "id": "458e8235",
   "metadata": {},
   "source": [
    "## Keras\n",
    "\n",
    "신경망 구성/실험을 위한 고수준 API"
   ]
  },
  {
   "cell_type": "code",
   "execution_count": 210,
   "id": "edaecc31",
   "metadata": {},
   "outputs": [
    {
     "name": "stdout",
     "output_type": "stream",
     "text": [
      "PyTorch version: 2.9.0+cu128\n",
      "Keras version: 3.12.0\n"
     ]
    }
   ],
   "source": [
    "import os\n",
    "os.environ['KERAS_BACKEND'] = 'torch'\n",
    "\n",
    "import torch\n",
    "import keras\n",
    "\n",
    "print('PyTorch version:', torch.__version__)\n",
    "print('Keras version:', keras.__version__)\n",
    "\n"
   ]
  },
  {
   "cell_type": "code",
   "execution_count": 219,
   "id": "abc68a73",
   "metadata": {},
   "outputs": [
    {
     "data": {
      "text/html": [
       "<pre style=\"white-space:pre;overflow-x:auto;line-height:normal;font-family:Menlo,'DejaVu Sans Mono',consolas,'Courier New',monospace\"><span style=\"font-weight: bold\">Model: \"sequential_6\"</span>\n",
       "</pre>\n"
      ],
      "text/plain": [
       "\u001b[1mModel: \"sequential_6\"\u001b[0m\n"
      ]
     },
     "metadata": {},
     "output_type": "display_data"
    },
    {
     "data": {
      "text/html": [
       "<pre style=\"white-space:pre;overflow-x:auto;line-height:normal;font-family:Menlo,'DejaVu Sans Mono',consolas,'Courier New',monospace\">┏━━━━━━━━━━━━━━━━━━━━━━━━━━━━━━━━━┳━━━━━━━━━━━━━━━━━━━━━━━━┳━━━━━━━━━━━━━━━┓\n",
       "┃<span style=\"font-weight: bold\"> Layer (type)                    </span>┃<span style=\"font-weight: bold\"> Output Shape           </span>┃<span style=\"font-weight: bold\">       Param # </span>┃\n",
       "┡━━━━━━━━━━━━━━━━━━━━━━━━━━━━━━━━━╇━━━━━━━━━━━━━━━━━━━━━━━━╇━━━━━━━━━━━━━━━┩\n",
       "│ dense_18 (<span style=\"color: #0087ff; text-decoration-color: #0087ff\">Dense</span>)                │ (<span style=\"color: #00d7ff; text-decoration-color: #00d7ff\">None</span>, <span style=\"color: #00af00; text-decoration-color: #00af00\">50</span>)             │        <span style=\"color: #00af00; text-decoration-color: #00af00\">39,250</span> │\n",
       "├─────────────────────────────────┼────────────────────────┼───────────────┤\n",
       "│ dense_19 (<span style=\"color: #0087ff; text-decoration-color: #0087ff\">Dense</span>)                │ (<span style=\"color: #00d7ff; text-decoration-color: #00d7ff\">None</span>, <span style=\"color: #00af00; text-decoration-color: #00af00\">100</span>)            │         <span style=\"color: #00af00; text-decoration-color: #00af00\">5,100</span> │\n",
       "├─────────────────────────────────┼────────────────────────┼───────────────┤\n",
       "│ dense_20 (<span style=\"color: #0087ff; text-decoration-color: #0087ff\">Dense</span>)                │ (<span style=\"color: #00d7ff; text-decoration-color: #00d7ff\">None</span>, <span style=\"color: #00af00; text-decoration-color: #00af00\">10</span>)             │         <span style=\"color: #00af00; text-decoration-color: #00af00\">1,010</span> │\n",
       "└─────────────────────────────────┴────────────────────────┴───────────────┘\n",
       "</pre>\n"
      ],
      "text/plain": [
       "┏━━━━━━━━━━━━━━━━━━━━━━━━━━━━━━━━━┳━━━━━━━━━━━━━━━━━━━━━━━━┳━━━━━━━━━━━━━━━┓\n",
       "┃\u001b[1m \u001b[0m\u001b[1mLayer (type)                   \u001b[0m\u001b[1m \u001b[0m┃\u001b[1m \u001b[0m\u001b[1mOutput Shape          \u001b[0m\u001b[1m \u001b[0m┃\u001b[1m \u001b[0m\u001b[1m      Param #\u001b[0m\u001b[1m \u001b[0m┃\n",
       "┡━━━━━━━━━━━━━━━━━━━━━━━━━━━━━━━━━╇━━━━━━━━━━━━━━━━━━━━━━━━╇━━━━━━━━━━━━━━━┩\n",
       "│ dense_18 (\u001b[38;5;33mDense\u001b[0m)                │ (\u001b[38;5;45mNone\u001b[0m, \u001b[38;5;34m50\u001b[0m)             │        \u001b[38;5;34m39,250\u001b[0m │\n",
       "├─────────────────────────────────┼────────────────────────┼───────────────┤\n",
       "│ dense_19 (\u001b[38;5;33mDense\u001b[0m)                │ (\u001b[38;5;45mNone\u001b[0m, \u001b[38;5;34m100\u001b[0m)            │         \u001b[38;5;34m5,100\u001b[0m │\n",
       "├─────────────────────────────────┼────────────────────────┼───────────────┤\n",
       "│ dense_20 (\u001b[38;5;33mDense\u001b[0m)                │ (\u001b[38;5;45mNone\u001b[0m, \u001b[38;5;34m10\u001b[0m)             │         \u001b[38;5;34m1,010\u001b[0m │\n",
       "└─────────────────────────────────┴────────────────────────┴───────────────┘\n"
      ]
     },
     "metadata": {},
     "output_type": "display_data"
    },
    {
     "data": {
      "text/html": [
       "<pre style=\"white-space:pre;overflow-x:auto;line-height:normal;font-family:Menlo,'DejaVu Sans Mono',consolas,'Courier New',monospace\"><span style=\"font-weight: bold\"> Total params: </span><span style=\"color: #00af00; text-decoration-color: #00af00\">45,360</span> (177.19 KB)\n",
       "</pre>\n"
      ],
      "text/plain": [
       "\u001b[1m Total params: \u001b[0m\u001b[38;5;34m45,360\u001b[0m (177.19 KB)\n"
      ]
     },
     "metadata": {},
     "output_type": "display_data"
    },
    {
     "data": {
      "text/html": [
       "<pre style=\"white-space:pre;overflow-x:auto;line-height:normal;font-family:Menlo,'DejaVu Sans Mono',consolas,'Courier New',monospace\"><span style=\"font-weight: bold\"> Trainable params: </span><span style=\"color: #00af00; text-decoration-color: #00af00\">45,360</span> (177.19 KB)\n",
       "</pre>\n"
      ],
      "text/plain": [
       "\u001b[1m Trainable params: \u001b[0m\u001b[38;5;34m45,360\u001b[0m (177.19 KB)\n"
      ]
     },
     "metadata": {},
     "output_type": "display_data"
    },
    {
     "data": {
      "text/html": [
       "<pre style=\"white-space:pre;overflow-x:auto;line-height:normal;font-family:Menlo,'DejaVu Sans Mono',consolas,'Courier New',monospace\"><span style=\"font-weight: bold\"> Non-trainable params: </span><span style=\"color: #00af00; text-decoration-color: #00af00\">0</span> (0.00 B)\n",
       "</pre>\n"
      ],
      "text/plain": [
       "\u001b[1m Non-trainable params: \u001b[0m\u001b[38;5;34m0\u001b[0m (0.00 B)\n"
      ]
     },
     "metadata": {},
     "output_type": "display_data"
    },
    {
     "name": "stdout",
     "output_type": "stream",
     "text": [
      "Epoch 1/10\n",
      "\u001b[1m600/600\u001b[0m \u001b[32m━━━━━━━━━━━━━━━━━━━━\u001b[0m\u001b[37m\u001b[0m \u001b[1m9s\u001b[0m 15ms/step - accuracy: 0.8035 - loss: 0.6055\n",
      "Epoch 2/10\n",
      "\u001b[1m600/600\u001b[0m \u001b[32m━━━━━━━━━━━━━━━━━━━━\u001b[0m\u001b[37m\u001b[0m \u001b[1m9s\u001b[0m 15ms/step - accuracy: 0.9339 - loss: 0.2226\n",
      "Epoch 3/10\n",
      "\u001b[1m600/600\u001b[0m \u001b[32m━━━━━━━━━━━━━━━━━━━━\u001b[0m\u001b[37m\u001b[0m \u001b[1m9s\u001b[0m 15ms/step - accuracy: 0.9518 - loss: 0.1622\n",
      "Epoch 4/10\n",
      "\u001b[1m600/600\u001b[0m \u001b[32m━━━━━━━━━━━━━━━━━━━━\u001b[0m\u001b[37m\u001b[0m \u001b[1m10s\u001b[0m 17ms/step - accuracy: 0.9611 - loss: 0.1290\n",
      "Epoch 5/10\n",
      "\u001b[1m600/600\u001b[0m \u001b[32m━━━━━━━━━━━━━━━━━━━━\u001b[0m\u001b[37m\u001b[0m \u001b[1m10s\u001b[0m 16ms/step - accuracy: 0.9677 - loss: 0.1080\n",
      "Epoch 6/10\n",
      "\u001b[1m600/600\u001b[0m \u001b[32m━━━━━━━━━━━━━━━━━━━━\u001b[0m\u001b[37m\u001b[0m \u001b[1m10s\u001b[0m 17ms/step - accuracy: 0.9725 - loss: 0.0922\n",
      "Epoch 7/10\n",
      "\u001b[1m600/600\u001b[0m \u001b[32m━━━━━━━━━━━━━━━━━━━━\u001b[0m\u001b[37m\u001b[0m \u001b[1m10s\u001b[0m 16ms/step - accuracy: 0.9751 - loss: 0.0818\n",
      "Epoch 8/10\n",
      "\u001b[1m600/600\u001b[0m \u001b[32m━━━━━━━━━━━━━━━━━━━━\u001b[0m\u001b[37m\u001b[0m \u001b[1m10s\u001b[0m 17ms/step - accuracy: 0.9776 - loss: 0.0734\n",
      "Epoch 9/10\n",
      "\u001b[1m600/600\u001b[0m \u001b[32m━━━━━━━━━━━━━━━━━━━━\u001b[0m\u001b[37m\u001b[0m \u001b[1m10s\u001b[0m 16ms/step - accuracy: 0.9799 - loss: 0.0659\n",
      "Epoch 10/10\n",
      "\u001b[1m600/600\u001b[0m \u001b[32m━━━━━━━━━━━━━━━━━━━━\u001b[0m\u001b[37m\u001b[0m \u001b[1m10s\u001b[0m 17ms/step - accuracy: 0.9815 - loss: 0.0602\n"
     ]
    }
   ],
   "source": [
    "import keras\n",
    "from keras import layers\n",
    "\n",
    "model = keras.Sequential([\n",
    "    keras.Input(shape=(784,)),\n",
    "    layers.Dense(units=50,  activation='sigmoid'), # nn.Linear + nn.Sigmoid\n",
    "    layers.Dense(units=100, activation='sigmoid'),\n",
    "    layers.Dense(units=10) # softmax를 안하면, from_logits=True로 설정해야 함\n",
    "])\n",
    "model.summary()\n",
    "\n",
    "model.compile(\n",
    "    loss=keras.losses.SparseCategoricalCrossentropy(from_logits=True), # 다중 분류 손실\n",
    "    optimizer=keras.optimizers.SGD(learning_rate=1.0),\n",
    "    metrics=['accuracy'] # 평가지표 : 정확도\n",
    ") # 손실함수와 최적화 기법을 지정\n",
    "\n",
    "history = model.fit(\n",
    "    train_data,\n",
    "    train_target,\n",
    "    epochs=10,\n",
    "    batch_size=100,\n",
    ")\n",
    "\n",
    "\n"
   ]
  },
  {
   "cell_type": "code",
   "execution_count": null,
   "id": "c18523ff",
   "metadata": {},
   "outputs": [
    {
     "name": "stdout",
     "output_type": "stream",
     "text": [
      "Cuda? True\n",
      "<class 'torch.Tensor'> torch.Size([10000, 10]) cuda:0\n"
     ]
    }
   ],
   "source": [
    "# Keras 연산은 설정된 백엔드 (여기서는 PyTorch)를 사용합니다. \n",
    "# GPU가 가능한 경우, 자동으로 GPU를 사용합니다. \n",
    "print('Cuda?', torch.cuda.is_available())\n",
    "outputs = model(test_data)\n",
    "print(type(outputs), outputs.shape, outputs.device)\n"
   ]
  },
  {
   "cell_type": "code",
   "execution_count": null,
   "id": "0871f692",
   "metadata": {},
   "outputs": [
    {
     "name": "stdout",
     "output_type": "stream",
     "text": [
      "\u001b[1m  1/313\u001b[0m \u001b[37m━━━━━━━━━━━━━━━━━━━━\u001b[0m \u001b[1m8s\u001b[0m 26ms/step - accuracy: 1.0000 - loss: 0.0140"
     ]
    },
    {
     "name": "stdout",
     "output_type": "stream",
     "text": [
      "\u001b[1m313/313\u001b[0m \u001b[32m━━━━━━━━━━━━━━━━━━━━\u001b[0m\u001b[37m\u001b[0m \u001b[1m3s\u001b[0m 10ms/step - accuracy: 0.9718 - loss: 0.0909\n"
     ]
    },
    {
     "data": {
      "text/plain": [
       "Loss        0.090852\n",
       "Accuracy    0.971800\n",
       "dtype: float64"
      ]
     },
     "execution_count": 227,
     "metadata": {},
     "output_type": "execute_result"
    }
   ],
   "source": [
    "# 기본 배치 크기 : 32, 여기서도 배치로 계산하는 것이 좋다. \n",
    "test_loss, *metrics = model.evaluate(test_data, test_target)\n",
    "\n",
    "pd.Series({'Loss': test_loss, 'Accuracy': metrics[0]})\n"
   ]
  },
  {
   "cell_type": "markdown",
   "id": "3498177e",
   "metadata": {},
   "source": [
    "## Fashion MNIST"
   ]
  },
  {
   "cell_type": "code",
   "execution_count": 236,
   "id": "9a30b7bb",
   "metadata": {},
   "outputs": [
    {
     "name": "stdout",
     "output_type": "stream",
     "text": [
      "torch.Size([60000, 28, 28]) torch.Size([60000])\n",
      "torch.Size([10000, 28, 28]) torch.Size([10000])\n"
     ]
    },
    {
     "data": {
      "text/html": [
       "<div>\n",
       "<style scoped>\n",
       "    .dataframe tbody tr th:only-of-type {\n",
       "        vertical-align: middle;\n",
       "    }\n",
       "\n",
       "    .dataframe tbody tr th {\n",
       "        vertical-align: top;\n",
       "    }\n",
       "\n",
       "    .dataframe thead th {\n",
       "        text-align: right;\n",
       "    }\n",
       "</style>\n",
       "<table border=\"1\" class=\"dataframe\">\n",
       "  <thead>\n",
       "    <tr style=\"text-align: right;\">\n",
       "      <th></th>\n",
       "      <th>0</th>\n",
       "      <th>1</th>\n",
       "      <th>2</th>\n",
       "      <th>3</th>\n",
       "      <th>4</th>\n",
       "      <th>5</th>\n",
       "      <th>6</th>\n",
       "      <th>7</th>\n",
       "      <th>8</th>\n",
       "      <th>9</th>\n",
       "    </tr>\n",
       "  </thead>\n",
       "  <tbody>\n",
       "    <tr>\n",
       "      <th>train</th>\n",
       "      <td>6000</td>\n",
       "      <td>6000</td>\n",
       "      <td>6000</td>\n",
       "      <td>6000</td>\n",
       "      <td>6000</td>\n",
       "      <td>6000</td>\n",
       "      <td>6000</td>\n",
       "      <td>6000</td>\n",
       "      <td>6000</td>\n",
       "      <td>6000</td>\n",
       "    </tr>\n",
       "    <tr>\n",
       "      <th>test</th>\n",
       "      <td>1000</td>\n",
       "      <td>1000</td>\n",
       "      <td>1000</td>\n",
       "      <td>1000</td>\n",
       "      <td>1000</td>\n",
       "      <td>1000</td>\n",
       "      <td>1000</td>\n",
       "      <td>1000</td>\n",
       "      <td>1000</td>\n",
       "      <td>1000</td>\n",
       "    </tr>\n",
       "  </tbody>\n",
       "</table>\n",
       "</div>"
      ],
      "text/plain": [
       "          0     1     2     3     4     5     6     7     8     9\n",
       "train  6000  6000  6000  6000  6000  6000  6000  6000  6000  6000\n",
       "test   1000  1000  1000  1000  1000  1000  1000  1000  1000  1000"
      ]
     },
     "metadata": {},
     "output_type": "display_data"
    },
    {
     "data": {
      "text/plain": [
       "['T-shirt/top',\n",
       " 'Trouser',\n",
       " 'Pullover',\n",
       " 'Dress',\n",
       " 'Coat',\n",
       " 'Sandal',\n",
       " 'Shirt',\n",
       " 'Sneaker',\n",
       " 'Bag',\n",
       " 'Ankle boot']"
      ]
     },
     "execution_count": 236,
     "metadata": {},
     "output_type": "execute_result"
    },
    {
     "data": {
      "image/png": "[encoded data removed]",
      "text/plain": [
       "<Figure size 640x480 with 1 Axes>"
      ]
     },
     "metadata": {},
     "output_type": "display_data"
    }
   ],
   "source": [
    "from torchvision.datasets import FashionMNIST\n",
    "\n",
    "fashion_mnist = {}\n",
    "fashion_mnist['train'] = FashionMNIST(root='~/data', train=True, download=True)\n",
    "fashion_mnist['test'] = FashionMNIST(root='~/data', train=False, download=True)\n",
    "\n",
    "print(fashion_mnist['train'].data.shape, fashion_mnist['train'].targets.shape)\n",
    "print(fashion_mnist['test'].data.shape, fashion_mnist['test'].targets.shape)\n",
    "\n",
    "display(pd.DataFrame({\n",
    "    'train' : pd.Series(fashion_mnist['train'].targets).value_counts(),\n",
    "    'test' : pd.Series(fashion_mnist['test'].targets).value_counts()\n",
    "}).T)\n",
    "\n",
    "# sample 1개 시각화\n",
    "plt.imshow(fashion_mnist['train'].data[0].numpy().reshape(28, 28))\n",
    "# data에 대한 설명\n",
    "fashion_mnist['train'].classes"
   ]
  },
  {
   "cell_type": "markdown",
   "id": "3313ea60",
   "metadata": {},
   "source": [
    "Q: 형식과 유형이 동일한 서로 다른 내용의 데이터 셋에 같은 모형을 적용하면?\n",
    "\n",
    "결과적으로는 정확도가 떨어지네...."
   ]
  },
  {
   "cell_type": "code",
   "execution_count": null,
   "id": "2cbcdc2b",
   "metadata": {},
   "outputs": [
    {
     "data": {
      "text/html": [
       "<pre style=\"white-space:pre;overflow-x:auto;line-height:normal;font-family:Menlo,'DejaVu Sans Mono',consolas,'Courier New',monospace\"><span style=\"font-weight: bold\">Model: \"sequential_11\"</span>\n",
       "</pre>\n"
      ],
      "text/plain": [
       "\u001b[1mModel: \"sequential_11\"\u001b[0m\n"
      ]
     },
     "metadata": {},
     "output_type": "display_data"
    },
    {
     "data": {
      "text/html": [
       "<pre style=\"white-space:pre;overflow-x:auto;line-height:normal;font-family:Menlo,'DejaVu Sans Mono',consolas,'Courier New',monospace\">┏━━━━━━━━━━━━━━━━━━━━━━━━━━━━━━━━━┳━━━━━━━━━━━━━━━━━━━━━━━━┳━━━━━━━━━━━━━━━┓\n",
       "┃<span style=\"font-weight: bold\"> Layer (type)                    </span>┃<span style=\"font-weight: bold\"> Output Shape           </span>┃<span style=\"font-weight: bold\">       Param # </span>┃\n",
       "┡━━━━━━━━━━━━━━━━━━━━━━━━━━━━━━━━━╇━━━━━━━━━━━━━━━━━━━━━━━━╇━━━━━━━━━━━━━━━┩\n",
       "│ rescaling_3 (<span style=\"color: #0087ff; text-decoration-color: #0087ff\">Rescaling</span>)         │ (<span style=\"color: #00d7ff; text-decoration-color: #00d7ff\">None</span>, <span style=\"color: #00af00; text-decoration-color: #00af00\">28</span>, <span style=\"color: #00af00; text-decoration-color: #00af00\">28</span>)         │             <span style=\"color: #00af00; text-decoration-color: #00af00\">0</span> │\n",
       "├─────────────────────────────────┼────────────────────────┼───────────────┤\n",
       "│ flatten_3 (<span style=\"color: #0087ff; text-decoration-color: #0087ff\">Flatten</span>)             │ (<span style=\"color: #00d7ff; text-decoration-color: #00d7ff\">None</span>, <span style=\"color: #00af00; text-decoration-color: #00af00\">784</span>)            │             <span style=\"color: #00af00; text-decoration-color: #00af00\">0</span> │\n",
       "├─────────────────────────────────┼────────────────────────┼───────────────┤\n",
       "│ dense_33 (<span style=\"color: #0087ff; text-decoration-color: #0087ff\">Dense</span>)                │ (<span style=\"color: #00d7ff; text-decoration-color: #00d7ff\">None</span>, <span style=\"color: #00af00; text-decoration-color: #00af00\">50</span>)             │        <span style=\"color: #00af00; text-decoration-color: #00af00\">39,250</span> │\n",
       "├─────────────────────────────────┼────────────────────────┼───────────────┤\n",
       "│ dense_34 (<span style=\"color: #0087ff; text-decoration-color: #0087ff\">Dense</span>)                │ (<span style=\"color: #00d7ff; text-decoration-color: #00d7ff\">None</span>, <span style=\"color: #00af00; text-decoration-color: #00af00\">100</span>)            │         <span style=\"color: #00af00; text-decoration-color: #00af00\">5,100</span> │\n",
       "├─────────────────────────────────┼────────────────────────┼───────────────┤\n",
       "│ dense_35 (<span style=\"color: #0087ff; text-decoration-color: #0087ff\">Dense</span>)                │ (<span style=\"color: #00d7ff; text-decoration-color: #00d7ff\">None</span>, <span style=\"color: #00af00; text-decoration-color: #00af00\">10</span>)             │         <span style=\"color: #00af00; text-decoration-color: #00af00\">1,010</span> │\n",
       "└─────────────────────────────────┴────────────────────────┴───────────────┘\n",
       "</pre>\n"
      ],
      "text/plain": [
       "┏━━━━━━━━━━━━━━━━━━━━━━━━━━━━━━━━━┳━━━━━━━━━━━━━━━━━━━━━━━━┳━━━━━━━━━━━━━━━┓\n",
       "┃\u001b[1m \u001b[0m\u001b[1mLayer (type)                   \u001b[0m\u001b[1m \u001b[0m┃\u001b[1m \u001b[0m\u001b[1mOutput Shape          \u001b[0m\u001b[1m \u001b[0m┃\u001b[1m \u001b[0m\u001b[1m      Param #\u001b[0m\u001b[1m \u001b[0m┃\n",
       "┡━━━━━━━━━━━━━━━━━━━━━━━━━━━━━━━━━╇━━━━━━━━━━━━━━━━━━━━━━━━╇━━━━━━━━━━━━━━━┩\n",
       "│ rescaling_3 (\u001b[38;5;33mRescaling\u001b[0m)         │ (\u001b[38;5;45mNone\u001b[0m, \u001b[38;5;34m28\u001b[0m, \u001b[38;5;34m28\u001b[0m)         │             \u001b[38;5;34m0\u001b[0m │\n",
       "├─────────────────────────────────┼────────────────────────┼───────────────┤\n",
       "│ flatten_3 (\u001b[38;5;33mFlatten\u001b[0m)             │ (\u001b[38;5;45mNone\u001b[0m, \u001b[38;5;34m784\u001b[0m)            │             \u001b[38;5;34m0\u001b[0m │\n",
       "├─────────────────────────────────┼────────────────────────┼───────────────┤\n",
       "│ dense_33 (\u001b[38;5;33mDense\u001b[0m)                │ (\u001b[38;5;45mNone\u001b[0m, \u001b[38;5;34m50\u001b[0m)             │        \u001b[38;5;34m39,250\u001b[0m │\n",
       "├─────────────────────────────────┼────────────────────────┼───────────────┤\n",
       "│ dense_34 (\u001b[38;5;33mDense\u001b[0m)                │ (\u001b[38;5;45mNone\u001b[0m, \u001b[38;5;34m100\u001b[0m)            │         \u001b[38;5;34m5,100\u001b[0m │\n",
       "├─────────────────────────────────┼────────────────────────┼───────────────┤\n",
       "│ dense_35 (\u001b[38;5;33mDense\u001b[0m)                │ (\u001b[38;5;45mNone\u001b[0m, \u001b[38;5;34m10\u001b[0m)             │         \u001b[38;5;34m1,010\u001b[0m │\n",
       "└─────────────────────────────────┴────────────────────────┴───────────────┘\n"
      ]
     },
     "metadata": {},
     "output_type": "display_data"
    },
    {
     "data": {
      "text/html": [
       "<pre style=\"white-space:pre;overflow-x:auto;line-height:normal;font-family:Menlo,'DejaVu Sans Mono',consolas,'Courier New',monospace\"><span style=\"font-weight: bold\"> Total params: </span><span style=\"color: #00af00; text-decoration-color: #00af00\">45,360</span> (177.19 KB)\n",
       "</pre>\n"
      ],
      "text/plain": [
       "\u001b[1m Total params: \u001b[0m\u001b[38;5;34m45,360\u001b[0m (177.19 KB)\n"
      ]
     },
     "metadata": {},
     "output_type": "display_data"
    },
    {
     "data": {
      "text/html": [
       "<pre style=\"white-space:pre;overflow-x:auto;line-height:normal;font-family:Menlo,'DejaVu Sans Mono',consolas,'Courier New',monospace\"><span style=\"font-weight: bold\"> Trainable params: </span><span style=\"color: #00af00; text-decoration-color: #00af00\">45,360</span> (177.19 KB)\n",
       "</pre>\n"
      ],
      "text/plain": [
       "\u001b[1m Trainable params: \u001b[0m\u001b[38;5;34m45,360\u001b[0m (177.19 KB)\n"
      ]
     },
     "metadata": {},
     "output_type": "display_data"
    },
    {
     "data": {
      "text/html": [
       "<pre style=\"white-space:pre;overflow-x:auto;line-height:normal;font-family:Menlo,'DejaVu Sans Mono',consolas,'Courier New',monospace\"><span style=\"font-weight: bold\"> Non-trainable params: </span><span style=\"color: #00af00; text-decoration-color: #00af00\">0</span> (0.00 B)\n",
       "</pre>\n"
      ],
      "text/plain": [
       "\u001b[1m Non-trainable params: \u001b[0m\u001b[38;5;34m0\u001b[0m (0.00 B)\n"
      ]
     },
     "metadata": {},
     "output_type": "display_data"
    },
    {
     "name": "stdout",
     "output_type": "stream",
     "text": [
      "Epoch 1/10\n",
      "\u001b[1m600/600\u001b[0m \u001b[32m━━━━━━━━━━━━━━━━━━━━\u001b[0m\u001b[37m\u001b[0m \u001b[1m10s\u001b[0m 17ms/step - accuracy: 0.6939 - loss: 0.8074\n",
      "Epoch 2/10\n",
      "\u001b[1m600/600\u001b[0m \u001b[32m━━━━━━━━━━━━━━━━━━━━\u001b[0m\u001b[37m\u001b[0m \u001b[1m11s\u001b[0m 18ms/step - accuracy: 0.8213 - loss: 0.4841\n",
      "Epoch 3/10\n",
      "\u001b[1m600/600\u001b[0m \u001b[32m━━━━━━━━━━━━━━━━━━━━\u001b[0m\u001b[37m\u001b[0m \u001b[1m12s\u001b[0m 19ms/step - accuracy: 0.8447 - loss: 0.4246\n",
      "Epoch 4/10\n",
      "\u001b[1m600/600\u001b[0m \u001b[32m━━━━━━━━━━━━━━━━━━━━\u001b[0m\u001b[37m\u001b[0m \u001b[1m12s\u001b[0m 20ms/step - accuracy: 0.8552 - loss: 0.3921\n",
      "Epoch 5/10\n",
      "\u001b[1m600/600\u001b[0m \u001b[32m━━━━━━━━━━━━━━━━━━━━\u001b[0m\u001b[37m\u001b[0m \u001b[1m12s\u001b[0m 20ms/step - accuracy: 0.8637 - loss: 0.3704\n",
      "Epoch 6/10\n",
      "\u001b[1m600/600\u001b[0m \u001b[32m━━━━━━━━━━━━━━━━━━━━\u001b[0m\u001b[37m\u001b[0m \u001b[1m12s\u001b[0m 20ms/step - accuracy: 0.8707 - loss: 0.3519\n",
      "Epoch 7/10\n",
      "\u001b[1m600/600\u001b[0m \u001b[32m━━━━━━━━━━━━━━━━━━━━\u001b[0m\u001b[37m\u001b[0m \u001b[1m14s\u001b[0m 24ms/step - accuracy: 0.8736 - loss: 0.3412\n",
      "Epoch 8/10\n",
      "\u001b[1m600/600\u001b[0m \u001b[32m━━━━━━━━━━━━━━━━━━━━\u001b[0m\u001b[37m\u001b[0m \u001b[1m12s\u001b[0m 19ms/step - accuracy: 0.8784 - loss: 0.3295\n",
      "Epoch 9/10\n",
      "\u001b[1m600/600\u001b[0m \u001b[32m━━━━━━━━━━━━━━━━━━━━\u001b[0m\u001b[37m\u001b[0m \u001b[1m12s\u001b[0m 20ms/step - accuracy: 0.8808 - loss: 0.3200\n",
      "Epoch 10/10\n",
      "\u001b[1m600/600\u001b[0m \u001b[32m━━━━━━━━━━━━━━━━━━━━\u001b[0m\u001b[37m\u001b[0m \u001b[1m12s\u001b[0m 20ms/step - accuracy: 0.8836 - loss: 0.3122\n",
      "\u001b[1m313/313\u001b[0m \u001b[32m━━━━━━━━━━━━━━━━━━━━\u001b[0m\u001b[37m\u001b[0m \u001b[1m5s\u001b[0m 16ms/step - accuracy: 0.8689 - loss: 0.3677\n"
     ]
    },
    {
     "data": {
      "text/plain": [
       "Loss        0.367665\n",
       "Accuracy    0.868900\n",
       "dtype: float64"
      ]
     },
     "execution_count": 239,
     "metadata": {},
     "output_type": "execute_result"
    }
   ],
   "source": [
    "import keras\n",
    "from keras import layers\n",
    "\n",
    "train_data = fashion_mnist['train'].data\n",
    "train_target = np.array(fashion_mnist['train'].targets)\n",
    "test_data = fashion_mnist['test'].data\n",
    "test_target = np.array(fashion_mnist['test'].targets)\n",
    "\n",
    "model = keras.Sequential([\n",
    "    keras.Input(shape=(28, 28)),\n",
    "    # 전처리\n",
    "    layers.Rescaling(scale=1.0/255), # 정규화\n",
    "    layers.Flatten(), # 2차원 데이터를 1차원으로 펼침\n",
    "    # 은닉층\n",
    "    layers.Dense(units=50,  activation='sigmoid'), # nn.Linear + nn.Sigmoid\n",
    "    layers.Dense(units=100, activation='sigmoid'),\n",
    "    # 출력층\n",
    "    layers.Dense(units=10, activation='softmax') # softmax를 안하면, from_logits=True로 설정해야 함\n",
    "])\n",
    "model.summary()\n",
    "\n",
    "model.compile(\n",
    "    loss=keras.losses.SparseCategoricalCrossentropy(from_logits=False), \n",
    "    optimizer=keras.optimizers.SGD(learning_rate=1.0),\n",
    "    metrics=['accuracy'] # 평가지표 : 정확도\n",
    ") # 손실함수와 최적화 기법을 지정\n",
    "\n",
    "history = model.fit(\n",
    "    train_data,\n",
    "    train_target,\n",
    "    epochs=10,\n",
    "    batch_size=100,\n",
    ")\n",
    "\n",
    "#history = model.fit(mnist['train'].data, mnist['train'].targets, epochs=10, batch_size=100)\n",
    "\n",
    "# 평가\n",
    "test_loss, *metrics = model.evaluate(test_data, test_target)\n",
    "\n",
    "pd.Series({'Loss': test_loss, 'Accuracy': metrics[0]})\n",
    "\n"
   ]
  }
 ],
 "metadata": {
  "kernelspec": {
   "display_name": "pytorch",
   "language": "python",
   "name": "python3"
  },
  "language_info": {
   "codemirror_mode": {
    "name": "ipython",
    "version": 3
   },
   "file_extension": ".py",
   "mimetype": "text/x-python",
   "name": "python",
   "nbconvert_exporter": "python",
   "pygments_lexer": "ipython3",
   "version": "3.10.13"
  }
 },
 "nbformat": 4,
 "nbformat_minor": 5
}
