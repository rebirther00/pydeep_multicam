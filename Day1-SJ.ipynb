{
 "cells": [
  {
   "cell_type": "code",
   "execution_count": 1,
   "id": "dcd72d93",
   "metadata": {},
   "outputs": [
    {
     "name": "stdout",
     "output_type": "stream",
     "text": [
      "셀 실행 shift + Enter\n"
     ]
    }
   ],
   "source": [
    "print('셀 실행 shift + Enter')"
   ]
  },
  {
   "cell_type": "code",
   "execution_count": 2,
   "id": "24b50cdb",
   "metadata": {},
   "outputs": [
    {
     "data": {
      "text/plain": [
       "'/home/me/pydeep'"
      ]
     },
     "execution_count": 2,
     "metadata": {},
     "output_type": "execute_result"
    }
   ],
   "source": [
    "%pwd"
   ]
  },
  {
   "cell_type": "code",
   "execution_count": 6,
   "id": "9e6bee2b",
   "metadata": {},
   "outputs": [
    {
     "name": "stdout",
     "output_type": "stream",
     "text": [
      "Scikit-Learn 1.5.2\n",
      "PyTorch 2.5.1\n",
      "NVIDIA GPU: True\n"
     ]
    }
   ],
   "source": [
    "import numpy as np\n",
    "import pandas as pd\n",
    "import matplotlib\n",
    "import sklearn\n",
    "import torch\n",
    "\n",
    "print('Scikit-Learn', sklearn.__version__)\n",
    "print('PyTorch', torch.__version__)\n",
    "print('NVIDIA GPU:', torch.cuda.is_available())"
   ]
  }
 ],
 "metadata": {
  "kernelspec": {
   "display_name": "pytorch",
   "language": "python",
   "name": "python3"
  },
  "language_info": {
   "codemirror_mode": {
    "name": "ipython",
    "version": 3
   },
   "file_extension": ".py",
   "mimetype": "text/x-python",
   "name": "python",
   "nbconvert_exporter": "python",
   "pygments_lexer": "ipython3",
   "version": "3.10.13"
  }
 },
 "nbformat": 4,
 "nbformat_minor": 5
}
