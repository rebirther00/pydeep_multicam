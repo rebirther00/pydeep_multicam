{
 "cells": [
  {
   "cell_type": "markdown",
   "id": "4b2ef9b1",
   "metadata": {},
   "source": [
    "# Day 2"
   ]
  },
  {
   "cell_type": "code",
   "execution_count": 1,
   "id": "b5bf3581",
   "metadata": {},
   "outputs": [],
   "source": [
    "import numpy as np\n",
    "import pandas as pd\n",
    "import matplotlib.pyplot as plt"
   ]
  },
  {
   "cell_type": "markdown",
   "id": "f5c277ce",
   "metadata": {},
   "source": [
    "## 1943 MCP 뉴런"
   ]
  },
  {
   "cell_type": "code",
   "execution_count": 2,
   "id": "8209b6cb",
   "metadata": {},
   "outputs": [
    {
     "name": "stdout",
     "output_type": "stream",
     "text": [
      "z = 0.41\n",
      "y = 1\n"
     ]
    },
    {
     "data": {
      "text/html": [
       "<div>\n",
       "<style scoped>\n",
       "    .dataframe tbody tr th:only-of-type {\n",
       "        vertical-align: middle;\n",
       "    }\n",
       "\n",
       "    .dataframe tbody tr th {\n",
       "        vertical-align: top;\n",
       "    }\n",
       "\n",
       "    .dataframe thead th {\n",
       "        text-align: right;\n",
       "    }\n",
       "</style>\n",
       "<table border=\"1\" class=\"dataframe\">\n",
       "  <thead>\n",
       "    <tr style=\"text-align: right;\">\n",
       "      <th></th>\n",
       "      <th>0</th>\n",
       "      <th>1</th>\n",
       "      <th>2</th>\n",
       "      <th>3</th>\n",
       "      <th>4</th>\n",
       "    </tr>\n",
       "  </thead>\n",
       "  <tbody>\n",
       "    <tr>\n",
       "      <th>x</th>\n",
       "      <td>0.10</td>\n",
       "      <td>0.35</td>\n",
       "      <td>0.60</td>\n",
       "      <td>0.85</td>\n",
       "      <td>1.10</td>\n",
       "    </tr>\n",
       "    <tr>\n",
       "      <th>w</th>\n",
       "      <td>0.35</td>\n",
       "      <td>0.82</td>\n",
       "      <td>0.33</td>\n",
       "      <td>-1.30</td>\n",
       "      <td>0.91</td>\n",
       "    </tr>\n",
       "    <tr>\n",
       "      <th>wx</th>\n",
       "      <td>0.03</td>\n",
       "      <td>0.29</td>\n",
       "      <td>0.20</td>\n",
       "      <td>-1.11</td>\n",
       "      <td>1.00</td>\n",
       "    </tr>\n",
       "  </tbody>\n",
       "</table>\n",
       "</div>"
      ],
      "text/plain": [
       "       0     1     2     3     4\n",
       "x   0.10  0.35  0.60  0.85  1.10\n",
       "w   0.35  0.82  0.33 -1.30  0.91\n",
       "wx  0.03  0.29  0.20 -1.11  1.00"
      ]
     },
     "execution_count": 2,
     "metadata": {},
     "output_type": "execute_result"
    }
   ],
   "source": [
    "random = np.random.default_rng(1)\n",
    "x = np.linspace(0.1, 1.1, 5)\n",
    "w = random.normal(0, 1, size=x.shape)\n",
    "\n",
    "z = np.dot(x, w)\n",
    "print(f'z = {z:.2f}')\n",
    "\n",
    "b = 0.3\n",
    "y = 1 if z > b else -1\n",
    "print(f'y = {y}')\n",
    "\n",
    "pd.DataFrame({'x': x, 'w': w, 'wx': x * w}).round(2).T"
   ]
  },
  {
   "cell_type": "code",
   "execution_count": 3,
   "id": "5a4a70b5",
   "metadata": {},
   "outputs": [
    {
     "name": "stdout",
     "output_type": "stream",
     "text": [
      "x=[0.1  0.35 0.6  0.85 1.1 ] -> f(x; w, b) = 1\n"
     ]
    }
   ],
   "source": [
    "def MCP뉴런(x, w, b):\n",
    "    z = np.dot(x, w) + b\n",
    "    y = 1 if z > 0 else -1\n",
    "    return y\n",
    "\n",
    "random = np.random.default_rng(1)\n",
    "x = np.linspace(0.1, 1.1, 5)\n",
    "w = random.normal(0, 1, size=x.shape)\n",
    "b = 0.3 \n",
    "y = MCP뉴런(x, w, b)\n",
    "print(f'x={x.round(2)} -> f(x; w, b) = {y:}')"
   ]
  },
  {
   "cell_type": "markdown",
   "id": "a490abaf",
   "metadata": {},
   "source": [
    "## 논리 회로"
   ]
  },
  {
   "cell_type": "code",
   "execution_count": 4,
   "id": "74405699",
   "metadata": {},
   "outputs": [
    {
     "name": "stdout",
     "output_type": "stream",
     "text": [
      "AND\n",
      "x=[0 0] -> 0\n",
      "x=[0 1] -> 0\n",
      "x=[1 0] -> 0\n",
      "x=[1 1] -> 1\n"
     ]
    }
   ],
   "source": [
    "def logic(w, b):\n",
    "    for xi in np.array([(0, 0), (0, 1), (1, 0), (1, 1)]):\n",
    "        yi = MCP뉴런(xi, w, b)\n",
    "        print(f'x={xi} -> {yi if yi > 0 else 0}')\n",
    "\n",
    "w_and = np.array([0.5, 0.5])\n",
    "b_and = -0.7\n",
    "print('AND')\n",
    "logic(w_and, b_and)"
   ]
  },
  {
   "cell_type": "markdown",
   "id": "87fca997",
   "metadata": {},
   "source": [
    "$$\n",
    "\\begin{aligned}\n",
    "z &= w^{\\top} x + b = w_1 x_1 + w_2 x_2 + \\dots + w_n x_n + b\n",
    "\\\\\n",
    "y &= \n",
    "\\begin{cases}\n",
    "+1 \\quad z > 0 \\\\\n",
    "-1 \\quad z \\leq 0\n",
    "\\end{cases}\n",
    "\\end{aligned}\n",
    "$$\n",
    "\n",
    "입력 벡터 $\\mathbf{x} = \\left(x_1, x_2\\right)$ 경우,\n",
    "\n",
    "$$\n",
    "z = w_1 x_1 + w_2 x_2 + b\n",
    "$$\n",
    "\n",
    "결정경계 $z = 0$ \n",
    "\n",
    "$$\n",
    "\\begin{aligned}\n",
    "0 &= w_1 x_1 + w_2 x_2 + b\n",
    "\\\\\n",
    "x_2 &= \\frac{w_1}{-w_2} x_1 + \\frac{b}{-w_2}\n",
    "\\end{aligned}\n",
    "$$"
   ]
  },
  {
   "cell_type": "code",
   "execution_count": 5,
   "id": "a54f598f",
   "metadata": {},
   "outputs": [
    {
     "data": {
      "image/png": "[encoded data removed]",
      "text/plain": [
       "<Figure size 1000x300 with 3 Axes>"
      ]
     },
     "metadata": {},
     "output_type": "display_data"
    }
   ],
   "source": [
    "Xs = np.array([[0, 0], [0, 1], [1, 0], [1, 1]])\n",
    "\n",
    "plt.figure(figsize=(10, 3)) # 그림틀 크기 지정: 가로, 세로\n",
    "plt.subplot(1, 3, 1) # 1행 3열 중 첫번째\n",
    "y_and = np.array([0, 0, 0, 1])\n",
    "plt.scatter(Xs[:, 0], Xs[:, 1], c=y_and, cmap='bwr')\n",
    "# 결정경계\n",
    "z0 = lambda x, w, b: (w[0] * x + b) / -w[1]\n",
    "x = np.linspace(-0.1, 1.1, 10)\n",
    "plt.plot(x, z0(x, w_and, b_and), 'k--')\n",
    "plt.title('AND')\n",
    "plt.grid()\n",
    "plt.subplot(1, 3, 2) # 1행 3열 중 두번째\n",
    "y_nand = np.array([1, 1, 1, 0])\n",
    "plt.scatter(Xs[:, 0], Xs[:, 1], c=y_nand, cmap='bwr')\n",
    "plt.title('NAND')\n",
    "w_nand = np.array([-0.5, -0.5]); b_nand = 0.7\n",
    "plt.plot(x, z0(x, w_nand, b_nand), 'k--')\n",
    "plt.grid()\n",
    "\n",
    "plt.subplot(1, 3, 3) # 1행 3열 중 세번째\n",
    "y_or = np.array([0, 1, 1, 1])\n",
    "plt.scatter(Xs[:, 0], Xs[:, 1], c=y_or, cmap='bwr')\n",
    "plt.title('OR')\n",
    "w_or = np.array([0.5, 0.5]); b_or = -0.2\n",
    "plt.plot(x, z0(x, w_or, b_or), 'k--')\n",
    "plt.grid()\n",
    "# 결정경계\n",
    "plt.show()"
   ]
  },
  {
   "cell_type": "markdown",
   "id": "9860e4a2",
   "metadata": {},
   "source": [
    "## 1958 퍼셉트론"
   ]
  },
  {
   "cell_type": "code",
   "execution_count": 13,
   "id": "57c84b13",
   "metadata": {},
   "outputs": [
    {
     "data": {
      "text/html": [
       "<div>\n",
       "<style scoped>\n",
       "    .dataframe tbody tr th:only-of-type {\n",
       "        vertical-align: middle;\n",
       "    }\n",
       "\n",
       "    .dataframe tbody tr th {\n",
       "        vertical-align: top;\n",
       "    }\n",
       "\n",
       "    .dataframe thead th {\n",
       "        text-align: right;\n",
       "    }\n",
       "</style>\n",
       "<table border=\"1\" class=\"dataframe\">\n",
       "  <thead>\n",
       "    <tr style=\"text-align: right;\">\n",
       "      <th></th>\n",
       "      <th>0</th>\n",
       "      <th>1</th>\n",
       "      <th>2</th>\n",
       "      <th>3</th>\n",
       "      <th>4</th>\n",
       "      <th>5</th>\n",
       "      <th>6</th>\n",
       "      <th>7</th>\n",
       "      <th>8</th>\n",
       "      <th>9</th>\n",
       "    </tr>\n",
       "  </thead>\n",
       "  <tbody>\n",
       "    <tr>\n",
       "      <th>samples</th>\n",
       "      <td>0</td>\n",
       "      <td>1</td>\n",
       "      <td>2</td>\n",
       "      <td>3</td>\n",
       "      <td>4</td>\n",
       "      <td>5</td>\n",
       "      <td>6</td>\n",
       "      <td>7</td>\n",
       "      <td>8</td>\n",
       "      <td>9</td>\n",
       "    </tr>\n",
       "    <tr>\n",
       "      <th>x &lt; 5</th>\n",
       "      <td>True</td>\n",
       "      <td>True</td>\n",
       "      <td>True</td>\n",
       "      <td>True</td>\n",
       "      <td>True</td>\n",
       "      <td>False</td>\n",
       "      <td>False</td>\n",
       "      <td>False</td>\n",
       "      <td>False</td>\n",
       "      <td>False</td>\n",
       "    </tr>\n",
       "    <tr>\n",
       "      <th>np.where</th>\n",
       "      <td>1</td>\n",
       "      <td>1</td>\n",
       "      <td>1</td>\n",
       "      <td>1</td>\n",
       "      <td>1</td>\n",
       "      <td>-1</td>\n",
       "      <td>-1</td>\n",
       "      <td>-1</td>\n",
       "      <td>-1</td>\n",
       "      <td>-1</td>\n",
       "    </tr>\n",
       "  </tbody>\n",
       "</table>\n",
       "</div>"
      ],
      "text/plain": [
       "             0     1     2     3     4      5      6      7      8      9\n",
       "samples      0     1     2     3     4      5      6      7      8      9\n",
       "x < 5     True  True  True  True  True  False  False  False  False  False\n",
       "np.where     1     1     1     1     1     -1     -1     -1     -1     -1"
      ]
     },
     "execution_count": 13,
     "metadata": {},
     "output_type": "execute_result"
    }
   ],
   "source": [
    "samples = np.arange(10)\n",
    "\n",
    "pd.DataFrame({\n",
    "    'samples': samples,\n",
    "    'x < 5': samples < 5,\n",
    "    'np.where': np.where(samples < 5, 1, -1)\n",
    "}).T"
   ]
  },
  {
   "cell_type": "code",
   "execution_count": 16,
   "id": "637b5522",
   "metadata": {},
   "outputs": [
    {
     "name": "stdout",
     "output_type": "stream",
     "text": [
      "[[ 0.35  0.82  0.33 -1.3 ]\n",
      " [ 0.91  0.45 -0.54  0.58]\n",
      " [ 0.36  0.29  0.03  0.55]]\n",
      "[[ 1  1  1 -1]\n",
      " [ 1  1 -1  1]\n",
      " [ 1  1  1  1]]\n"
     ]
    }
   ],
   "source": [
    "samples = np.random.default_rng(1).normal(0, 1, size=(3, 4))\n",
    "print(samples.round(2))\n",
    "print(np.where(samples > 0, 1, -1))"
   ]
  },
  {
   "cell_type": "code",
   "execution_count": null,
   "id": "69c57da6",
   "metadata": {},
   "outputs": [],
   "source": [
    "from numpy import NAN\n",
    "\n",
    "\n",
    "class 퍼셉트론:\n",
    "    def __init__(self, w=None, b=None):\n",
    "        self.w = w\n",
    "        self.b = b\n",
    "\n",
    "    def __call__(self, x):\n",
    "        z = np.dot(x, self.w) + self.b\n",
    "        y = np.where(z > 0, 1, -1)\n",
    "        return y\n",
    "    \n",
    "    def fit(self, data, target, 학습횟수, 학습률=1.0):\n",
    "        \"\"\"학습 알고리즘\"\"\"\n",
    "        표본수, 특성수 = data.shape\n",
    "        # 매개변수 초기화\n",
    "        self.w = np.zeros(특성수, dtype=np.float32)\n",
    "        self.b = 0.0\n",
    "        매개변수변화 = []\n",
    "        for epoch in range(학습횟수):\n",
    "            매개변수변화.apppend(np.append(self.b, self.w))\n",
    "            # 각 표본별 오차 계산\n",
    "            for xi, yi in zip(data, target):\n",
    "                예측값 = self(xi)\n",
    "                오차 = yi - 예측값\n",
    "                갱신 = 오차 * 학습률\n",
    "                self.w += 갱신 * xi\n",
    "                self.b += 갱신\n",
    "        \n",
    "        return 매개변수변화\n",
    "\n",
    "Xs = np.array([[0, 0], [0, 1], [1, 0], [1, 1]])\n",
    "\n",
    "AND = 퍼셉트론(w=np.array([0.5, 0.5]), b=-0.7)\n",
    "y_and = np.array([-1, -1, -1, 1])\n",
    "assert np.all(AND(Xs) == y_and)\n",
    "\n",
    "NAND = 퍼셉트론(w=np.array([-0.5, -0.5]), b=0.7)\n",
    "y_nand = np.array([1, 1, 1, -1])\n",
    "assert np.all(NAND(Xs) == y_nand)\n",
    "\n",
    "OR = 퍼셉트론(w=np.array([0.5, 0.5]), b=-0.2)\n",
    "y_or = np.array([-1, 1, 1, 1])\n",
    "assert np.all(OR(Xs) == y_or)"
   ]
  },
  {
   "cell_type": "markdown",
   "id": "d08fc54d",
   "metadata": {},
   "source": [
    "Q: 왜 이런 걸 알아야 할까요? 그냥 신경망으로 문제를 푸는데 집중할 수는 없나요?"
   ]
  },
  {
   "cell_type": "code",
   "execution_count": 22,
   "id": "5e26b771",
   "metadata": {},
   "outputs": [],
   "source": [
    "import torch\n",
    "\n",
    "layer1 = torch.nn.Linear(5, 4)\n",
    "layer2 = torch.nn.Linear(4, 3)\n",
    "layer3 = torch.nn.Linear(3, 2)\n",
    "layer4 = torch.nn.Linear(2, 1)\n",
    "\n",
    "Xs = torch.randn(6, 5)\n",
    "z1 = layer1(Xs)\n",
    "# torch.nn.Linear = X @ W^T + b\n",
    "assert torch.allclose(z1, Xs @ layer1.weight.T + layer1.bias)\n",
    "\n",
    "model = torch.nn.Sequential(\n",
    "    layer1, torch.nn.ReLU(),\n",
    "    layer2, torch.nn.ReLU(),\n",
    "    layer3, torch.nn.ReLU(),\n",
    "    layer4\n",
    ")"
   ]
  }
 ],
 "metadata": {
  "kernelspec": {
   "display_name": "pytorch",
   "language": "python",
   "name": "python3"
  },
  "language_info": {
   "codemirror_mode": {
    "name": "ipython",
    "version": 3
   },
   "file_extension": ".py",
   "mimetype": "text/x-python",
   "name": "python",
   "nbconvert_exporter": "python",
   "pygments_lexer": "ipython3",
   "version": "3.10.13"
  }
 },
 "nbformat": 4,
 "nbformat_minor": 5
}
