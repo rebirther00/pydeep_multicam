{
 "cells": [
  {
   "cell_type": "code",
   "execution_count": 1,
   "id": "b5dd3d9d",
   "metadata": {},
   "outputs": [
    {
     "name": "stdout",
     "output_type": "stream",
     "text": [
      "Scikit-learn 1.5.2\n",
      "pyTorch 2.5.1\n",
      "NVIDIA GPU: True\n"
     ]
    }
   ],
   "source": [
    "import numpy\n",
    "import pandas\n",
    "import matplotlib\n",
    "import sklearn\n",
    "import torch\n",
    "\n",
    "print('Scikit-learn', sklearn.__version__)\n",
    "print('pyTorch', torch.__version__)\n",
    "print('NVIDIA GPU:', torch.cuda.is_available())"
   ]
  },
  {
   "cell_type": "code",
   "execution_count": 2,
   "id": "fc274ff3",
   "metadata": {},
   "outputs": [
    {
     "data": {
      "text/plain": [
       "'/home/me/pydeep'"
      ]
     },
     "execution_count": 2,
     "metadata": {},
     "output_type": "execute_result"
    }
   ],
   "source": [
    "%pwd"
   ]
  },
  {
   "cell_type": "code",
   "execution_count": 6,
   "id": "0a9b4d46",
   "metadata": {},
   "outputs": [
    {
     "name": "stdout",
     "output_type": "stream",
     "text": [
      "<class 'list'> 10\n",
      "[0, 1, 2, 3, 4, 5, 6, 7, 8, 9]\n",
      "[0, 1, 2, 3, 4, 5, 6, 7, 8, 9, 0, 1, 2, 3, 4, 5, 6, 7, 8, 9]\n",
      "[0, 2, 4, 6, 8, 10, 12, 14, 16, 18]\n"
     ]
    },
    {
     "ename": "AssertionError",
     "evalue": "같지 않음",
     "output_type": "error",
     "traceback": [
      "\u001b[0;31m---------------------------------------------------------------------------\u001b[0m",
      "\u001b[0;31mAssertionError\u001b[0m                            Traceback (most recent call last)",
      "Cell \u001b[0;32mIn[6], line 13\u001b[0m\n\u001b[1;32m     11\u001b[0m x2 \u001b[38;5;241m=\u001b[39m [원소 \u001b[38;5;241m*\u001b[39m \u001b[38;5;241m2\u001b[39m \u001b[38;5;28;01mfor\u001b[39;00m 원소 \u001b[38;5;129;01min\u001b[39;00m x]\n\u001b[1;32m     12\u001b[0m \u001b[38;5;28mprint\u001b[39m(x2)\n\u001b[0;32m---> 13\u001b[0m \u001b[38;5;28;01massert\u001b[39;00m x2 \u001b[38;5;241m==\u001b[39m x \u001b[38;5;241m*\u001b[39m \u001b[38;5;241m2\u001b[39m, \u001b[38;5;124m'\u001b[39m\u001b[38;5;124m같지 않음\u001b[39m\u001b[38;5;124m'\u001b[39m\n",
      "\u001b[0;31mAssertionError\u001b[0m: 같지 않음"
     ]
    }
   ],
   "source": [
    "import numpy as np\n",
    "\n",
    "x = list(range(10))\n",
    "print(type(x),len(x))\n",
    "print(x)\n",
    "\n",
    "print(x + x)\n",
    "assert x + x == x * 2\n",
    "\n",
    "#원소별 곱하기\n",
    "x2 = [원소 * 2 for 원소 in x]\n",
    "print(x2)\n",
    "assert x2 == x * 2, '같지 않음'\n"
   ]
  },
  {
   "cell_type": "code",
   "execution_count": null,
   "id": "978a789d",
   "metadata": {},
   "outputs": [],
   "source": []
  }
 ],
 "metadata": {
  "kernelspec": {
   "display_name": "pytorch",
   "language": "python",
   "name": "python3"
  },
  "language_info": {
   "codemirror_mode": {
    "name": "ipython",
    "version": 3
   },
   "file_extension": ".py",
   "mimetype": "text/x-python",
   "name": "python",
   "nbconvert_exporter": "python",
   "pygments_lexer": "ipython3",
   "version": "3.10.13"
  }
 },
 "nbformat": 4,
 "nbformat_minor": 5
}
